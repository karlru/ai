{
  "cells": [
    {
      "cell_type": "markdown",
      "metadata": {
        "collapsed": true,
        "id": "HG2ZWt6eg3RX"
      },
      "source": [
        "# Praktikum 4: tehisnärvivõrgud (2)"
      ]
    },
    {
      "cell_type": "code",
      "execution_count": 4,
      "metadata": {
        "id": "LlH4tNdpj0nI",
        "colab": {
          "base_uri": "https://localhost:8080/"
        },
        "outputId": "48468903-32b6-4012-dc32-35eff6c8755d"
      },
      "outputs": [
        {
          "output_type": "stream",
          "name": "stdout",
          "text": [
            "Drive already mounted at /content/drive; to attempt to forcibly remount, call drive.mount(\"/content/drive\", force_remount=True).\n"
          ]
        }
      ],
      "source": [
        "import os\n",
        "from google.colab import drive\n",
        "drive.mount('/content/drive')\n",
        "os.chdir(\"/content/drive/My Drive/Colab Notebooks/ai\")"
      ]
    },
    {
      "cell_type": "code",
      "execution_count": 2,
      "metadata": {
        "id": "Ah3sKcEyK1mR"
      },
      "outputs": [],
      "source": [
        "# Numpy\n",
        "import numpy as np\n",
        "\n",
        "# Keras\n",
        "from keras.layers import Dense, Input, BatchNormalization\n",
        "from keras.models import Sequential\n",
        "from tensorflow.keras.optimizers import SGD\n",
        "from keras.models import load_model\n",
        "\n",
        "# Pandas\n",
        "import pandas as pd\n",
        "\n",
        "# Sklearn\n",
        "import sklearn.preprocessing\n",
        "import sklearn.utils\n",
        "from sklearn.model_selection import train_test_split\n",
        "\n",
        "# Visualiseerimine\n",
        "import matplotlib.pyplot as plt\n",
        "%matplotlib inline"
      ]
    },
    {
      "cell_type": "markdown",
      "metadata": {
        "id": "ikzkc9SohpJ7"
      },
      "source": [
        "## Sissejuhatus"
      ]
    },
    {
      "cell_type": "markdown",
      "metadata": {
        "id": "7tWUd9vmv2Pl"
      },
      "source": [
        "### Mudel\n",
        "\n",
        "Kuna hakkame katsetama erinevate mudelite, andmete ja parameetritega ning tulemusi võrdlema, oleks mõistlik luua funktsioon, mis tagastab mudeli vastavalt etteantud parameetritele. \n",
        "\n",
        "Epohhide arvud on juhendis hoitud võimalikult väikesed, et kõik katsed oleksid praktikumi vältel läbitavad. Tegelikult ei anna nii madalate epohhide arvudega treenimine kindlasti adekvaatseid tulemusi, kuid kui treenimise käigus on näha tulemuste stabiliseerumine, siis järelikult ei aita epohhide arvu suurendamine tulemusi parandada."
      ]
    },
    {
      "cell_type": "markdown",
      "metadata": {
        "id": "_Nglb5IXiPJz"
      },
      "source": [
        "#### Ülesanne\n",
        "\n",
        "Looge funktsioon, mis saab argumentidena ette muutujad \"inputshape\" (sisendi pikkus, vt. eelmist praktikumi) \"loss\" (kao väärtuse arvutamise strateegia, näiteks \"mean_squared_error\") ja \"opt\" (optimeerimisfunktsiooni nimi, näiteks \"sgd\") ning tagastab eelmises praktikumis vaadatud keerulisema mudeli, mis on kompileeritud etteantud parameetritega."
      ]
    },
    {
      "cell_type": "code",
      "execution_count": 19,
      "metadata": {
        "id": "ZuBMGWLzhpXr"
      },
      "outputs": [],
      "source": [
        "def model(inputshape, loss, opt):\n",
        "    mdl = Sequential()\n",
        "\n",
        "    mdl.add(Dense(64, activation=\"tanh\", input_shape=(inputshape,)))\n",
        "    mdl.add(BatchNormalization())\n",
        "    mdl.add(Dense(32, activation=\"tanh\"))\n",
        "    mdl.add(BatchNormalization())\n",
        "    mdl.add(Dense(16, activation=\"selu\"))\n",
        "    mdl.add(BatchNormalization())\n",
        "    mdl.add(Dense(7, activation=\"linear\"))\n",
        "    mdl.add(Dense(1, activation=\"linear\"))\n",
        "\n",
        "    mdl.compile(loss=loss, optimizer=opt)\n",
        "    return mdl"
      ]
    },
    {
      "cell_type": "markdown",
      "metadata": {
        "id": "kiVfRYwgmGD4"
      },
      "source": [
        "### Andmed\n",
        "\n",
        "Samuti otsime üles eelmise praktikumi teemantide andmefaili, ka seda läheb selles praktikumis vaja. "
      ]
    },
    {
      "cell_type": "code",
      "execution_count": 50,
      "metadata": {
        "id": "hUSNOrlVmII9",
        "colab": {
          "base_uri": "https://localhost:8080/"
        },
        "outputId": "376e182c-534a-4649-eb73-7cc030512bfa"
      },
      "outputs": [
        {
          "output_type": "stream",
          "name": "stdout",
          "text": [
            "['Unnamed: 0', 'carat', 'cut', 'color', 'clarity', 'depth', 'table', 'price', 'x', 'y', 'z']\n"
          ]
        }
      ],
      "source": [
        "failinimi = 'diamonds.csv'\n",
        "teemandid = pd.read_csv(failinimi, delimiter=\",\")\n",
        "tunnused = [i for i in teemandid]\n",
        "print(tunnused)\n",
        "teemandid = sklearn.utils.shuffle(teemandid)"
      ]
    },
    {
      "cell_type": "markdown",
      "metadata": {
        "id": "wc7fLMT9yiIR"
      },
      "source": [
        "Normaliseerime arvulised andmed."
      ]
    },
    {
      "cell_type": "code",
      "execution_count": 51,
      "metadata": {
        "id": "d8Rys6JhyiQV"
      },
      "outputs": [],
      "source": [
        "scaler = sklearn.preprocessing.MinMaxScaler()\n",
        "teemandid[[\"carat\", \"depth\", \"table\", \"x\", \"y\", \"z\"]] = scaler.fit_transform(teemandid[[\"carat\", \"depth\", \"table\", \"x\", \"y\", \"z\"]])\n",
        "\n",
        "scaler_y = sklearn.preprocessing.MinMaxScaler()\n",
        "teemandid[[\"price\"]] = scaler_y.fit_transform(teemandid[[\"price\"]])"
      ]
    },
    {
      "cell_type": "markdown",
      "metadata": {
        "id": "vDuNLMOM9e9d"
      },
      "source": [
        "**NB!** Paneme tähele, et me treenime normaliseerijat ja saame seda kasutada tulevikus ka vastupidiseks operatsiooniks, kus teisendame normaliseeritud andmed taas tagasi algsesse suurusjärku (meetodi *inverse_transform* abil). Aga sellest praktikumi lõpus."
      ]
    },
    {
      "cell_type": "markdown",
      "metadata": {
        "id": "AtKYalUymT6r"
      },
      "source": [
        "Ka selles praktikumis ennustame teemandi hindasid, kuid tunnustena loeme sisse kõik tulbad (välja arvatud ID ja ennustatav tunnus *price*), mitte ainult numbrilised. "
      ]
    },
    {
      "cell_type": "code",
      "execution_count": 52,
      "metadata": {
        "id": "FpF43f5Y1XVt"
      },
      "outputs": [],
      "source": [
        "X = teemandid.drop(columns = ['Unnamed: 0', 'price'])\n",
        "y = teemandid[['price']]"
      ]
    },
    {
      "cell_type": "markdown",
      "metadata": {
        "id": "nJFSp0rnvupD"
      },
      "source": [
        "### Mudeli katsetamine"
      ]
    },
    {
      "cell_type": "markdown",
      "metadata": {
        "id": "Uw2Hx2Mmxcqa"
      },
      "source": [
        "#### Ülesanne\n",
        "\n",
        "Katsetage oma funktsiooni sarnaselt eelmisele korrale. Muudame praegu X-hulka (jätame alles vaid õiged tulbad), aga arvestame, et hilisemates ülesannetes loeme andmed uuesti sisse! "
      ]
    },
    {
      "cell_type": "code",
      "execution_count": 11,
      "metadata": {
        "id": "-iw9qgLfvt0u"
      },
      "outputs": [],
      "source": [
        "X = X[[\"carat\", \"depth\", \"table\", \"x\", \"y\", \"z\"]]"
      ]
    },
    {
      "cell_type": "code",
      "execution_count": 20,
      "metadata": {
        "id": "eBWkl3c4xZtM",
        "colab": {
          "base_uri": "https://localhost:8080/"
        },
        "outputId": "87d4a2a4-49ac-44fc-c0dc-323e3617685f"
      },
      "outputs": [
        {
          "output_type": "stream",
          "name": "stdout",
          "text": [
            "Epoch 1/40\n",
            "169/169 [==============================] - 2s 4ms/step - loss: 0.0593 - val_loss: 0.0538\n",
            "Epoch 2/40\n",
            "169/169 [==============================] - 0s 3ms/step - loss: 0.0082 - val_loss: 0.0504\n",
            "Epoch 3/40\n",
            "169/169 [==============================] - 0s 3ms/step - loss: 0.0073 - val_loss: 0.0309\n",
            "Epoch 4/40\n",
            "169/169 [==============================] - 0s 3ms/step - loss: 0.0069 - val_loss: 0.0159\n",
            "Epoch 5/40\n",
            "169/169 [==============================] - 0s 3ms/step - loss: 0.0067 - val_loss: 0.0098\n",
            "Epoch 6/40\n",
            "169/169 [==============================] - 0s 3ms/step - loss: 0.0064 - val_loss: 0.0065\n",
            "Epoch 7/40\n",
            "169/169 [==============================] - 0s 3ms/step - loss: 0.0063 - val_loss: 0.0065\n",
            "Epoch 8/40\n",
            "169/169 [==============================] - 0s 3ms/step - loss: 0.0062 - val_loss: 0.0067\n",
            "Epoch 9/40\n",
            "169/169 [==============================] - 1s 3ms/step - loss: 0.0062 - val_loss: 0.0067\n",
            "Epoch 10/40\n",
            "169/169 [==============================] - 0s 3ms/step - loss: 0.0064 - val_loss: 0.0061\n",
            "Epoch 11/40\n",
            "169/169 [==============================] - 0s 3ms/step - loss: 0.0060 - val_loss: 0.0076\n",
            "Epoch 12/40\n",
            "169/169 [==============================] - 0s 3ms/step - loss: 0.0062 - val_loss: 0.0076\n",
            "Epoch 13/40\n",
            "169/169 [==============================] - 0s 3ms/step - loss: 0.0063 - val_loss: 0.0062\n",
            "Epoch 14/40\n",
            "169/169 [==============================] - 0s 3ms/step - loss: 0.0062 - val_loss: 0.0075\n",
            "Epoch 15/40\n",
            "169/169 [==============================] - 0s 3ms/step - loss: 0.0061 - val_loss: 0.0077\n",
            "Epoch 16/40\n",
            "169/169 [==============================] - 0s 3ms/step - loss: 0.0060 - val_loss: 0.0070\n",
            "Epoch 17/40\n",
            "169/169 [==============================] - 0s 3ms/step - loss: 0.0061 - val_loss: 0.0070\n",
            "Epoch 18/40\n",
            "169/169 [==============================] - 0s 3ms/step - loss: 0.0060 - val_loss: 0.0063\n",
            "Epoch 19/40\n",
            "169/169 [==============================] - 0s 3ms/step - loss: 0.0060 - val_loss: 0.0090\n",
            "Epoch 20/40\n",
            "169/169 [==============================] - 0s 3ms/step - loss: 0.0061 - val_loss: 0.0063\n",
            "Epoch 21/40\n",
            "169/169 [==============================] - 0s 3ms/step - loss: 0.0060 - val_loss: 0.0086\n",
            "Epoch 22/40\n",
            "169/169 [==============================] - 0s 3ms/step - loss: 0.0059 - val_loss: 0.0071\n",
            "Epoch 23/40\n",
            "169/169 [==============================] - 0s 3ms/step - loss: 0.0060 - val_loss: 0.0064\n",
            "Epoch 24/40\n",
            "169/169 [==============================] - 0s 3ms/step - loss: 0.0059 - val_loss: 0.0063\n",
            "Epoch 25/40\n",
            "169/169 [==============================] - 0s 3ms/step - loss: 0.0060 - val_loss: 0.0066\n",
            "Epoch 26/40\n",
            "169/169 [==============================] - 1s 3ms/step - loss: 0.0060 - val_loss: 0.0085\n",
            "Epoch 27/40\n",
            "169/169 [==============================] - 0s 3ms/step - loss: 0.0058 - val_loss: 0.0075\n",
            "Epoch 28/40\n",
            "169/169 [==============================] - 0s 3ms/step - loss: 0.0058 - val_loss: 0.0066\n",
            "Epoch 29/40\n",
            "169/169 [==============================] - 0s 3ms/step - loss: 0.0059 - val_loss: 0.0068\n",
            "Epoch 30/40\n",
            "169/169 [==============================] - 1s 3ms/step - loss: 0.0060 - val_loss: 0.0067\n",
            "Epoch 31/40\n",
            "169/169 [==============================] - 0s 3ms/step - loss: 0.0060 - val_loss: 0.0108\n",
            "Epoch 32/40\n",
            "169/169 [==============================] - 0s 3ms/step - loss: 0.0059 - val_loss: 0.0072\n",
            "Epoch 33/40\n",
            "169/169 [==============================] - 0s 3ms/step - loss: 0.0058 - val_loss: 0.0088\n",
            "Epoch 34/40\n",
            "169/169 [==============================] - 0s 3ms/step - loss: 0.0061 - val_loss: 0.0088\n",
            "Epoch 35/40\n",
            "169/169 [==============================] - 0s 3ms/step - loss: 0.0060 - val_loss: 0.0076\n",
            "Epoch 36/40\n",
            "169/169 [==============================] - 0s 3ms/step - loss: 0.0060 - val_loss: 0.0068\n",
            "Epoch 37/40\n",
            "169/169 [==============================] - 0s 3ms/step - loss: 0.0058 - val_loss: 0.0061\n",
            "Epoch 38/40\n",
            "169/169 [==============================] - 0s 3ms/step - loss: 0.0059 - val_loss: 0.0061\n",
            "Epoch 39/40\n",
            "169/169 [==============================] - 0s 3ms/step - loss: 0.0058 - val_loss: 0.0064\n",
            "Epoch 40/40\n",
            "169/169 [==============================] - 0s 3ms/step - loss: 0.0058 - val_loss: 0.0065\n"
          ]
        }
      ],
      "source": [
        "X_train, X_test, y_train, y_test = train_test_split(X, y, test_size=0.2, random_state=6)\n",
        "\n",
        "mdl = model(X_train.shape[1], 'mean_squared_error', 'adam')\n",
        "hist = mdl.fit(X_train, y_train, validation_data = (X_test, y_test), epochs=40, batch_size=256)"
      ]
    },
    {
      "cell_type": "code",
      "execution_count": 21,
      "metadata": {
        "id": "pED6PyHn1a05",
        "colab": {
          "base_uri": "https://localhost:8080/",
          "height": 283
        },
        "outputId": "00487d2c-a73a-415c-ec0c-a4c0e3f027eb"
      },
      "outputs": [
        {
          "output_type": "execute_result",
          "data": {
            "text/plain": [
              "[<matplotlib.lines.Line2D at 0x7fccb7e04610>]"
            ]
          },
          "metadata": {},
          "execution_count": 21
        },
        {
          "output_type": "display_data",
          "data": {
            "text/plain": [
              "<Figure size 432x288 with 1 Axes>"
            ],
            "image/png": "[encoded data removed]"
          },
          "metadata": {
            "needs_background": "light"
          }
        }
      ],
      "source": [
        "plt.plot(hist.history[\"loss\"])"
      ]
    },
    {
      "cell_type": "markdown",
      "metadata": {
        "id": "bassJzYgnwLV"
      },
      "source": [
        "## Nominaalsete tunnuste teisendamine\n",
        "\n",
        "Tehisnärvivõrgud töötavad numbriliste tunnustega, aga meie teemandeid iseloomustavad ka erinevad tekstilised väärtused: viimistlus (*cut*), värv (*color*) ja läbipaistvus (*clarity*). Mõistliku eeltöötluse tegemiseks peaksime uurima andmete kirjeldust (näiteks nende allikast https://www.kaggle.com/shivam2503/diamonds). \n",
        "\n",
        "Vahel võime tekstilisi andmeid käsitleda kui klasse, kuid vahel võivad need iseloomustada ka skaalat (näiteks praegusel juhul): https://medium.com/@contactsunny/label-encoder-vs-one-hot-encoder-in-machine-learning-3fc273365621 "
      ]
    },
    {
      "cell_type": "markdown",
      "metadata": {
        "id": "ft3eosG9y_VA"
      },
      "source": [
        "#### Ülesanne\n",
        "\n",
        "Teisendage viimistluse kohta käivad andmed numbrilisteks, kasutades 1-hot vektoreid, aga hoidke ka algne veerg alles. Kontrollige, kas tulemus on õige. Seejärel võrrelge, kuidas muutub hinna ennustamise täpsus võrreldes eelmise variandiga, kui:\n",
        "- kasutate ainult uusi vektoreid;\n",
        "- kasutate uusi vektoreid koos seniste numbriliste tunnustega. \n",
        "\n",
        "Võrdlemisel kasutage muidugi samu epohhide arve."
      ]
    },
    {
      "cell_type": "code",
      "source": [
        "teemandid"
      ],
      "metadata": {
        "colab": {
          "base_uri": "https://localhost:8080/",
          "height": 424
        },
        "id": "eZsv7PNTs_un",
        "outputId": "7786a92c-7243-4213-db10-40eec163a27c"
      },
      "execution_count": 27,
      "outputs": [
        {
          "output_type": "execute_result",
          "data": {
            "text/plain": [
              "       Unnamed: 0     carat      cut color clarity     depth     table  \\\n",
              "3076         3077  0.145530  Premium     D     SI2  0.541667  0.307692   \n",
              "44231       44232  0.081081  Premium     D     SI2  0.505556  0.326923   \n",
              "37376       37377  0.041580    Ideal     I      IF  0.538889  0.250000   \n",
              "27193       27194  0.376299    Ideal     G     SI1  0.450000  0.269231   \n",
              "6898         6899  0.110187    Ideal     D     VS2  0.491667  0.269231   \n",
              "...           ...       ...      ...   ...     ...       ...       ...   \n",
              "21988       21989  0.207900  Premium     G    VVS2  0.505556  0.288462   \n",
              "8250         8251  0.216216     Fair     F     SI2  0.608333  0.326923   \n",
              "6891         6892  0.166320    Ideal     I     SI1  0.516667  0.307692   \n",
              "50230       50231  0.103950    Ideal     I     VS2  0.533333  0.230769   \n",
              "34259       34260  0.020790    Ideal     F    VVS1  0.544444  0.250000   \n",
              "\n",
              "          price         x         y         z  \n",
              "3076   0.161432  0.575419  0.104075  0.121069  \n",
              "44231  0.067362  0.504655  0.091171  0.103774  \n",
              "37376  0.035465  0.437616  0.080306  0.092453  \n",
              "27193  0.928042  0.766294  0.139049  0.152830  \n",
              "6898   0.205871  0.543762  0.099830  0.111635  \n",
              "...         ...       ...       ...       ...  \n",
              "21988  0.525869  0.640596  0.116129  0.132075  \n",
              "8250   0.218900  0.623836  0.112564  0.135849  \n",
              "6891   0.205817  0.590317  0.108998  0.123585  \n",
              "50230  0.103044  0.527002  0.096604  0.111006  \n",
              "34259  0.028707  0.396648  0.072835  0.083962  \n",
              "\n",
              "[53940 rows x 11 columns]"
            ],
            "text/html": [
              "\n",
              "  <div id=\"df-8c40d3bb-265f-46e8-a05a-7f689ff6414e\">\n",
              "    <div class=\"colab-df-container\">\n",
              "      <div>\n",
              "<style scoped>\n",
              "    .dataframe tbody tr th:only-of-type {\n",
              "        vertical-align: middle;\n",
              "    }\n",
              "\n",
              "    .dataframe tbody tr th {\n",
              "        vertical-align: top;\n",
              "    }\n",
              "\n",
              "    .dataframe thead th {\n",
              "        text-align: right;\n",
              "    }\n",
              "</style>\n",
              "<table border=\"1\" class=\"dataframe\">\n",
              "  <thead>\n",
              "    <tr style=\"text-align: right;\">\n",
              "      <th></th>\n",
              "      <th>Unnamed: 0</th>\n",
              "      <th>carat</th>\n",
              "      <th>cut</th>\n",
              "      <th>color</th>\n",
              "      <th>clarity</th>\n",
              "      <th>depth</th>\n",
              "      <th>table</th>\n",
              "      <th>price</th>\n",
              "      <th>x</th>\n",
              "      <th>y</th>\n",
              "      <th>z</th>\n",
              "    </tr>\n",
              "  </thead>\n",
              "  <tbody>\n",
              "    <tr>\n",
              "      <th>3076</th>\n",
              "      <td>3077</td>\n",
              "      <td>0.145530</td>\n",
              "      <td>Premium</td>\n",
              "      <td>D</td>\n",
              "      <td>SI2</td>\n",
              "      <td>0.541667</td>\n",
              "      <td>0.307692</td>\n",
              "      <td>0.161432</td>\n",
              "      <td>0.575419</td>\n",
              "      <td>0.104075</td>\n",
              "      <td>0.121069</td>\n",
              "    </tr>\n",
              "    <tr>\n",
              "      <th>44231</th>\n",
              "      <td>44232</td>\n",
              "      <td>0.081081</td>\n",
              "      <td>Premium</td>\n",
              "      <td>D</td>\n",
              "      <td>SI2</td>\n",
              "      <td>0.505556</td>\n",
              "      <td>0.326923</td>\n",
              "      <td>0.067362</td>\n",
              "      <td>0.504655</td>\n",
              "      <td>0.091171</td>\n",
              "      <td>0.103774</td>\n",
              "    </tr>\n",
              "    <tr>\n",
              "      <th>37376</th>\n",
              "      <td>37377</td>\n",
              "      <td>0.041580</td>\n",
              "      <td>Ideal</td>\n",
              "      <td>I</td>\n",
              "      <td>IF</td>\n",
              "      <td>0.538889</td>\n",
              "      <td>0.250000</td>\n",
              "      <td>0.035465</td>\n",
              "      <td>0.437616</td>\n",
              "      <td>0.080306</td>\n",
              "      <td>0.092453</td>\n",
              "    </tr>\n",
              "    <tr>\n",
              "      <th>27193</th>\n",
              "      <td>27194</td>\n",
              "      <td>0.376299</td>\n",
              "      <td>Ideal</td>\n",
              "      <td>G</td>\n",
              "      <td>SI1</td>\n",
              "      <td>0.450000</td>\n",
              "      <td>0.269231</td>\n",
              "      <td>0.928042</td>\n",
              "      <td>0.766294</td>\n",
              "      <td>0.139049</td>\n",
              "      <td>0.152830</td>\n",
              "    </tr>\n",
              "    <tr>\n",
              "      <th>6898</th>\n",
              "      <td>6899</td>\n",
              "      <td>0.110187</td>\n",
              "      <td>Ideal</td>\n",
              "      <td>D</td>\n",
              "      <td>VS2</td>\n",
              "      <td>0.491667</td>\n",
              "      <td>0.269231</td>\n",
              "      <td>0.205871</td>\n",
              "      <td>0.543762</td>\n",
              "      <td>0.099830</td>\n",
              "      <td>0.111635</td>\n",
              "    </tr>\n",
              "    <tr>\n",
              "      <th>...</th>\n",
              "      <td>...</td>\n",
              "      <td>...</td>\n",
              "      <td>...</td>\n",
              "      <td>...</td>\n",
              "      <td>...</td>\n",
              "      <td>...</td>\n",
              "      <td>...</td>\n",
              "      <td>...</td>\n",
              "      <td>...</td>\n",
              "      <td>...</td>\n",
              "      <td>...</td>\n",
              "    </tr>\n",
              "    <tr>\n",
              "      <th>21988</th>\n",
              "      <td>21989</td>\n",
              "      <td>0.207900</td>\n",
              "      <td>Premium</td>\n",
              "      <td>G</td>\n",
              "      <td>VVS2</td>\n",
              "      <td>0.505556</td>\n",
              "      <td>0.288462</td>\n",
              "      <td>0.525869</td>\n",
              "      <td>0.640596</td>\n",
              "      <td>0.116129</td>\n",
              "      <td>0.132075</td>\n",
              "    </tr>\n",
              "    <tr>\n",
              "      <th>8250</th>\n",
              "      <td>8251</td>\n",
              "      <td>0.216216</td>\n",
              "      <td>Fair</td>\n",
              "      <td>F</td>\n",
              "      <td>SI2</td>\n",
              "      <td>0.608333</td>\n",
              "      <td>0.326923</td>\n",
              "      <td>0.218900</td>\n",
              "      <td>0.623836</td>\n",
              "      <td>0.112564</td>\n",
              "      <td>0.135849</td>\n",
              "    </tr>\n",
              "    <tr>\n",
              "      <th>6891</th>\n",
              "      <td>6892</td>\n",
              "      <td>0.166320</td>\n",
              "      <td>Ideal</td>\n",
              "      <td>I</td>\n",
              "      <td>SI1</td>\n",
              "      <td>0.516667</td>\n",
              "      <td>0.307692</td>\n",
              "      <td>0.205817</td>\n",
              "      <td>0.590317</td>\n",
              "      <td>0.108998</td>\n",
              "      <td>0.123585</td>\n",
              "    </tr>\n",
              "    <tr>\n",
              "      <th>50230</th>\n",
              "      <td>50231</td>\n",
              "      <td>0.103950</td>\n",
              "      <td>Ideal</td>\n",
              "      <td>I</td>\n",
              "      <td>VS2</td>\n",
              "      <td>0.533333</td>\n",
              "      <td>0.230769</td>\n",
              "      <td>0.103044</td>\n",
              "      <td>0.527002</td>\n",
              "      <td>0.096604</td>\n",
              "      <td>0.111006</td>\n",
              "    </tr>\n",
              "    <tr>\n",
              "      <th>34259</th>\n",
              "      <td>34260</td>\n",
              "      <td>0.020790</td>\n",
              "      <td>Ideal</td>\n",
              "      <td>F</td>\n",
              "      <td>VVS1</td>\n",
              "      <td>0.544444</td>\n",
              "      <td>0.250000</td>\n",
              "      <td>0.028707</td>\n",
              "      <td>0.396648</td>\n",
              "      <td>0.072835</td>\n",
              "      <td>0.083962</td>\n",
              "    </tr>\n",
              "  </tbody>\n",
              "</table>\n",
              "<p>53940 rows × 11 columns</p>\n",
              "</div>\n",
              "      <button class=\"colab-df-convert\" onclick=\"convertToInteractive('df-8c40d3bb-265f-46e8-a05a-7f689ff6414e')\"\n",
              "              title=\"Convert this dataframe to an interactive table.\"\n",
              "              style=\"display:none;\">\n",
              "        \n",
              "  <svg xmlns=\"http://www.w3.org/2000/svg\" height=\"24px\"viewBox=\"0 0 24 24\"\n",
              "       width=\"24px\">\n",
              "    <path d=\"M0 0h24v24H0V0z\" fill=\"none\"/>\n",
              "    <path d=\"M18.56 5.44l.94 2.06.94-2.06 2.06-.94-2.06-.94-.94-2.06-.94 2.06-2.06.94zm-11 1L8.5 8.5l.94-2.06 2.06-.94-2.06-.94L8.5 2.5l-.94 2.06-2.06.94zm10 10l.94 2.06.94-2.06 2.06-.94-2.06-.94-.94-2.06-.94 2.06-2.06.94z\"/><path d=\"M17.41 7.96l-1.37-1.37c-.4-.4-.92-.59-1.43-.59-.52 0-1.04.2-1.43.59L10.3 9.45l-7.72 7.72c-.78.78-.78 2.05 0 2.83L4 21.41c.39.39.9.59 1.41.59.51 0 1.02-.2 1.41-.59l7.78-7.78 2.81-2.81c.8-.78.8-2.07 0-2.86zM5.41 20L4 18.59l7.72-7.72 1.47 1.35L5.41 20z\"/>\n",
              "  </svg>\n",
              "      </button>\n",
              "      \n",
              "  <style>\n",
              "    .colab-df-container {\n",
              "      display:flex;\n",
              "      flex-wrap:wrap;\n",
              "      gap: 12px;\n",
              "    }\n",
              "\n",
              "    .colab-df-convert {\n",
              "      background-color: #E8F0FE;\n",
              "      border: none;\n",
              "      border-radius: 50%;\n",
              "      cursor: pointer;\n",
              "      display: none;\n",
              "      fill: #1967D2;\n",
              "      height: 32px;\n",
              "      padding: 0 0 0 0;\n",
              "      width: 32px;\n",
              "    }\n",
              "\n",
              "    .colab-df-convert:hover {\n",
              "      background-color: #E2EBFA;\n",
              "      box-shadow: 0px 1px 2px rgba(60, 64, 67, 0.3), 0px 1px 3px 1px rgba(60, 64, 67, 0.15);\n",
              "      fill: #174EA6;\n",
              "    }\n",
              "\n",
              "    [theme=dark] .colab-df-convert {\n",
              "      background-color: #3B4455;\n",
              "      fill: #D2E3FC;\n",
              "    }\n",
              "\n",
              "    [theme=dark] .colab-df-convert:hover {\n",
              "      background-color: #434B5C;\n",
              "      box-shadow: 0px 1px 3px 1px rgba(0, 0, 0, 0.15);\n",
              "      filter: drop-shadow(0px 1px 2px rgba(0, 0, 0, 0.3));\n",
              "      fill: #FFFFFF;\n",
              "    }\n",
              "  </style>\n",
              "\n",
              "      <script>\n",
              "        const buttonEl =\n",
              "          document.querySelector('#df-8c40d3bb-265f-46e8-a05a-7f689ff6414e button.colab-df-convert');\n",
              "        buttonEl.style.display =\n",
              "          google.colab.kernel.accessAllowed ? 'block' : 'none';\n",
              "\n",
              "        async function convertToInteractive(key) {\n",
              "          const element = document.querySelector('#df-8c40d3bb-265f-46e8-a05a-7f689ff6414e');\n",
              "          const dataTable =\n",
              "            await google.colab.kernel.invokeFunction('convertToInteractive',\n",
              "                                                     [key], {});\n",
              "          if (!dataTable) return;\n",
              "\n",
              "          const docLinkHtml = 'Like what you see? Visit the ' +\n",
              "            '<a target=\"_blank\" href=https://colab.research.google.com/notebooks/data_table.ipynb>data table notebook</a>'\n",
              "            + ' to learn more about interactive tables.';\n",
              "          element.innerHTML = '';\n",
              "          dataTable['output_type'] = 'display_data';\n",
              "          await google.colab.output.renderOutput(dataTable, element);\n",
              "          const docLink = document.createElement('div');\n",
              "          docLink.innerHTML = docLinkHtml;\n",
              "          element.appendChild(docLink);\n",
              "        }\n",
              "      </script>\n",
              "    </div>\n",
              "  </div>\n",
              "  "
            ]
          },
          "metadata": {},
          "execution_count": 27
        }
      ]
    },
    {
      "cell_type": "code",
      "execution_count": 64,
      "metadata": {
        "id": "2wuQXrwh0osm",
        "colab": {
          "base_uri": "https://localhost:8080/",
          "height": 224
        },
        "outputId": "823b9f8e-e5ec-4b47-8505-bfecb38b544f"
      },
      "outputs": [
        {
          "output_type": "stream",
          "name": "stdout",
          "text": [
            "(53940, 9)\n"
          ]
        },
        {
          "output_type": "execute_result",
          "data": {
            "text/plain": [
              "          carat      cut color clarity     depth     table         x  \\\n",
              "53877  0.118503  Premium     F     SI1  0.472222  0.346154  0.555866   \n",
              "12088  0.224532  Premium     H     SI2  0.541667  0.365385  0.641527   \n",
              "28164  0.020790    Ideal     H    VVS1  0.533333  0.230769  0.400372   \n",
              "26354  0.024948  Premium     F     VS2  0.508333  0.326923  0.406890   \n",
              "31910  0.020790    Ideal     G     VS1  0.544444  0.269231  0.399441   \n",
              "\n",
              "              y         z  \n",
              "53877  0.100679  0.112264  \n",
              "12088  0.116129  0.135220  \n",
              "28164  0.073345  0.084277  \n",
              "26354  0.074703  0.084591  \n",
              "31910  0.072496  0.084277  "
            ],
            "text/html": [
              "\n",
              "  <div id=\"df-b23aa985-8f3c-4691-b698-04878fc3853b\">\n",
              "    <div class=\"colab-df-container\">\n",
              "      <div>\n",
              "<style scoped>\n",
              "    .dataframe tbody tr th:only-of-type {\n",
              "        vertical-align: middle;\n",
              "    }\n",
              "\n",
              "    .dataframe tbody tr th {\n",
              "        vertical-align: top;\n",
              "    }\n",
              "\n",
              "    .dataframe thead th {\n",
              "        text-align: right;\n",
              "    }\n",
              "</style>\n",
              "<table border=\"1\" class=\"dataframe\">\n",
              "  <thead>\n",
              "    <tr style=\"text-align: right;\">\n",
              "      <th></th>\n",
              "      <th>carat</th>\n",
              "      <th>cut</th>\n",
              "      <th>color</th>\n",
              "      <th>clarity</th>\n",
              "      <th>depth</th>\n",
              "      <th>table</th>\n",
              "      <th>x</th>\n",
              "      <th>y</th>\n",
              "      <th>z</th>\n",
              "    </tr>\n",
              "  </thead>\n",
              "  <tbody>\n",
              "    <tr>\n",
              "      <th>53877</th>\n",
              "      <td>0.118503</td>\n",
              "      <td>Premium</td>\n",
              "      <td>F</td>\n",
              "      <td>SI1</td>\n",
              "      <td>0.472222</td>\n",
              "      <td>0.346154</td>\n",
              "      <td>0.555866</td>\n",
              "      <td>0.100679</td>\n",
              "      <td>0.112264</td>\n",
              "    </tr>\n",
              "    <tr>\n",
              "      <th>12088</th>\n",
              "      <td>0.224532</td>\n",
              "      <td>Premium</td>\n",
              "      <td>H</td>\n",
              "      <td>SI2</td>\n",
              "      <td>0.541667</td>\n",
              "      <td>0.365385</td>\n",
              "      <td>0.641527</td>\n",
              "      <td>0.116129</td>\n",
              "      <td>0.135220</td>\n",
              "    </tr>\n",
              "    <tr>\n",
              "      <th>28164</th>\n",
              "      <td>0.020790</td>\n",
              "      <td>Ideal</td>\n",
              "      <td>H</td>\n",
              "      <td>VVS1</td>\n",
              "      <td>0.533333</td>\n",
              "      <td>0.230769</td>\n",
              "      <td>0.400372</td>\n",
              "      <td>0.073345</td>\n",
              "      <td>0.084277</td>\n",
              "    </tr>\n",
              "    <tr>\n",
              "      <th>26354</th>\n",
              "      <td>0.024948</td>\n",
              "      <td>Premium</td>\n",
              "      <td>F</td>\n",
              "      <td>VS2</td>\n",
              "      <td>0.508333</td>\n",
              "      <td>0.326923</td>\n",
              "      <td>0.406890</td>\n",
              "      <td>0.074703</td>\n",
              "      <td>0.084591</td>\n",
              "    </tr>\n",
              "    <tr>\n",
              "      <th>31910</th>\n",
              "      <td>0.020790</td>\n",
              "      <td>Ideal</td>\n",
              "      <td>G</td>\n",
              "      <td>VS1</td>\n",
              "      <td>0.544444</td>\n",
              "      <td>0.269231</td>\n",
              "      <td>0.399441</td>\n",
              "      <td>0.072496</td>\n",
              "      <td>0.084277</td>\n",
              "    </tr>\n",
              "  </tbody>\n",
              "</table>\n",
              "</div>\n",
              "      <button class=\"colab-df-convert\" onclick=\"convertToInteractive('df-b23aa985-8f3c-4691-b698-04878fc3853b')\"\n",
              "              title=\"Convert this dataframe to an interactive table.\"\n",
              "              style=\"display:none;\">\n",
              "        \n",
              "  <svg xmlns=\"http://www.w3.org/2000/svg\" height=\"24px\"viewBox=\"0 0 24 24\"\n",
              "       width=\"24px\">\n",
              "    <path d=\"M0 0h24v24H0V0z\" fill=\"none\"/>\n",
              "    <path d=\"M18.56 5.44l.94 2.06.94-2.06 2.06-.94-2.06-.94-.94-2.06-.94 2.06-2.06.94zm-11 1L8.5 8.5l.94-2.06 2.06-.94-2.06-.94L8.5 2.5l-.94 2.06-2.06.94zm10 10l.94 2.06.94-2.06 2.06-.94-2.06-.94-.94-2.06-.94 2.06-2.06.94z\"/><path d=\"M17.41 7.96l-1.37-1.37c-.4-.4-.92-.59-1.43-.59-.52 0-1.04.2-1.43.59L10.3 9.45l-7.72 7.72c-.78.78-.78 2.05 0 2.83L4 21.41c.39.39.9.59 1.41.59.51 0 1.02-.2 1.41-.59l7.78-7.78 2.81-2.81c.8-.78.8-2.07 0-2.86zM5.41 20L4 18.59l7.72-7.72 1.47 1.35L5.41 20z\"/>\n",
              "  </svg>\n",
              "      </button>\n",
              "      \n",
              "  <style>\n",
              "    .colab-df-container {\n",
              "      display:flex;\n",
              "      flex-wrap:wrap;\n",
              "      gap: 12px;\n",
              "    }\n",
              "\n",
              "    .colab-df-convert {\n",
              "      background-color: #E8F0FE;\n",
              "      border: none;\n",
              "      border-radius: 50%;\n",
              "      cursor: pointer;\n",
              "      display: none;\n",
              "      fill: #1967D2;\n",
              "      height: 32px;\n",
              "      padding: 0 0 0 0;\n",
              "      width: 32px;\n",
              "    }\n",
              "\n",
              "    .colab-df-convert:hover {\n",
              "      background-color: #E2EBFA;\n",
              "      box-shadow: 0px 1px 2px rgba(60, 64, 67, 0.3), 0px 1px 3px 1px rgba(60, 64, 67, 0.15);\n",
              "      fill: #174EA6;\n",
              "    }\n",
              "\n",
              "    [theme=dark] .colab-df-convert {\n",
              "      background-color: #3B4455;\n",
              "      fill: #D2E3FC;\n",
              "    }\n",
              "\n",
              "    [theme=dark] .colab-df-convert:hover {\n",
              "      background-color: #434B5C;\n",
              "      box-shadow: 0px 1px 3px 1px rgba(0, 0, 0, 0.15);\n",
              "      filter: drop-shadow(0px 1px 2px rgba(0, 0, 0, 0.3));\n",
              "      fill: #FFFFFF;\n",
              "    }\n",
              "  </style>\n",
              "\n",
              "      <script>\n",
              "        const buttonEl =\n",
              "          document.querySelector('#df-b23aa985-8f3c-4691-b698-04878fc3853b button.colab-df-convert');\n",
              "        buttonEl.style.display =\n",
              "          google.colab.kernel.accessAllowed ? 'block' : 'none';\n",
              "\n",
              "        async function convertToInteractive(key) {\n",
              "          const element = document.querySelector('#df-b23aa985-8f3c-4691-b698-04878fc3853b');\n",
              "          const dataTable =\n",
              "            await google.colab.kernel.invokeFunction('convertToInteractive',\n",
              "                                                     [key], {});\n",
              "          if (!dataTable) return;\n",
              "\n",
              "          const docLinkHtml = 'Like what you see? Visit the ' +\n",
              "            '<a target=\"_blank\" href=https://colab.research.google.com/notebooks/data_table.ipynb>data table notebook</a>'\n",
              "            + ' to learn more about interactive tables.';\n",
              "          element.innerHTML = '';\n",
              "          dataTable['output_type'] = 'display_data';\n",
              "          await google.colab.output.renderOutput(dataTable, element);\n",
              "          const docLink = document.createElement('div');\n",
              "          docLink.innerHTML = docLinkHtml;\n",
              "          element.appendChild(docLink);\n",
              "        }\n",
              "      </script>\n",
              "    </div>\n",
              "  </div>\n",
              "  "
            ]
          },
          "metadata": {},
          "execution_count": 64
        }
      ],
      "source": [
        "X = teemandid.drop(columns = ['Unnamed: 0', 'price'])\n",
        "y = teemandid[['price']]\n",
        "print(X.shape)\n",
        "X.head()"
      ]
    },
    {
      "cell_type": "code",
      "execution_count": 66,
      "metadata": {
        "id": "ox2Et2VL2X5i",
        "colab": {
          "base_uri": "https://localhost:8080/"
        },
        "outputId": "2d70b12a-0393-48d0-881e-4bc445fe86cf"
      },
      "outputs": [
        {
          "output_type": "stream",
          "name": "stderr",
          "text": [
            "/usr/local/lib/python3.7/dist-packages/sklearn/utils/deprecation.py:87: FutureWarning: Function get_feature_names is deprecated; get_feature_names is deprecated in 1.0 and will be removed in 1.2. Please use get_feature_names_out instead.\n",
            "  warnings.warn(msg, category=FutureWarning)\n"
          ]
        },
        {
          "output_type": "stream",
          "name": "stdout",
          "text": [
            "Epoch 1/40\n",
            "211/211 [==============================] - 2s 2ms/step - loss: 0.1031\n",
            "Epoch 2/40\n",
            "211/211 [==============================] - 1s 3ms/step - loss: 0.0468\n",
            "Epoch 3/40\n",
            "211/211 [==============================] - 1s 4ms/step - loss: 0.0464\n",
            "Epoch 4/40\n",
            "211/211 [==============================] - 1s 6ms/step - loss: 0.0466\n",
            "Epoch 5/40\n",
            "211/211 [==============================] - 1s 3ms/step - loss: 0.0468\n",
            "Epoch 6/40\n",
            "211/211 [==============================] - 1s 2ms/step - loss: 0.0467\n",
            "Epoch 7/40\n",
            "211/211 [==============================] - 0s 2ms/step - loss: 0.0465\n",
            "Epoch 8/40\n",
            "211/211 [==============================] - 1s 4ms/step - loss: 0.0467\n",
            "Epoch 9/40\n",
            "211/211 [==============================] - 1s 4ms/step - loss: 0.0466\n",
            "Epoch 10/40\n",
            "211/211 [==============================] - 1s 2ms/step - loss: 0.0468\n",
            "Epoch 11/40\n",
            "211/211 [==============================] - 0s 2ms/step - loss: 0.0467\n",
            "Epoch 12/40\n",
            "211/211 [==============================] - 1s 2ms/step - loss: 0.0464\n",
            "Epoch 13/40\n",
            "211/211 [==============================] - 0s 2ms/step - loss: 0.0466\n",
            "Epoch 14/40\n",
            "211/211 [==============================] - 1s 3ms/step - loss: 0.0467\n",
            "Epoch 15/40\n",
            "211/211 [==============================] - 1s 2ms/step - loss: 0.0465\n",
            "Epoch 16/40\n",
            "211/211 [==============================] - 1s 2ms/step - loss: 0.0469\n",
            "Epoch 17/40\n",
            "211/211 [==============================] - 0s 2ms/step - loss: 0.0464\n",
            "Epoch 18/40\n",
            "211/211 [==============================] - 1s 2ms/step - loss: 0.0466\n",
            "Epoch 19/40\n",
            "211/211 [==============================] - 0s 2ms/step - loss: 0.0466\n",
            "Epoch 20/40\n",
            "211/211 [==============================] - 1s 2ms/step - loss: 0.0466\n",
            "Epoch 21/40\n",
            "211/211 [==============================] - 1s 2ms/step - loss: 0.0466\n",
            "Epoch 22/40\n",
            "211/211 [==============================] - 1s 2ms/step - loss: 0.0465\n",
            "Epoch 23/40\n",
            "211/211 [==============================] - 1s 2ms/step - loss: 0.0463\n",
            "Epoch 24/40\n",
            "211/211 [==============================] - 1s 2ms/step - loss: 0.0465\n",
            "Epoch 25/40\n",
            "211/211 [==============================] - 1s 2ms/step - loss: 0.0467\n",
            "Epoch 26/40\n",
            "211/211 [==============================] - 1s 2ms/step - loss: 0.0464\n",
            "Epoch 27/40\n",
            "211/211 [==============================] - 0s 2ms/step - loss: 0.0468\n",
            "Epoch 28/40\n",
            "211/211 [==============================] - 1s 2ms/step - loss: 0.0464\n",
            "Epoch 29/40\n",
            "211/211 [==============================] - 1s 2ms/step - loss: 0.0466\n",
            "Epoch 30/40\n",
            "211/211 [==============================] - 1s 2ms/step - loss: 0.0464\n",
            "Epoch 31/40\n",
            "211/211 [==============================] - 0s 2ms/step - loss: 0.0465\n",
            "Epoch 32/40\n",
            "211/211 [==============================] - 1s 2ms/step - loss: 0.0464\n",
            "Epoch 33/40\n",
            "211/211 [==============================] - 0s 2ms/step - loss: 0.0465\n",
            "Epoch 34/40\n",
            "211/211 [==============================] - 1s 2ms/step - loss: 0.0464\n",
            "Epoch 35/40\n",
            "211/211 [==============================] - 1s 2ms/step - loss: 0.0463\n",
            "Epoch 36/40\n",
            "211/211 [==============================] - 1s 2ms/step - loss: 0.0464\n",
            "Epoch 37/40\n",
            "211/211 [==============================] - 0s 2ms/step - loss: 0.0464\n",
            "Epoch 38/40\n",
            "211/211 [==============================] - 1s 2ms/step - loss: 0.0463\n",
            "Epoch 39/40\n",
            "211/211 [==============================] - 1s 2ms/step - loss: 0.0464\n",
            "Epoch 40/40\n",
            "211/211 [==============================] - 1s 3ms/step - loss: 0.0464\n"
          ]
        }
      ],
      "source": [
        "# Mudeli testimine, kasutades ainult 1-hot vektoreid tunnusest \"cut\" \n",
        "# (loome vastava tunnuste hulga Xcut1hot)\n",
        "onehot = sklearn.preprocessing.OneHotEncoder()\n",
        "Xcut1hot = onehot.fit_transform(X[['cut']]).toarray()\n",
        "labels = onehot.get_feature_names(['cut'])\n",
        "\n",
        "mdl2 = model(Xcut1hot.shape[1], 'mean_squared_error', 'adam')\n",
        "hist = mdl2.fit(Xcut1hot, y, epochs=40, batch_size=256)"
      ]
    },
    {
      "cell_type": "code",
      "execution_count": 68,
      "metadata": {
        "id": "AeoClT9i25c1",
        "colab": {
          "base_uri": "https://localhost:8080/"
        },
        "outputId": "5d9b0bcc-0486-46f2-982b-57cc01f843fd"
      },
      "outputs": [
        {
          "output_type": "stream",
          "name": "stdout",
          "text": [
            "Epoch 1/40\n",
            "211/211 [==============================] - 2s 3ms/step - loss: 0.0598\n",
            "Epoch 2/40\n",
            "211/211 [==============================] - 1s 3ms/step - loss: 0.0478\n",
            "Epoch 3/40\n",
            "211/211 [==============================] - 1s 3ms/step - loss: 0.0473\n",
            "Epoch 4/40\n",
            "211/211 [==============================] - 1s 3ms/step - loss: 0.0473\n",
            "Epoch 5/40\n",
            "211/211 [==============================] - 1s 2ms/step - loss: 0.0471\n",
            "Epoch 6/40\n",
            "211/211 [==============================] - 1s 2ms/step - loss: 0.0470\n",
            "Epoch 7/40\n",
            "211/211 [==============================] - 1s 2ms/step - loss: 0.0466\n",
            "Epoch 8/40\n",
            "211/211 [==============================] - 1s 2ms/step - loss: 0.0466\n",
            "Epoch 9/40\n",
            "211/211 [==============================] - 1s 3ms/step - loss: 0.0467\n",
            "Epoch 10/40\n",
            "211/211 [==============================] - 1s 2ms/step - loss: 0.0467\n",
            "Epoch 11/40\n",
            "211/211 [==============================] - 1s 2ms/step - loss: 0.0466\n",
            "Epoch 12/40\n",
            "211/211 [==============================] - 1s 2ms/step - loss: 0.0465\n",
            "Epoch 13/40\n",
            "211/211 [==============================] - 1s 3ms/step - loss: 0.0465\n",
            "Epoch 14/40\n",
            "211/211 [==============================] - 1s 2ms/step - loss: 0.0466\n",
            "Epoch 15/40\n",
            "211/211 [==============================] - 1s 3ms/step - loss: 0.0466\n",
            "Epoch 16/40\n",
            "211/211 [==============================] - 1s 2ms/step - loss: 0.0466\n",
            "Epoch 17/40\n",
            "211/211 [==============================] - 1s 2ms/step - loss: 0.0465\n",
            "Epoch 18/40\n",
            "211/211 [==============================] - 1s 2ms/step - loss: 0.0464\n",
            "Epoch 19/40\n",
            "211/211 [==============================] - 1s 3ms/step - loss: 0.0464\n",
            "Epoch 20/40\n",
            "211/211 [==============================] - 1s 2ms/step - loss: 0.0463\n",
            "Epoch 21/40\n",
            "211/211 [==============================] - 1s 3ms/step - loss: 0.0464\n",
            "Epoch 22/40\n",
            "211/211 [==============================] - 1s 3ms/step - loss: 0.0465\n",
            "Epoch 23/40\n",
            "211/211 [==============================] - 1s 2ms/step - loss: 0.0464\n",
            "Epoch 24/40\n",
            "211/211 [==============================] - 1s 3ms/step - loss: 0.0464\n",
            "Epoch 25/40\n",
            "211/211 [==============================] - 1s 2ms/step - loss: 0.0464\n",
            "Epoch 26/40\n",
            "211/211 [==============================] - 1s 2ms/step - loss: 0.0463\n",
            "Epoch 27/40\n",
            "211/211 [==============================] - 1s 2ms/step - loss: 0.0464\n",
            "Epoch 28/40\n",
            "211/211 [==============================] - 1s 3ms/step - loss: 0.0465\n",
            "Epoch 29/40\n",
            "211/211 [==============================] - 1s 2ms/step - loss: 0.0463\n",
            "Epoch 30/40\n",
            "211/211 [==============================] - 1s 3ms/step - loss: 0.0464\n",
            "Epoch 31/40\n",
            "211/211 [==============================] - 1s 2ms/step - loss: 0.0464\n",
            "Epoch 32/40\n",
            "211/211 [==============================] - 1s 3ms/step - loss: 0.0463\n",
            "Epoch 33/40\n",
            "211/211 [==============================] - 1s 2ms/step - loss: 0.0463\n",
            "Epoch 34/40\n",
            "211/211 [==============================] - 1s 3ms/step - loss: 0.0464\n",
            "Epoch 35/40\n",
            "211/211 [==============================] - 1s 2ms/step - loss: 0.0462\n",
            "Epoch 36/40\n",
            "211/211 [==============================] - 1s 2ms/step - loss: 0.0462\n",
            "Epoch 37/40\n",
            "211/211 [==============================] - 1s 2ms/step - loss: 0.0462\n",
            "Epoch 38/40\n",
            "211/211 [==============================] - 1s 3ms/step - loss: 0.0463\n",
            "Epoch 39/40\n",
            "211/211 [==============================] - 1s 3ms/step - loss: 0.0463\n",
            "Epoch 40/40\n",
            "211/211 [==============================] - 1s 4ms/step - loss: 0.0464\n"
          ]
        }
      ],
      "source": [
        "# Mudeli testimine, kasutades endisi numbrilisi tunnuseid koos uute 1-hot vektoritega tunnusest \"cut\" \n",
        "# (loome vastava tunnuste hulga Xnumeral ja seejärel ühise Xall1hot)\n",
        "Xnumeral = X[[\"carat\", \"depth\", \"table\", \"x\", \"y\", \"z\"]]\n",
        "Xall1hot = pd.concat([Xnumeral, pd.DataFrame(Xcut1hot,columns=labels).astype(int)], axis=1)\n",
        "\n",
        "mdl3 = model(Xall1hot.shape[1], 'mean_squared_error', 'adam')\n",
        "hist = mdl3.fit(Xall1hot, y, epochs=40, batch_size=256)"
      ]
    },
    {
      "cell_type": "markdown",
      "metadata": {
        "id": "cwsyDX_m8CTg"
      },
      "source": [
        "#### Ülesanne\n",
        "\n",
        "Kuna viimistlus koosneb küll tekstilistest väärtustest ning võime seda käsitleda kui erinevaid klasse, on reaalselt tegemist siiski skaalaga (*Fair*, *Good*, *Very Good*, *Premium*, *Ideal*). Püüame luua uue tulba (näiteks *cut_scale*), kus tulba *cut* väärtused oleksid teisendatud normaliseeritud skaalale (vahemikus 0-1), kus 0 tähistaks varianti *Fair*, 1 varianti *Ideal*. "
      ]
    },
    {
      "cell_type": "code",
      "execution_count": 69,
      "metadata": {
        "id": "lGBOCwmzIvU2",
        "colab": {
          "base_uri": "https://localhost:8080/",
          "height": 206
        },
        "outputId": "c91ed1d0-efa0-4d5a-f538-3fc9c0b92f64"
      },
      "outputs": [
        {
          "output_type": "execute_result",
          "data": {
            "text/plain": [
              "       Unnamed: 0     carat      cut color clarity     depth     table  \\\n",
              "53877       53878  0.118503  Premium     F     SI1  0.472222  0.346154   \n",
              "12088       12089  0.224532  Premium     H     SI2  0.541667  0.365385   \n",
              "28164       28165  0.020790    Ideal     H    VVS1  0.533333  0.230769   \n",
              "26354       26355  0.024948  Premium     F     VS2  0.508333  0.326923   \n",
              "31910       31911  0.020790    Ideal     G     VS1  0.544444  0.269231   \n",
              "\n",
              "          price         x         y         z  cut_scale  \n",
              "53877  0.130778  0.555866  0.100679  0.112264       0.75  \n",
              "12088  0.261394  0.641527  0.116129  0.135220       0.75  \n",
              "28164  0.018327  0.400372  0.073345  0.084277       1.00  \n",
              "26354  0.017246  0.406890  0.074703  0.084591       0.75  \n",
              "31910  0.024328  0.399441  0.072496  0.084277       1.00  "
            ],
            "text/html": [
              "\n",
              "  <div id=\"df-7a97df05-8441-4b04-829c-453ac1b320fa\">\n",
              "    <div class=\"colab-df-container\">\n",
              "      <div>\n",
              "<style scoped>\n",
              "    .dataframe tbody tr th:only-of-type {\n",
              "        vertical-align: middle;\n",
              "    }\n",
              "\n",
              "    .dataframe tbody tr th {\n",
              "        vertical-align: top;\n",
              "    }\n",
              "\n",
              "    .dataframe thead th {\n",
              "        text-align: right;\n",
              "    }\n",
              "</style>\n",
              "<table border=\"1\" class=\"dataframe\">\n",
              "  <thead>\n",
              "    <tr style=\"text-align: right;\">\n",
              "      <th></th>\n",
              "      <th>Unnamed: 0</th>\n",
              "      <th>carat</th>\n",
              "      <th>cut</th>\n",
              "      <th>color</th>\n",
              "      <th>clarity</th>\n",
              "      <th>depth</th>\n",
              "      <th>table</th>\n",
              "      <th>price</th>\n",
              "      <th>x</th>\n",
              "      <th>y</th>\n",
              "      <th>z</th>\n",
              "      <th>cut_scale</th>\n",
              "    </tr>\n",
              "  </thead>\n",
              "  <tbody>\n",
              "    <tr>\n",
              "      <th>53877</th>\n",
              "      <td>53878</td>\n",
              "      <td>0.118503</td>\n",
              "      <td>Premium</td>\n",
              "      <td>F</td>\n",
              "      <td>SI1</td>\n",
              "      <td>0.472222</td>\n",
              "      <td>0.346154</td>\n",
              "      <td>0.130778</td>\n",
              "      <td>0.555866</td>\n",
              "      <td>0.100679</td>\n",
              "      <td>0.112264</td>\n",
              "      <td>0.75</td>\n",
              "    </tr>\n",
              "    <tr>\n",
              "      <th>12088</th>\n",
              "      <td>12089</td>\n",
              "      <td>0.224532</td>\n",
              "      <td>Premium</td>\n",
              "      <td>H</td>\n",
              "      <td>SI2</td>\n",
              "      <td>0.541667</td>\n",
              "      <td>0.365385</td>\n",
              "      <td>0.261394</td>\n",
              "      <td>0.641527</td>\n",
              "      <td>0.116129</td>\n",
              "      <td>0.135220</td>\n",
              "      <td>0.75</td>\n",
              "    </tr>\n",
              "    <tr>\n",
              "      <th>28164</th>\n",
              "      <td>28165</td>\n",
              "      <td>0.020790</td>\n",
              "      <td>Ideal</td>\n",
              "      <td>H</td>\n",
              "      <td>VVS1</td>\n",
              "      <td>0.533333</td>\n",
              "      <td>0.230769</td>\n",
              "      <td>0.018327</td>\n",
              "      <td>0.400372</td>\n",
              "      <td>0.073345</td>\n",
              "      <td>0.084277</td>\n",
              "      <td>1.00</td>\n",
              "    </tr>\n",
              "    <tr>\n",
              "      <th>26354</th>\n",
              "      <td>26355</td>\n",
              "      <td>0.024948</td>\n",
              "      <td>Premium</td>\n",
              "      <td>F</td>\n",
              "      <td>VS2</td>\n",
              "      <td>0.508333</td>\n",
              "      <td>0.326923</td>\n",
              "      <td>0.017246</td>\n",
              "      <td>0.406890</td>\n",
              "      <td>0.074703</td>\n",
              "      <td>0.084591</td>\n",
              "      <td>0.75</td>\n",
              "    </tr>\n",
              "    <tr>\n",
              "      <th>31910</th>\n",
              "      <td>31911</td>\n",
              "      <td>0.020790</td>\n",
              "      <td>Ideal</td>\n",
              "      <td>G</td>\n",
              "      <td>VS1</td>\n",
              "      <td>0.544444</td>\n",
              "      <td>0.269231</td>\n",
              "      <td>0.024328</td>\n",
              "      <td>0.399441</td>\n",
              "      <td>0.072496</td>\n",
              "      <td>0.084277</td>\n",
              "      <td>1.00</td>\n",
              "    </tr>\n",
              "  </tbody>\n",
              "</table>\n",
              "</div>\n",
              "      <button class=\"colab-df-convert\" onclick=\"convertToInteractive('df-7a97df05-8441-4b04-829c-453ac1b320fa')\"\n",
              "              title=\"Convert this dataframe to an interactive table.\"\n",
              "              style=\"display:none;\">\n",
              "        \n",
              "  <svg xmlns=\"http://www.w3.org/2000/svg\" height=\"24px\"viewBox=\"0 0 24 24\"\n",
              "       width=\"24px\">\n",
              "    <path d=\"M0 0h24v24H0V0z\" fill=\"none\"/>\n",
              "    <path d=\"M18.56 5.44l.94 2.06.94-2.06 2.06-.94-2.06-.94-.94-2.06-.94 2.06-2.06.94zm-11 1L8.5 8.5l.94-2.06 2.06-.94-2.06-.94L8.5 2.5l-.94 2.06-2.06.94zm10 10l.94 2.06.94-2.06 2.06-.94-2.06-.94-.94-2.06-.94 2.06-2.06.94z\"/><path d=\"M17.41 7.96l-1.37-1.37c-.4-.4-.92-.59-1.43-.59-.52 0-1.04.2-1.43.59L10.3 9.45l-7.72 7.72c-.78.78-.78 2.05 0 2.83L4 21.41c.39.39.9.59 1.41.59.51 0 1.02-.2 1.41-.59l7.78-7.78 2.81-2.81c.8-.78.8-2.07 0-2.86zM5.41 20L4 18.59l7.72-7.72 1.47 1.35L5.41 20z\"/>\n",
              "  </svg>\n",
              "      </button>\n",
              "      \n",
              "  <style>\n",
              "    .colab-df-container {\n",
              "      display:flex;\n",
              "      flex-wrap:wrap;\n",
              "      gap: 12px;\n",
              "    }\n",
              "\n",
              "    .colab-df-convert {\n",
              "      background-color: #E8F0FE;\n",
              "      border: none;\n",
              "      border-radius: 50%;\n",
              "      cursor: pointer;\n",
              "      display: none;\n",
              "      fill: #1967D2;\n",
              "      height: 32px;\n",
              "      padding: 0 0 0 0;\n",
              "      width: 32px;\n",
              "    }\n",
              "\n",
              "    .colab-df-convert:hover {\n",
              "      background-color: #E2EBFA;\n",
              "      box-shadow: 0px 1px 2px rgba(60, 64, 67, 0.3), 0px 1px 3px 1px rgba(60, 64, 67, 0.15);\n",
              "      fill: #174EA6;\n",
              "    }\n",
              "\n",
              "    [theme=dark] .colab-df-convert {\n",
              "      background-color: #3B4455;\n",
              "      fill: #D2E3FC;\n",
              "    }\n",
              "\n",
              "    [theme=dark] .colab-df-convert:hover {\n",
              "      background-color: #434B5C;\n",
              "      box-shadow: 0px 1px 3px 1px rgba(0, 0, 0, 0.15);\n",
              "      filter: drop-shadow(0px 1px 2px rgba(0, 0, 0, 0.3));\n",
              "      fill: #FFFFFF;\n",
              "    }\n",
              "  </style>\n",
              "\n",
              "      <script>\n",
              "        const buttonEl =\n",
              "          document.querySelector('#df-7a97df05-8441-4b04-829c-453ac1b320fa button.colab-df-convert');\n",
              "        buttonEl.style.display =\n",
              "          google.colab.kernel.accessAllowed ? 'block' : 'none';\n",
              "\n",
              "        async function convertToInteractive(key) {\n",
              "          const element = document.querySelector('#df-7a97df05-8441-4b04-829c-453ac1b320fa');\n",
              "          const dataTable =\n",
              "            await google.colab.kernel.invokeFunction('convertToInteractive',\n",
              "                                                     [key], {});\n",
              "          if (!dataTable) return;\n",
              "\n",
              "          const docLinkHtml = 'Like what you see? Visit the ' +\n",
              "            '<a target=\"_blank\" href=https://colab.research.google.com/notebooks/data_table.ipynb>data table notebook</a>'\n",
              "            + ' to learn more about interactive tables.';\n",
              "          element.innerHTML = '';\n",
              "          dataTable['output_type'] = 'display_data';\n",
              "          await google.colab.output.renderOutput(dataTable, element);\n",
              "          const docLink = document.createElement('div');\n",
              "          docLink.innerHTML = docLinkHtml;\n",
              "          element.appendChild(docLink);\n",
              "        }\n",
              "      </script>\n",
              "    </div>\n",
              "  </div>\n",
              "  "
            ]
          },
          "metadata": {},
          "execution_count": 69
        }
      ],
      "source": [
        "cat = {'Fair': 0, 'Good': 1, 'Very Good': 2, 'Premium': 3, 'Ideal': 4}\n",
        "teemandid['cut_scale'] = teemandid['cut'].map(cat)\n",
        "\n",
        "scaler_cut = sklearn.preprocessing.MinMaxScaler()\n",
        "teemandid[['cut_scale']] = scaler_cut.fit_transform(teemandid[['cut_scale']])\n",
        "teemandid.head()"
      ]
    },
    {
      "cell_type": "code",
      "execution_count": 71,
      "metadata": {
        "id": "_gLOqbmcJZlJ"
      },
      "outputs": [],
      "source": [
        "XcutScale = teemandid['cut_scale']\n",
        "#print(XcutScale)"
      ]
    },
    {
      "cell_type": "code",
      "execution_count": 72,
      "metadata": {
        "id": "a3UAK4unJjN9",
        "colab": {
          "base_uri": "https://localhost:8080/"
        },
        "outputId": "5c4f80ef-e51a-469b-b68f-ab8316a4f201"
      },
      "outputs": [
        {
          "output_type": "stream",
          "name": "stdout",
          "text": [
            "Epoch 1/40\n",
            "211/211 [==============================] - 1s 3ms/step - loss: 0.0309\n",
            "Epoch 2/40\n",
            "211/211 [==============================] - 1s 3ms/step - loss: 0.0070\n",
            "Epoch 3/40\n",
            "211/211 [==============================] - 1s 3ms/step - loss: 0.0068\n",
            "Epoch 4/40\n",
            "211/211 [==============================] - 1s 3ms/step - loss: 0.0066\n",
            "Epoch 5/40\n",
            "211/211 [==============================] - 1s 3ms/step - loss: 0.0066\n",
            "Epoch 6/40\n",
            "211/211 [==============================] - 1s 3ms/step - loss: 0.0064\n",
            "Epoch 7/40\n",
            "211/211 [==============================] - 1s 3ms/step - loss: 0.0064\n",
            "Epoch 8/40\n",
            "211/211 [==============================] - 1s 3ms/step - loss: 0.0064\n",
            "Epoch 9/40\n",
            "211/211 [==============================] - 1s 3ms/step - loss: 0.0064\n",
            "Epoch 10/40\n",
            "211/211 [==============================] - 1s 2ms/step - loss: 0.0063\n",
            "Epoch 11/40\n",
            "211/211 [==============================] - 1s 3ms/step - loss: 0.0062\n",
            "Epoch 12/40\n",
            "211/211 [==============================] - 1s 3ms/step - loss: 0.0062\n",
            "Epoch 13/40\n",
            "211/211 [==============================] - 1s 3ms/step - loss: 0.0063\n",
            "Epoch 14/40\n",
            "211/211 [==============================] - 1s 2ms/step - loss: 0.0062\n",
            "Epoch 15/40\n",
            "211/211 [==============================] - 1s 3ms/step - loss: 0.0063\n",
            "Epoch 16/40\n",
            "211/211 [==============================] - 1s 3ms/step - loss: 0.0062\n",
            "Epoch 17/40\n",
            "211/211 [==============================] - 1s 3ms/step - loss: 0.0062\n",
            "Epoch 18/40\n",
            "211/211 [==============================] - 1s 3ms/step - loss: 0.0062\n",
            "Epoch 19/40\n",
            "211/211 [==============================] - 1s 3ms/step - loss: 0.0062\n",
            "Epoch 20/40\n",
            "211/211 [==============================] - 1s 2ms/step - loss: 0.0063\n",
            "Epoch 21/40\n",
            "211/211 [==============================] - 1s 3ms/step - loss: 0.0062\n",
            "Epoch 22/40\n",
            "211/211 [==============================] - 1s 3ms/step - loss: 0.0061\n",
            "Epoch 23/40\n",
            "211/211 [==============================] - 1s 3ms/step - loss: 0.0062\n",
            "Epoch 24/40\n",
            "211/211 [==============================] - 1s 2ms/step - loss: 0.0062\n",
            "Epoch 25/40\n",
            "211/211 [==============================] - 1s 2ms/step - loss: 0.0061\n",
            "Epoch 26/40\n",
            "211/211 [==============================] - 1s 3ms/step - loss: 0.0060\n",
            "Epoch 27/40\n",
            "211/211 [==============================] - 1s 2ms/step - loss: 0.0060\n",
            "Epoch 28/40\n",
            "211/211 [==============================] - 1s 2ms/step - loss: 0.0061\n",
            "Epoch 29/40\n",
            "211/211 [==============================] - 1s 2ms/step - loss: 0.0060\n",
            "Epoch 30/40\n",
            "211/211 [==============================] - 1s 3ms/step - loss: 0.0061\n",
            "Epoch 31/40\n",
            "211/211 [==============================] - 1s 2ms/step - loss: 0.0060\n",
            "Epoch 32/40\n",
            "211/211 [==============================] - 1s 3ms/step - loss: 0.0060\n",
            "Epoch 33/40\n",
            "211/211 [==============================] - 1s 3ms/step - loss: 0.0061\n",
            "Epoch 34/40\n",
            "211/211 [==============================] - 1s 3ms/step - loss: 0.0060\n",
            "Epoch 35/40\n",
            "211/211 [==============================] - 1s 2ms/step - loss: 0.0060\n",
            "Epoch 36/40\n",
            "211/211 [==============================] - 1s 3ms/step - loss: 0.0060\n",
            "Epoch 37/40\n",
            "211/211 [==============================] - 1s 2ms/step - loss: 0.0059\n",
            "Epoch 38/40\n",
            "211/211 [==============================] - 1s 3ms/step - loss: 0.0059\n",
            "Epoch 39/40\n",
            "211/211 [==============================] - 1s 2ms/step - loss: 0.0060\n",
            "Epoch 40/40\n",
            "211/211 [==============================] - 1s 2ms/step - loss: 0.0059\n"
          ]
        }
      ],
      "source": [
        "XallScale = Xnumeral.join(XcutScale)\n",
        "\n",
        "mdl4 = model(XallScale.shape[1], 'mean_squared_error', 'adam')\n",
        "hist = mdl4.fit(XallScale, y, epochs=40, batch_size=256)"
      ]
    },
    {
      "cell_type": "markdown",
      "metadata": {
        "id": "XyCEz9pHctID"
      },
      "source": [
        "## Optimeerimisfunktsioonide testimine\n",
        "\n",
        "Kasutasime seni peamiselt vaid üht optimeerimisfunktiooni, aga tegelikult on neid palju: \n",
        "\n",
        "https://medium.com/data-science-group-iitr/loss-functions-and-optimization-algorithms-demystified-bb92daff331c\n",
        "\n",
        "Kerase optimeerijad: https://keras.io/optimizers/ "
      ]
    },
    {
      "cell_type": "markdown",
      "metadata": {
        "id": "YDX-qVWp_BDy"
      },
      "source": [
        "#### Ülesanne\n",
        "\n",
        "Katsetame, milline optimiseerija on praegusel juhul vaikeparameetritega parem, kas *Adam*, *SGD* või *RMSProp*. Millised on erinevused (täpsuses, stabiilsuses, kiiruses), kui kasutame endisi numbrilisi väärtusi koos viimistluse 1-hot vektoritega või endisi numbrilisi väärtusi koos viimistluse skaalaks teisendamisega?"
      ]
    },
    {
      "cell_type": "code",
      "execution_count": 76,
      "metadata": {
        "id": "TW1FsRFQ3DNr",
        "colab": {
          "base_uri": "https://localhost:8080/"
        },
        "outputId": "dc356d7b-355a-4d0b-f1cc-935564b04d14"
      },
      "outputs": [
        {
          "output_type": "stream",
          "name": "stdout",
          "text": [
            "Epoch 1/20\n",
            "765/765 [==============================] - 3s 3ms/step - loss: 0.0578 - val_loss: 0.0122\n",
            "Epoch 2/20\n",
            "765/765 [==============================] - 3s 4ms/step - loss: 0.0096 - val_loss: 0.0114\n",
            "Epoch 3/20\n",
            "765/765 [==============================] - 2s 3ms/step - loss: 0.0082 - val_loss: 0.0137\n",
            "Epoch 4/20\n",
            "765/765 [==============================] - 3s 4ms/step - loss: 0.0079 - val_loss: 0.0087\n",
            "Epoch 5/20\n",
            "765/765 [==============================] - 2s 3ms/step - loss: 0.0075 - val_loss: 0.0095\n",
            "Epoch 6/20\n",
            "765/765 [==============================] - 4s 5ms/step - loss: 0.0074 - val_loss: 0.0067\n",
            "Epoch 7/20\n",
            "765/765 [==============================] - 5s 6ms/step - loss: 0.0073 - val_loss: 0.0088\n",
            "Epoch 8/20\n",
            "765/765 [==============================] - 4s 5ms/step - loss: 0.0072 - val_loss: 0.0114\n",
            "Epoch 9/20\n",
            "765/765 [==============================] - 4s 6ms/step - loss: 0.0072 - val_loss: 0.0213\n",
            "Epoch 10/20\n",
            "765/765 [==============================] - 2s 3ms/step - loss: 0.0071 - val_loss: 0.0077\n",
            "Epoch 11/20\n",
            "765/765 [==============================] - 3s 3ms/step - loss: 0.0071 - val_loss: 0.0086\n",
            "Epoch 12/20\n",
            "765/765 [==============================] - 2s 3ms/step - loss: 0.0070 - val_loss: 0.0067\n",
            "Epoch 13/20\n",
            "765/765 [==============================] - 2s 3ms/step - loss: 0.0070 - val_loss: 0.0064\n",
            "Epoch 14/20\n",
            "765/765 [==============================] - 2s 3ms/step - loss: 0.0068 - val_loss: 0.0066\n",
            "Epoch 15/20\n",
            "765/765 [==============================] - 3s 3ms/step - loss: 0.0068 - val_loss: 0.0063\n",
            "Epoch 16/20\n",
            "765/765 [==============================] - 2s 3ms/step - loss: 0.0068 - val_loss: 0.0062\n",
            "Epoch 17/20\n",
            "765/765 [==============================] - 3s 3ms/step - loss: 0.0068 - val_loss: 0.0066\n",
            "Epoch 18/20\n",
            "765/765 [==============================] - 4s 5ms/step - loss: 0.0068 - val_loss: 0.0078\n",
            "Epoch 19/20\n",
            "765/765 [==============================] - 3s 4ms/step - loss: 0.0067 - val_loss: 0.0064\n",
            "Epoch 20/20\n",
            "765/765 [==============================] - 4s 6ms/step - loss: 0.0067 - val_loss: 0.0063\n"
          ]
        }
      ],
      "source": [
        "mdl_adam = model(XallScale.shape[1], 'mean_squared_error', 'adam')\n",
        "hist_adam = mdl_adam.fit(XallScale[5000:], y[5000:], epochs=20, batch_size=64, validation_data=(XallScale[:5000], y[:5000]))"
      ]
    },
    {
      "cell_type": "markdown",
      "source": [],
      "metadata": {
        "id": "1hIUaRts1_Is"
      }
    },
    {
      "cell_type": "code",
      "execution_count": 77,
      "metadata": {
        "id": "77doXR8z3Da8",
        "colab": {
          "base_uri": "https://localhost:8080/"
        },
        "outputId": "d3e32215-691b-421b-c320-fcd6f1867e30"
      },
      "outputs": [
        {
          "output_type": "stream",
          "name": "stdout",
          "text": [
            "Epoch 1/20\n",
            "765/765 [==============================] - 3s 2ms/step - loss: 0.0152 - val_loss: 0.0071\n",
            "Epoch 2/20\n",
            "765/765 [==============================] - 2s 2ms/step - loss: 0.0081 - val_loss: 0.0070\n",
            "Epoch 3/20\n",
            "765/765 [==============================] - 2s 2ms/step - loss: 0.0075 - val_loss: 0.0064\n",
            "Epoch 4/20\n",
            "765/765 [==============================] - 2s 2ms/step - loss: 0.0074 - val_loss: 0.0061\n",
            "Epoch 5/20\n",
            "765/765 [==============================] - 2s 3ms/step - loss: 0.0073 - val_loss: 0.0068\n",
            "Epoch 6/20\n",
            "765/765 [==============================] - 2s 3ms/step - loss: 0.0072 - val_loss: 0.0067\n",
            "Epoch 7/20\n",
            "765/765 [==============================] - 2s 2ms/step - loss: 0.0069 - val_loss: 0.0061\n",
            "Epoch 8/20\n",
            "765/765 [==============================] - 2s 2ms/step - loss: 0.0070 - val_loss: 0.0070\n",
            "Epoch 9/20\n",
            "765/765 [==============================] - 2s 2ms/step - loss: 0.0069 - val_loss: 0.0060\n",
            "Epoch 10/20\n",
            "765/765 [==============================] - 2s 2ms/step - loss: 0.0069 - val_loss: 0.0062\n",
            "Epoch 11/20\n",
            "765/765 [==============================] - 2s 2ms/step - loss: 0.0068 - val_loss: 0.0060\n",
            "Epoch 12/20\n",
            "765/765 [==============================] - 2s 2ms/step - loss: 0.0068 - val_loss: 0.0059\n",
            "Epoch 13/20\n",
            "765/765 [==============================] - 2s 2ms/step - loss: 0.0069 - val_loss: 0.0059\n",
            "Epoch 14/20\n",
            "765/765 [==============================] - 2s 2ms/step - loss: 0.0068 - val_loss: 0.0062\n",
            "Epoch 15/20\n",
            "765/765 [==============================] - 2s 2ms/step - loss: 0.0069 - val_loss: 0.0059\n",
            "Epoch 16/20\n",
            "765/765 [==============================] - 2s 2ms/step - loss: 0.0067 - val_loss: 0.0059\n",
            "Epoch 17/20\n",
            "765/765 [==============================] - 2s 2ms/step - loss: 0.0067 - val_loss: 0.0061\n",
            "Epoch 18/20\n",
            "765/765 [==============================] - 2s 2ms/step - loss: 0.0067 - val_loss: 0.0060\n",
            "Epoch 19/20\n",
            "765/765 [==============================] - 2s 2ms/step - loss: 0.0068 - val_loss: 0.0060\n",
            "Epoch 20/20\n",
            "765/765 [==============================] - 2s 2ms/step - loss: 0.0067 - val_loss: 0.0059\n"
          ]
        }
      ],
      "source": [
        "mdl_sgd = model(XallScale.shape[1], 'mean_squared_error', 'sgd')\n",
        "hist_sgd = mdl_sgd.fit(XallScale[5000:], y[5000:], epochs=20, batch_size=64, validation_data=(XallScale[:5000], y[:5000]))"
      ]
    },
    {
      "cell_type": "code",
      "execution_count": 78,
      "metadata": {
        "id": "YyXqGT2p5sow",
        "colab": {
          "base_uri": "https://localhost:8080/"
        },
        "outputId": "f3b29bb4-cf89-4d73-db78-4257c0446ca7"
      },
      "outputs": [
        {
          "output_type": "stream",
          "name": "stdout",
          "text": [
            "Epoch 1/20\n",
            "765/765 [==============================] - 3s 3ms/step - loss: 0.0158 - val_loss: 0.0254\n",
            "Epoch 2/20\n",
            "765/765 [==============================] - 2s 2ms/step - loss: 0.0088 - val_loss: 0.0066\n",
            "Epoch 3/20\n",
            "765/765 [==============================] - 2s 2ms/step - loss: 0.0084 - val_loss: 0.0072\n",
            "Epoch 4/20\n",
            "765/765 [==============================] - 2s 2ms/step - loss: 0.0081 - val_loss: 0.0107\n",
            "Epoch 5/20\n",
            "765/765 [==============================] - 2s 2ms/step - loss: 0.0078 - val_loss: 0.0115\n",
            "Epoch 6/20\n",
            "765/765 [==============================] - 2s 2ms/step - loss: 0.0077 - val_loss: 0.0082\n",
            "Epoch 7/20\n",
            "765/765 [==============================] - 2s 2ms/step - loss: 0.0076 - val_loss: 0.0110\n",
            "Epoch 8/20\n",
            "765/765 [==============================] - 2s 2ms/step - loss: 0.0074 - val_loss: 0.0082\n",
            "Epoch 9/20\n",
            "765/765 [==============================] - 2s 2ms/step - loss: 0.0072 - val_loss: 0.0088\n",
            "Epoch 10/20\n",
            "765/765 [==============================] - 2s 2ms/step - loss: 0.0073 - val_loss: 0.0059\n",
            "Epoch 11/20\n",
            "765/765 [==============================] - 2s 2ms/step - loss: 0.0072 - val_loss: 0.0066\n",
            "Epoch 12/20\n",
            "765/765 [==============================] - 2s 2ms/step - loss: 0.0070 - val_loss: 0.0069\n",
            "Epoch 13/20\n",
            "765/765 [==============================] - 3s 3ms/step - loss: 0.0071 - val_loss: 0.0094\n",
            "Epoch 14/20\n",
            "765/765 [==============================] - 2s 2ms/step - loss: 0.0070 - val_loss: 0.0073\n",
            "Epoch 15/20\n",
            "765/765 [==============================] - 2s 2ms/step - loss: 0.0069 - val_loss: 0.0068\n",
            "Epoch 16/20\n",
            "765/765 [==============================] - 2s 2ms/step - loss: 0.0069 - val_loss: 0.0062\n",
            "Epoch 17/20\n",
            "765/765 [==============================] - 2s 2ms/step - loss: 0.0068 - val_loss: 0.0087\n",
            "Epoch 18/20\n",
            "765/765 [==============================] - 2s 2ms/step - loss: 0.0068 - val_loss: 0.0061\n",
            "Epoch 19/20\n",
            "765/765 [==============================] - 2s 2ms/step - loss: 0.0067 - val_loss: 0.0064\n",
            "Epoch 20/20\n",
            "765/765 [==============================] - 2s 2ms/step - loss: 0.0066 - val_loss: 0.0068\n"
          ]
        }
      ],
      "source": [
        "mdl_rmsprop = model(XallScale.shape[1], 'mean_squared_error', 'rmsprop')\n",
        "hist_rmsprop = mdl_rmsprop.fit(XallScale[5000:], y[5000:], epochs=20, batch_size=64, validation_data=(XallScale[:5000], y[:5000]))"
      ]
    },
    {
      "cell_type": "code",
      "execution_count": 79,
      "metadata": {
        "id": "0u26tYSr0WYk",
        "colab": {
          "base_uri": "https://localhost:8080/",
          "height": 286
        },
        "outputId": "0ba68b51-878e-4aa9-d515-d3eea9f4375e"
      },
      "outputs": [
        {
          "output_type": "execute_result",
          "data": {
            "text/plain": [
              "[<matplotlib.lines.Line2D at 0x7fccb6f41310>]"
            ]
          },
          "metadata": {},
          "execution_count": 79
        },
        {
          "output_type": "display_data",
          "data": {
            "text/plain": [
              "<Figure size 432x288 with 1 Axes>"
            ],
            "image/png": "[encoded data removed]"
          },
          "metadata": {
            "needs_background": "light"
          }
        }
      ],
      "source": [
        "plt.plot(hist_adam.history[\"loss\"])\n",
        "plt.plot(hist_sgd.history[\"loss\"])\n",
        "plt.plot(hist_rmsprop.history[\"loss\"])"
      ]
    },
    {
      "cell_type": "markdown",
      "metadata": {
        "id": "vtbeInjPwRyi"
      },
      "source": [
        "## Mudeli salvestamine ja avamine\n",
        "\n",
        "Nagu näeme, on mudeli treenimine pikaajaline protsess sõltuvalt andmehulga suurusest, mudeli keerukusest, epohhide arvust jne. Selle asemel, et iga kord mudelit uuesti treenida, võime me mudelid salvestada failina. "
      ]
    },
    {
      "cell_type": "code",
      "execution_count": 80,
      "metadata": {
        "id": "pafNOEkAwSG0",
        "colab": {
          "base_uri": "https://localhost:8080/"
        },
        "outputId": "5e8daecf-d8f4-4b72-fa1d-ab0cedbbfdc9"
      },
      "outputs": [
        {
          "output_type": "stream",
          "name": "stdout",
          "text": [
            "Epoch 1/10\n",
            "211/211 [==============================] - 2s 2ms/step - loss: 0.0344\n",
            "Epoch 2/10\n",
            "211/211 [==============================] - 0s 2ms/step - loss: 0.0110\n",
            "Epoch 3/10\n",
            "211/211 [==============================] - 0s 2ms/step - loss: 0.0094\n",
            "Epoch 4/10\n",
            "211/211 [==============================] - 0s 2ms/step - loss: 0.0087\n",
            "Epoch 5/10\n",
            "211/211 [==============================] - 0s 2ms/step - loss: 0.0082\n",
            "Epoch 6/10\n",
            "211/211 [==============================] - 0s 2ms/step - loss: 0.0078\n",
            "Epoch 7/10\n",
            "211/211 [==============================] - 0s 2ms/step - loss: 0.0076\n",
            "Epoch 8/10\n",
            "211/211 [==============================] - 0s 2ms/step - loss: 0.0074\n",
            "Epoch 9/10\n",
            "211/211 [==============================] - 0s 2ms/step - loss: 0.0073\n",
            "Epoch 10/10\n",
            "211/211 [==============================] - 0s 2ms/step - loss: 0.0072\n"
          ]
        }
      ],
      "source": [
        "# Teeme uuesti kõik läbi\n",
        "teemandid = pd.read_csv(failinimi, delimiter=\",\")\n",
        "teemandid = sklearn.utils.shuffle(teemandid)\n",
        "\n",
        "# Jätame meelde ka õiged vastused (normaliseerimata kujul), neid läheb meil hiljem vaja\n",
        "#pricesReal = teemandid.price.values.reshape(-1,1)\n",
        "y_real = teemandid[['price']]\n",
        "#print(y_real)\n",
        "\n",
        "scaler = sklearn.preprocessing.MinMaxScaler()\n",
        "teemandid[[\"carat\", \"depth\", \"table\", \"x\", \"y\", \"z\"]] = scaler.fit_transform(teemandid[[\"carat\", \"depth\", \"table\", \"x\", \"y\", \"z\"]])\n",
        "\n",
        "scaler_y = sklearn.preprocessing.MinMaxScaler()\n",
        "teemandid[[\"price\"]] = scaler_y.fit_transform(teemandid[[\"price\"]])\n",
        "\n",
        "X = teemandid.drop(columns = ['Unnamed: 0', 'price'])\n",
        "X = X[[\"carat\", \"depth\", \"table\", \"x\", \"y\", \"z\"]]\n",
        "y = teemandid[['price']]\n",
        "\n",
        "input_shape = X.shape[1]\n",
        "mdl = model(input_shape, \"mean_squared_error\", \"sgd\")\n",
        "hist = mdl.fit(X, y, epochs=10, batch_size=256, verbose=True)"
      ]
    },
    {
      "cell_type": "code",
      "execution_count": 81,
      "metadata": {
        "id": "DxX06YI3Beb7"
      },
      "outputs": [],
      "source": [
        "# Salvestame mudeli (vaadake tekkinud faili Colabi kaustas vms) ja kustutame selle mälust\n",
        "mdl.save('mudel.h5')  \n",
        "del mdl "
      ]
    },
    {
      "cell_type": "code",
      "execution_count": 82,
      "metadata": {
        "id": "_2Z0DsYWBhaY"
      },
      "outputs": [],
      "source": [
        "# Laeme mudeli uuesti (paremaks demonstreerimiseks uue nimega)\n",
        "mdlFromDisk = load_model('mudel.h5')\n",
        "\n",
        "# Ennustame hindasid X-hulga esimesel kahekümnel real\n",
        "y_pred = mdlFromDisk.predict([X[:20]])\n",
        "#print(y_pred)"
      ]
    },
    {
      "cell_type": "markdown",
      "metadata": {
        "id": "pqQB6wtJCx_N"
      },
      "source": [
        "## Normaliseerimise pöördfunktsioon\n",
        "\n",
        "Kuna me normaliseerisime kõiki numbrilisi väärtusi (sh. hinda), siis saime ka ennustused normaliseeritud kujul. Selleks, et vaadata tulemusi õiges mõõtkavas ehk reaalsete hindadena, peame me ennustused konverteerima tagasi, kasutades juba treenitud skaleerija funktsiooni *inverse_transform()*."
      ]
    },
    {
      "cell_type": "code",
      "execution_count": 83,
      "metadata": {
        "id": "C5GUk0Q7CvdU",
        "colab": {
          "base_uri": "https://localhost:8080/"
        },
        "outputId": "cec5667d-170d-4bd6-fddf-f156b1337c75"
      },
      "outputs": [
        {
          "output_type": "stream",
          "name": "stdout",
          "text": [
            "Ennustatud hinnad (normaliseeritult) - Ennustatud hinnad (reaalsel kujul) - Õiged hinnad\n",
            "0.30741337 - 6012 - 7455\n",
            "0.021899257 - 731 - 1110\n",
            "0.016324723 - 628 - 731\n",
            "0.24809599 - 4915 - 4276\n",
            "0.3502234 - 6804 - 4649\n",
            "0.44865188 - 8625 - 5958\n",
            "0.03595397 - 991 - 706\n",
            "0.54401284 - 10389 - 11795\n",
            "0.29143354 - 5717 - 6564\n",
            "0.1163508 - 2478 - 2333\n",
            "0.012699552 - 561 - 462\n",
            "0.021338068 - 721 - 1079\n",
            "0.28515172 - 5600 - 7332\n",
            "0.38356557 - 7421 - 4269\n",
            "0.049728476 - 1246 - 1229\n",
            "0.59540623 - 11339 - 8496\n",
            "0.29726064 - 5824 - 4340\n",
            "0.25074533 - 4964 - 4200\n",
            "0.12872428 - 2707 - 2242\n",
            "0.051438905 - 1277 - 485\n"
          ]
        }
      ],
      "source": [
        "print(\"Ennustatud hinnad (normaliseeritult) - Ennustatud hinnad (reaalsel kujul) - Õiged hinnad\")\n",
        "\n",
        "y_real_list = y_real[[\"price\"]]\n",
        "\n",
        "for i in range(20):\n",
        "    print(y_pred[i][0], '-', round(scaler_y.inverse_transform([y_pred[i]])[0][0]), '-', y_real[[\"price\"]].iloc[i][0])"
      ]
    },
    {
      "cell_type": "markdown",
      "metadata": {
        "id": "QuQ0Vhj2PSeV"
      },
      "source": [
        "## Klassifitseerimine närvivõrkude abil\n",
        "### Binaarne klassifitseerimine \n",
        "\n",
        "Enamiku seni nähtud näidete puhul tegelesime me regressiooniga ehk arvulise väärtuse leidmisega, kuid närvivõrkude abil saab ka klassifitseerida. Sisuliselt tegime seda juba eelmise praktikumi esimese näite puhul (XOR tehe), kus soovisime teada, kas väljund on 1 või 0 või (teisiti sõnastatuna) kas väljund on tõene või väär. Sel puhul oli tegemist klassifitseerimisega, täpsemalt binaarse klassifitseerimisega (kas objekt kuulub mingisse klassi või ei kuulu)."
      ]
    },
    {
      "cell_type": "markdown",
      "metadata": {
        "id": "VZ7mhBosnrKn"
      },
      "source": [
        "Kasutame jätkuvalt samu andmeid ehk teemantide andmebaasi."
      ]
    },
    {
      "cell_type": "code",
      "execution_count": 84,
      "metadata": {
        "id": "K11RCvmmP5Pm",
        "colab": {
          "base_uri": "https://localhost:8080/"
        },
        "outputId": "223bc9cf-a4ac-4f16-a0ef-13b50dc0498b"
      },
      "outputs": [
        {
          "output_type": "stream",
          "name": "stdout",
          "text": [
            "['Unnamed: 0', 'carat', 'cut', 'color', 'clarity', 'depth', 'table', 'price', 'x', 'y', 'z']\n"
          ]
        }
      ],
      "source": [
        "failinimi = 'diamonds.csv'\n",
        "teemandid = pd.read_csv(failinimi, delimiter=\",\")\n",
        "tunnused = [i for i in teemandid]\n",
        "print(tunnused)\n",
        "teemandid = sklearn.utils.shuffle(teemandid)"
      ]
    },
    {
      "cell_type": "markdown",
      "metadata": {
        "id": "S11ZrqJJkIxq"
      },
      "source": [
        "Teemantide näite puhul meil otseselt binaarset tulpa pole ehk pole tulpa, kus on täpselt 2 võimalikku väärtust. Samas võime me sellise tulba seniste andmete põhjal luua, võttes näiteks viimistlust (*cut*) iseloomustava klassi ning grupeerides väärtused näiteks nn. hea viimistlusega teemantideks ja ülejäänuteks. \n",
        "\n",
        "Võiksime mõelda, et hea viimistlusega teemandid võiksid olla näiteks need, mille tunnuse *cut* väärtus on kas *Ideal* või *Premium*. Võimalik, et see ongi etteantud tingimuste puhul vajalik, kuid kuna soovime praegu klassifitseerimist katsetada, siis oleks hea, kui klassid oleksid tasakaalus. Vaatame, kuidas väärtused tulbas \"cut\" jagunevad.\n"
      ]
    },
    {
      "cell_type": "code",
      "execution_count": 85,
      "metadata": {
        "id": "dQGTtv-5mZmG",
        "colab": {
          "base_uri": "https://localhost:8080/"
        },
        "outputId": "d5ba1530-ec7c-45e8-fb69-71dd46cace69"
      },
      "outputs": [
        {
          "output_type": "execute_result",
          "data": {
            "text/plain": [
              "cut\n",
              "Fair          1610\n",
              "Good          4906\n",
              "Ideal        21551\n",
              "Premium      13791\n",
              "Very Good    12082\n",
              "dtype: int64"
            ]
          },
          "metadata": {},
          "execution_count": 85
        }
      ],
      "source": [
        "teemandid.groupby(\"cut\").size()"
      ]
    },
    {
      "cell_type": "markdown",
      "metadata": {
        "id": "d3ofykuGnQ52"
      },
      "source": [
        "Nagu näeme, on väärtus \"Ideal\" suures ülekaalus ning kui paneksime kokku klassid \"Ideal\" ja \"Premium\", saaksime tulemuseks suure ülekaaluga uue klassi. Seega kasutame ainult esimest.\n",
        "Selleks teeme uue tunnuse (näiteks \"cut_binary\") ja täidame selle vastavalt tulbale \"cut\" kas arvuga 1 (kui kirje \"cut\" väärtus on \"Ideal\") või arvuga 0 (kui see nii pole). "
      ]
    },
    {
      "cell_type": "code",
      "execution_count": 86,
      "metadata": {
        "id": "3hKr3rTaj3Sa"
      },
      "outputs": [],
      "source": [
        "teemandid[\"cut_binary\"] = 0\n",
        "teemandid.loc[teemandid['cut'] == \"Ideal\", 'cut_binary'] = 1\n",
        "# Kui tahaksime siiski proovida klasse \"Ideal\" ja \"Premium\", siis nii:\n",
        "#teemandid.loc[teemandid['cut'].isin([\"Ideal\", \"Premium\"]), 'cut_binary'] = 1"
      ]
    },
    {
      "cell_type": "code",
      "execution_count": 87,
      "metadata": {
        "id": "J9wNj3mAkRk7",
        "colab": {
          "base_uri": "https://localhost:8080/",
          "height": 206
        },
        "outputId": "b78fc7cf-7ee4-4b84-a40a-9b43adaa5a34"
      },
      "outputs": [
        {
          "output_type": "execute_result",
          "data": {
            "text/plain": [
              "       Unnamed: 0  carat      cut color clarity  depth  table  price     x  \\\n",
              "8775         8776   1.00     Good     H     SI1   57.9   54.0   4469  6.68   \n",
              "30837       30838   0.33  Premium     H     VS1   59.5   59.0    743  4.53   \n",
              "47635       47636   0.51    Ideal     D     VS2   61.8   55.0   1882  5.18   \n",
              "50050       50051   0.70    Ideal     F     SI1   62.6   56.0   2200  5.69   \n",
              "12827       12828   1.05    Ideal     F     SI2   61.9   56.0   5347  6.48   \n",
              "\n",
              "          y     z  cut_binary  \n",
              "8775   6.62  3.85           0  \n",
              "30837  4.48  2.68           0  \n",
              "47635  5.15  3.19           1  \n",
              "50050  5.66  3.55           1  \n",
              "12827  6.50  4.02           1  "
            ],
            "text/html": [
              "\n",
              "  <div id=\"df-ab5d98f4-b876-4170-8954-6fecd2e7c909\">\n",
              "    <div class=\"colab-df-container\">\n",
              "      <div>\n",
              "<style scoped>\n",
              "    .dataframe tbody tr th:only-of-type {\n",
              "        vertical-align: middle;\n",
              "    }\n",
              "\n",
              "    .dataframe tbody tr th {\n",
              "        vertical-align: top;\n",
              "    }\n",
              "\n",
              "    .dataframe thead th {\n",
              "        text-align: right;\n",
              "    }\n",
              "</style>\n",
              "<table border=\"1\" class=\"dataframe\">\n",
              "  <thead>\n",
              "    <tr style=\"text-align: right;\">\n",
              "      <th></th>\n",
              "      <th>Unnamed: 0</th>\n",
              "      <th>carat</th>\n",
              "      <th>cut</th>\n",
              "      <th>color</th>\n",
              "      <th>clarity</th>\n",
              "      <th>depth</th>\n",
              "      <th>table</th>\n",
              "      <th>price</th>\n",
              "      <th>x</th>\n",
              "      <th>y</th>\n",
              "      <th>z</th>\n",
              "      <th>cut_binary</th>\n",
              "    </tr>\n",
              "  </thead>\n",
              "  <tbody>\n",
              "    <tr>\n",
              "      <th>8775</th>\n",
              "      <td>8776</td>\n",
              "      <td>1.00</td>\n",
              "      <td>Good</td>\n",
              "      <td>H</td>\n",
              "      <td>SI1</td>\n",
              "      <td>57.9</td>\n",
              "      <td>54.0</td>\n",
              "      <td>4469</td>\n",
              "      <td>6.68</td>\n",
              "      <td>6.62</td>\n",
              "      <td>3.85</td>\n",
              "      <td>0</td>\n",
              "    </tr>\n",
              "    <tr>\n",
              "      <th>30837</th>\n",
              "      <td>30838</td>\n",
              "      <td>0.33</td>\n",
              "      <td>Premium</td>\n",
              "      <td>H</td>\n",
              "      <td>VS1</td>\n",
              "      <td>59.5</td>\n",
              "      <td>59.0</td>\n",
              "      <td>743</td>\n",
              "      <td>4.53</td>\n",
              "      <td>4.48</td>\n",
              "      <td>2.68</td>\n",
              "      <td>0</td>\n",
              "    </tr>\n",
              "    <tr>\n",
              "      <th>47635</th>\n",
              "      <td>47636</td>\n",
              "      <td>0.51</td>\n",
              "      <td>Ideal</td>\n",
              "      <td>D</td>\n",
              "      <td>VS2</td>\n",
              "      <td>61.8</td>\n",
              "      <td>55.0</td>\n",
              "      <td>1882</td>\n",
              "      <td>5.18</td>\n",
              "      <td>5.15</td>\n",
              "      <td>3.19</td>\n",
              "      <td>1</td>\n",
              "    </tr>\n",
              "    <tr>\n",
              "      <th>50050</th>\n",
              "      <td>50051</td>\n",
              "      <td>0.70</td>\n",
              "      <td>Ideal</td>\n",
              "      <td>F</td>\n",
              "      <td>SI1</td>\n",
              "      <td>62.6</td>\n",
              "      <td>56.0</td>\n",
              "      <td>2200</td>\n",
              "      <td>5.69</td>\n",
              "      <td>5.66</td>\n",
              "      <td>3.55</td>\n",
              "      <td>1</td>\n",
              "    </tr>\n",
              "    <tr>\n",
              "      <th>12827</th>\n",
              "      <td>12828</td>\n",
              "      <td>1.05</td>\n",
              "      <td>Ideal</td>\n",
              "      <td>F</td>\n",
              "      <td>SI2</td>\n",
              "      <td>61.9</td>\n",
              "      <td>56.0</td>\n",
              "      <td>5347</td>\n",
              "      <td>6.48</td>\n",
              "      <td>6.50</td>\n",
              "      <td>4.02</td>\n",
              "      <td>1</td>\n",
              "    </tr>\n",
              "  </tbody>\n",
              "</table>\n",
              "</div>\n",
              "      <button class=\"colab-df-convert\" onclick=\"convertToInteractive('df-ab5d98f4-b876-4170-8954-6fecd2e7c909')\"\n",
              "              title=\"Convert this dataframe to an interactive table.\"\n",
              "              style=\"display:none;\">\n",
              "        \n",
              "  <svg xmlns=\"http://www.w3.org/2000/svg\" height=\"24px\"viewBox=\"0 0 24 24\"\n",
              "       width=\"24px\">\n",
              "    <path d=\"M0 0h24v24H0V0z\" fill=\"none\"/>\n",
              "    <path d=\"M18.56 5.44l.94 2.06.94-2.06 2.06-.94-2.06-.94-.94-2.06-.94 2.06-2.06.94zm-11 1L8.5 8.5l.94-2.06 2.06-.94-2.06-.94L8.5 2.5l-.94 2.06-2.06.94zm10 10l.94 2.06.94-2.06 2.06-.94-2.06-.94-.94-2.06-.94 2.06-2.06.94z\"/><path d=\"M17.41 7.96l-1.37-1.37c-.4-.4-.92-.59-1.43-.59-.52 0-1.04.2-1.43.59L10.3 9.45l-7.72 7.72c-.78.78-.78 2.05 0 2.83L4 21.41c.39.39.9.59 1.41.59.51 0 1.02-.2 1.41-.59l7.78-7.78 2.81-2.81c.8-.78.8-2.07 0-2.86zM5.41 20L4 18.59l7.72-7.72 1.47 1.35L5.41 20z\"/>\n",
              "  </svg>\n",
              "      </button>\n",
              "      \n",
              "  <style>\n",
              "    .colab-df-container {\n",
              "      display:flex;\n",
              "      flex-wrap:wrap;\n",
              "      gap: 12px;\n",
              "    }\n",
              "\n",
              "    .colab-df-convert {\n",
              "      background-color: #E8F0FE;\n",
              "      border: none;\n",
              "      border-radius: 50%;\n",
              "      cursor: pointer;\n",
              "      display: none;\n",
              "      fill: #1967D2;\n",
              "      height: 32px;\n",
              "      padding: 0 0 0 0;\n",
              "      width: 32px;\n",
              "    }\n",
              "\n",
              "    .colab-df-convert:hover {\n",
              "      background-color: #E2EBFA;\n",
              "      box-shadow: 0px 1px 2px rgba(60, 64, 67, 0.3), 0px 1px 3px 1px rgba(60, 64, 67, 0.15);\n",
              "      fill: #174EA6;\n",
              "    }\n",
              "\n",
              "    [theme=dark] .colab-df-convert {\n",
              "      background-color: #3B4455;\n",
              "      fill: #D2E3FC;\n",
              "    }\n",
              "\n",
              "    [theme=dark] .colab-df-convert:hover {\n",
              "      background-color: #434B5C;\n",
              "      box-shadow: 0px 1px 3px 1px rgba(0, 0, 0, 0.15);\n",
              "      filter: drop-shadow(0px 1px 2px rgba(0, 0, 0, 0.3));\n",
              "      fill: #FFFFFF;\n",
              "    }\n",
              "  </style>\n",
              "\n",
              "      <script>\n",
              "        const buttonEl =\n",
              "          document.querySelector('#df-ab5d98f4-b876-4170-8954-6fecd2e7c909 button.colab-df-convert');\n",
              "        buttonEl.style.display =\n",
              "          google.colab.kernel.accessAllowed ? 'block' : 'none';\n",
              "\n",
              "        async function convertToInteractive(key) {\n",
              "          const element = document.querySelector('#df-ab5d98f4-b876-4170-8954-6fecd2e7c909');\n",
              "          const dataTable =\n",
              "            await google.colab.kernel.invokeFunction('convertToInteractive',\n",
              "                                                     [key], {});\n",
              "          if (!dataTable) return;\n",
              "\n",
              "          const docLinkHtml = 'Like what you see? Visit the ' +\n",
              "            '<a target=\"_blank\" href=https://colab.research.google.com/notebooks/data_table.ipynb>data table notebook</a>'\n",
              "            + ' to learn more about interactive tables.';\n",
              "          element.innerHTML = '';\n",
              "          dataTable['output_type'] = 'display_data';\n",
              "          await google.colab.output.renderOutput(dataTable, element);\n",
              "          const docLink = document.createElement('div');\n",
              "          docLink.innerHTML = docLinkHtml;\n",
              "          element.appendChild(docLink);\n",
              "        }\n",
              "      </script>\n",
              "    </div>\n",
              "  </div>\n",
              "  "
            ]
          },
          "metadata": {},
          "execution_count": 87
        }
      ],
      "source": [
        "teemandid.head()"
      ]
    },
    {
      "cell_type": "markdown",
      "metadata": {
        "id": "SyJMV8-Pq4Rb"
      },
      "source": [
        "Vaatame, milline on tasakaal klasside vahel."
      ]
    },
    {
      "cell_type": "code",
      "execution_count": 88,
      "metadata": {
        "id": "g4KXkTnWmm5e",
        "colab": {
          "base_uri": "https://localhost:8080/"
        },
        "outputId": "7d7a72a1-b4f5-4ee6-8777-3ac034210a44"
      },
      "outputs": [
        {
          "output_type": "execute_result",
          "data": {
            "text/plain": [
              "cut_binary\n",
              "0    32389\n",
              "1    21551\n",
              "dtype: int64"
            ]
          },
          "metadata": {},
          "execution_count": 88
        }
      ],
      "source": [
        "teemandid.groupby(\"cut_binary\").size()"
      ]
    },
    {
      "cell_type": "markdown",
      "metadata": {
        "id": "QzHEkNOLrAfq"
      },
      "source": [
        "Jagame andmed treening- ja testhulgaks nagu varemgi. "
      ]
    },
    {
      "cell_type": "code",
      "execution_count": 89,
      "metadata": {
        "id": "oWAyewwCq_sa",
        "colab": {
          "base_uri": "https://localhost:8080/"
        },
        "outputId": "efbc5fc1-4a5c-4099-fb77-e7ce0cbcdeb6"
      },
      "outputs": [
        {
          "output_type": "stream",
          "name": "stdout",
          "text": [
            "(43152, 7)\n",
            "(43152, 1)\n"
          ]
        }
      ],
      "source": [
        "from sklearn.model_selection import train_test_split\n",
        "\n",
        "X = teemandid[[\"carat\", \"depth\", \"table\", \"x\", \"y\", \"z\",\"price\"]]\n",
        "y = teemandid[[\"cut_binary\"]]\n",
        "\n",
        "\n",
        "X_train, X_test, y_train, y_test = train_test_split(X, y, test_size=0.2, random_state=6)\n",
        "print(X_train.shape)\n",
        "print(y_train.shape)"
      ]
    },
    {
      "cell_type": "markdown",
      "metadata": {
        "id": "zdS13GCqrdlv"
      },
      "source": [
        "Kuna \"unustasime\" normaliseerimise, teeme seda nüüd. Tegelikult teeme seda alles nüüd sellepärast, et tuletada meelde, kuidas käitume päriselus: õpetame skaleerija välja ainult treeninghulga peal, kuna testhulga elemendid (\"homne ilm\") on mudeli õpetamise ajal meil veel teadmata. Küll aga teisendame kindlasti ka testhulga elemendid, kasutades treeninghulgal õpetatud skaleerijat. "
      ]
    },
    {
      "cell_type": "code",
      "execution_count": 90,
      "metadata": {
        "id": "kTb-YjO1rd74"
      },
      "outputs": [],
      "source": [
        "scaler = sklearn.preprocessing.MinMaxScaler()\n",
        "X_train[[\"carat\", \"depth\", \"table\", \"x\", \"y\", \"z\",\"price\"]] = scaler.fit_transform(X_train[[\"carat\", \"depth\", \"table\", \"x\", \"y\", \"z\",\"price\"]])\n",
        "X_test[[\"carat\", \"depth\", \"table\", \"x\", \"y\", \"z\",\"price\"]] = scaler.transform(X_test[[\"carat\", \"depth\", \"table\", \"x\", \"y\", \"z\",\"price\"]])"
      ]
    },
    {
      "cell_type": "markdown",
      "metadata": {
        "id": "pGiREU-6sM7k"
      },
      "source": [
        "Koostame samasuguse mudeli nagu varemgi, kuid kaofunktsiooniks (*loss*) on keskmise ruutvea asemel *binary_crossentropy*, sest meid huvitab vea puhul just täpsus kahte klassi jaotamise puhul. Samal põhjusel laseme arvutata välja ka klassidesse jagamise täpsuse (*accuracy*)."
      ]
    },
    {
      "cell_type": "code",
      "execution_count": 91,
      "metadata": {
        "id": "kFb5onMWnQtU"
      },
      "outputs": [],
      "source": [
        "mdl = Sequential()\n",
        "\n",
        "mdl.add(Dense(64, activation=\"tanh\", input_shape=(X_train.shape[1],)))\n",
        "mdl.add(BatchNormalization())\n",
        "mdl.add(Dense(32, activation=\"tanh\"))\n",
        "mdl.add(BatchNormalization())\n",
        "mdl.add(Dense(16, activation=\"selu\"))\n",
        "mdl.add(BatchNormalization())\n",
        "mdl.add(Dense(8, activation=\"linear\"))\n",
        "mdl.add(Dense(1, activation=\"sigmoid\"))\n",
        "\n",
        "mdl.compile(loss='binary_crossentropy', optimizer=\"adam\", metrics = [\"accuracy\"])"
      ]
    },
    {
      "cell_type": "code",
      "execution_count": 92,
      "metadata": {
        "id": "9E5TimfVs55Z",
        "colab": {
          "base_uri": "https://localhost:8080/"
        },
        "outputId": "77c38d8a-2658-4f43-a8df-4c289e1590a0"
      },
      "outputs": [
        {
          "output_type": "stream",
          "name": "stdout",
          "text": [
            "Epoch 1/10\n",
            "169/169 [==============================] - 2s 4ms/step - loss: 0.4068 - accuracy: 0.8286 - val_loss: 0.8914 - val_accuracy: 0.3981\n",
            "Epoch 2/10\n",
            "169/169 [==============================] - 1s 3ms/step - loss: 0.3447 - accuracy: 0.8674 - val_loss: 0.5672 - val_accuracy: 0.6978\n",
            "Epoch 3/10\n",
            "169/169 [==============================] - 1s 3ms/step - loss: 0.3344 - accuracy: 0.8708 - val_loss: 0.4085 - val_accuracy: 0.8237\n",
            "Epoch 4/10\n",
            "169/169 [==============================] - 1s 3ms/step - loss: 0.3303 - accuracy: 0.8728 - val_loss: 0.4365 - val_accuracy: 0.8017\n",
            "Epoch 5/10\n",
            "169/169 [==============================] - 1s 3ms/step - loss: 0.3269 - accuracy: 0.8732 - val_loss: 0.3368 - val_accuracy: 0.8586\n",
            "Epoch 6/10\n",
            "169/169 [==============================] - 1s 3ms/step - loss: 0.3230 - accuracy: 0.8753 - val_loss: 0.3335 - val_accuracy: 0.8619\n",
            "Epoch 7/10\n",
            "169/169 [==============================] - 1s 3ms/step - loss: 0.3203 - accuracy: 0.8785 - val_loss: 0.3191 - val_accuracy: 0.8745\n",
            "Epoch 8/10\n",
            "169/169 [==============================] - 1s 3ms/step - loss: 0.3190 - accuracy: 0.8785 - val_loss: 0.3257 - val_accuracy: 0.8725\n",
            "Epoch 9/10\n",
            "169/169 [==============================] - 1s 4ms/step - loss: 0.3171 - accuracy: 0.8786 - val_loss: 0.3154 - val_accuracy: 0.8763\n",
            "Epoch 10/10\n",
            "169/169 [==============================] - 1s 3ms/step - loss: 0.3146 - accuracy: 0.8791 - val_loss: 0.3195 - val_accuracy: 0.8794\n"
          ]
        }
      ],
      "source": [
        "hist = mdl.fit(X_train, y_train, validation_data = (X_test, y_test), epochs=10, batch_size=256)"
      ]
    },
    {
      "cell_type": "markdown",
      "metadata": {
        "id": "xQm-qerltd9i"
      },
      "source": [
        "Lihtsalt näitlikustamise mõttes võtame mõned testhulga kirjed, laseme nende põhjal ennustada ja vaatame, kas ennustused vastavad õigetele vastustele. Ennustamisel ümardame tulemuse täisarvuni, kuid trükime praegu välja ka ennustuse algsel kujul."
      ]
    },
    {
      "cell_type": "code",
      "execution_count": 93,
      "metadata": {
        "id": "Otrl_mEFtg9U",
        "colab": {
          "base_uri": "https://localhost:8080/"
        },
        "outputId": "6fca62d8-c484-4216-9adf-4e2b4ee566e8"
      },
      "outputs": [
        {
          "output_type": "stream",
          "name": "stdout",
          "text": [
            "Õige vastus: 0 - ennustatud vastus: 1 täpsemalt: 0.8804866\n",
            "Õige vastus: 0 - ennustatud vastus: 0 täpsemalt: 0.014630377\n",
            "Õige vastus: 0 - ennustatud vastus: 0 täpsemalt: 0.43556476\n",
            "Õige vastus: 0 - ennustatud vastus: 0 täpsemalt: 0.24707028\n",
            "Õige vastus: 0 - ennustatud vastus: 0 täpsemalt: 0.012918234\n",
            "Õige vastus: 1 - ennustatud vastus: 1 täpsemalt: 0.91739196\n",
            "Õige vastus: 0 - ennustatud vastus: 0 täpsemalt: 0.008388877\n",
            "Õige vastus: 0 - ennustatud vastus: 0 täpsemalt: 0.23173615\n",
            "Õige vastus: 0 - ennustatud vastus: 0 täpsemalt: 0.049192697\n",
            "Õige vastus: 0 - ennustatud vastus: 0 täpsemalt: 0.00027889013\n"
          ]
        }
      ],
      "source": [
        "y_pred = mdl.predict(X_test[:10])\n",
        "#print(y_pred)\n",
        "for i in range(len(y_pred)):\n",
        "  #print(X_test.iloc[i])\n",
        "  print(\"Õige vastus:\", y_test.iloc[i][\"cut_binary\"], \"- ennustatud vastus:\", round(y_pred[i][0]), \"täpsemalt:\", y_pred[i][0])"
      ]
    },
    {
      "cell_type": "markdown",
      "metadata": {
        "id": "U_TqFzLQOal_"
      },
      "source": [
        "### Mitu klassi\n",
        "Ka rohkema kui kaks klassi puhul on töö väga sarnane, erinevus on mudeli väljundkihi kujus. Kasutame ka siin teemantide andmebaasi ja tunnust \"cut\" ning (nagu varemgi) peame ka nüüd tegema eeltöötlust, kuna taas vajame ainult arvulisel kujul andmeid. Seega kasutame 1-hot vektoriseerimist ja nii saame tulba \"cut\" iga erineva väärtuse kohta ühe uue tulba. Saadud viis uut tulpa ongi meie väljundiks: mudel ennustab, kui suure tõenäosusega kuulub etteantud teemant igasse antud klassi."
      ]
    },
    {
      "cell_type": "code",
      "execution_count": 94,
      "metadata": {
        "id": "7KArGZ5wSgNA",
        "colab": {
          "base_uri": "https://localhost:8080/"
        },
        "outputId": "8d8dcd3e-fde7-4bc4-d648-d1d6e8c8a8d5"
      },
      "outputs": [
        {
          "output_type": "stream",
          "name": "stdout",
          "text": [
            "['Unnamed: 0', 'carat', 'cut', 'color', 'clarity', 'depth', 'table', 'price', 'x', 'y', 'z']\n"
          ]
        }
      ],
      "source": [
        "failinimi = 'diamonds.csv'\n",
        "teemandid = pd.read_csv(failinimi, delimiter=\",\")\n",
        "tunnused = [i for i in teemandid]\n",
        "print(tunnused)\n",
        "teemandid = sklearn.utils.shuffle(teemandid)"
      ]
    },
    {
      "cell_type": "code",
      "execution_count": 95,
      "metadata": {
        "id": "Z3GYn6T1QAoF",
        "colab": {
          "base_uri": "https://localhost:8080/",
          "height": 285
        },
        "outputId": "16978ff7-341c-46f7-8d44-731a6ccee4f2"
      },
      "outputs": [
        {
          "output_type": "execute_result",
          "data": {
            "text/plain": [
              "       Unnamed: 0  carat        cut color clarity  depth  table  price     x  \\\n",
              "6821         6822   0.90       Good     F     SI1   62.5   59.0   4119  6.10   \n",
              "21800       21801   1.21      Ideal     G     VS2   60.1   57.0   9873  6.94   \n",
              "27977       27978   0.30  Very Good     E     VS2   62.4   57.0    658  4.24   \n",
              "8355         8356   1.02      Ideal     F     SI2   62.4   57.0   4398  6.43   \n",
              "36460       36461   0.31      Ideal     D     VS2   62.9   55.0    942  4.34   \n",
              "\n",
              "          y     z  Fair  Good  Ideal  Premium  Very Good  \n",
              "6821   6.13  3.82     0     1      0        0          0  \n",
              "21800  6.98  4.18     0     0      1        0          0  \n",
              "27977  4.29  2.66     0     0      0        0          1  \n",
              "8355   6.40  4.00     0     0      1        0          0  \n",
              "36460  4.31  2.72     0     0      1        0          0  "
            ],
            "text/html": [
              "\n",
              "  <div id=\"df-7761b162-fa1a-4140-a30e-c1116ee21f7a\">\n",
              "    <div class=\"colab-df-container\">\n",
              "      <div>\n",
              "<style scoped>\n",
              "    .dataframe tbody tr th:only-of-type {\n",
              "        vertical-align: middle;\n",
              "    }\n",
              "\n",
              "    .dataframe tbody tr th {\n",
              "        vertical-align: top;\n",
              "    }\n",
              "\n",
              "    .dataframe thead th {\n",
              "        text-align: right;\n",
              "    }\n",
              "</style>\n",
              "<table border=\"1\" class=\"dataframe\">\n",
              "  <thead>\n",
              "    <tr style=\"text-align: right;\">\n",
              "      <th></th>\n",
              "      <th>Unnamed: 0</th>\n",
              "      <th>carat</th>\n",
              "      <th>cut</th>\n",
              "      <th>color</th>\n",
              "      <th>clarity</th>\n",
              "      <th>depth</th>\n",
              "      <th>table</th>\n",
              "      <th>price</th>\n",
              "      <th>x</th>\n",
              "      <th>y</th>\n",
              "      <th>z</th>\n",
              "      <th>Fair</th>\n",
              "      <th>Good</th>\n",
              "      <th>Ideal</th>\n",
              "      <th>Premium</th>\n",
              "      <th>Very Good</th>\n",
              "    </tr>\n",
              "  </thead>\n",
              "  <tbody>\n",
              "    <tr>\n",
              "      <th>6821</th>\n",
              "      <td>6822</td>\n",
              "      <td>0.90</td>\n",
              "      <td>Good</td>\n",
              "      <td>F</td>\n",
              "      <td>SI1</td>\n",
              "      <td>62.5</td>\n",
              "      <td>59.0</td>\n",
              "      <td>4119</td>\n",
              "      <td>6.10</td>\n",
              "      <td>6.13</td>\n",
              "      <td>3.82</td>\n",
              "      <td>0</td>\n",
              "      <td>1</td>\n",
              "      <td>0</td>\n",
              "      <td>0</td>\n",
              "      <td>0</td>\n",
              "    </tr>\n",
              "    <tr>\n",
              "      <th>21800</th>\n",
              "      <td>21801</td>\n",
              "      <td>1.21</td>\n",
              "      <td>Ideal</td>\n",
              "      <td>G</td>\n",
              "      <td>VS2</td>\n",
              "      <td>60.1</td>\n",
              "      <td>57.0</td>\n",
              "      <td>9873</td>\n",
              "      <td>6.94</td>\n",
              "      <td>6.98</td>\n",
              "      <td>4.18</td>\n",
              "      <td>0</td>\n",
              "      <td>0</td>\n",
              "      <td>1</td>\n",
              "      <td>0</td>\n",
              "      <td>0</td>\n",
              "    </tr>\n",
              "    <tr>\n",
              "      <th>27977</th>\n",
              "      <td>27978</td>\n",
              "      <td>0.30</td>\n",
              "      <td>Very Good</td>\n",
              "      <td>E</td>\n",
              "      <td>VS2</td>\n",
              "      <td>62.4</td>\n",
              "      <td>57.0</td>\n",
              "      <td>658</td>\n",
              "      <td>4.24</td>\n",
              "      <td>4.29</td>\n",
              "      <td>2.66</td>\n",
              "      <td>0</td>\n",
              "      <td>0</td>\n",
              "      <td>0</td>\n",
              "      <td>0</td>\n",
              "      <td>1</td>\n",
              "    </tr>\n",
              "    <tr>\n",
              "      <th>8355</th>\n",
              "      <td>8356</td>\n",
              "      <td>1.02</td>\n",
              "      <td>Ideal</td>\n",
              "      <td>F</td>\n",
              "      <td>SI2</td>\n",
              "      <td>62.4</td>\n",
              "      <td>57.0</td>\n",
              "      <td>4398</td>\n",
              "      <td>6.43</td>\n",
              "      <td>6.40</td>\n",
              "      <td>4.00</td>\n",
              "      <td>0</td>\n",
              "      <td>0</td>\n",
              "      <td>1</td>\n",
              "      <td>0</td>\n",
              "      <td>0</td>\n",
              "    </tr>\n",
              "    <tr>\n",
              "      <th>36460</th>\n",
              "      <td>36461</td>\n",
              "      <td>0.31</td>\n",
              "      <td>Ideal</td>\n",
              "      <td>D</td>\n",
              "      <td>VS2</td>\n",
              "      <td>62.9</td>\n",
              "      <td>55.0</td>\n",
              "      <td>942</td>\n",
              "      <td>4.34</td>\n",
              "      <td>4.31</td>\n",
              "      <td>2.72</td>\n",
              "      <td>0</td>\n",
              "      <td>0</td>\n",
              "      <td>1</td>\n",
              "      <td>0</td>\n",
              "      <td>0</td>\n",
              "    </tr>\n",
              "  </tbody>\n",
              "</table>\n",
              "</div>\n",
              "      <button class=\"colab-df-convert\" onclick=\"convertToInteractive('df-7761b162-fa1a-4140-a30e-c1116ee21f7a')\"\n",
              "              title=\"Convert this dataframe to an interactive table.\"\n",
              "              style=\"display:none;\">\n",
              "        \n",
              "  <svg xmlns=\"http://www.w3.org/2000/svg\" height=\"24px\"viewBox=\"0 0 24 24\"\n",
              "       width=\"24px\">\n",
              "    <path d=\"M0 0h24v24H0V0z\" fill=\"none\"/>\n",
              "    <path d=\"M18.56 5.44l.94 2.06.94-2.06 2.06-.94-2.06-.94-.94-2.06-.94 2.06-2.06.94zm-11 1L8.5 8.5l.94-2.06 2.06-.94-2.06-.94L8.5 2.5l-.94 2.06-2.06.94zm10 10l.94 2.06.94-2.06 2.06-.94-2.06-.94-.94-2.06-.94 2.06-2.06.94z\"/><path d=\"M17.41 7.96l-1.37-1.37c-.4-.4-.92-.59-1.43-.59-.52 0-1.04.2-1.43.59L10.3 9.45l-7.72 7.72c-.78.78-.78 2.05 0 2.83L4 21.41c.39.39.9.59 1.41.59.51 0 1.02-.2 1.41-.59l7.78-7.78 2.81-2.81c.8-.78.8-2.07 0-2.86zM5.41 20L4 18.59l7.72-7.72 1.47 1.35L5.41 20z\"/>\n",
              "  </svg>\n",
              "      </button>\n",
              "      \n",
              "  <style>\n",
              "    .colab-df-container {\n",
              "      display:flex;\n",
              "      flex-wrap:wrap;\n",
              "      gap: 12px;\n",
              "    }\n",
              "\n",
              "    .colab-df-convert {\n",
              "      background-color: #E8F0FE;\n",
              "      border: none;\n",
              "      border-radius: 50%;\n",
              "      cursor: pointer;\n",
              "      display: none;\n",
              "      fill: #1967D2;\n",
              "      height: 32px;\n",
              "      padding: 0 0 0 0;\n",
              "      width: 32px;\n",
              "    }\n",
              "\n",
              "    .colab-df-convert:hover {\n",
              "      background-color: #E2EBFA;\n",
              "      box-shadow: 0px 1px 2px rgba(60, 64, 67, 0.3), 0px 1px 3px 1px rgba(60, 64, 67, 0.15);\n",
              "      fill: #174EA6;\n",
              "    }\n",
              "\n",
              "    [theme=dark] .colab-df-convert {\n",
              "      background-color: #3B4455;\n",
              "      fill: #D2E3FC;\n",
              "    }\n",
              "\n",
              "    [theme=dark] .colab-df-convert:hover {\n",
              "      background-color: #434B5C;\n",
              "      box-shadow: 0px 1px 3px 1px rgba(0, 0, 0, 0.15);\n",
              "      filter: drop-shadow(0px 1px 2px rgba(0, 0, 0, 0.3));\n",
              "      fill: #FFFFFF;\n",
              "    }\n",
              "  </style>\n",
              "\n",
              "      <script>\n",
              "        const buttonEl =\n",
              "          document.querySelector('#df-7761b162-fa1a-4140-a30e-c1116ee21f7a button.colab-df-convert');\n",
              "        buttonEl.style.display =\n",
              "          google.colab.kernel.accessAllowed ? 'block' : 'none';\n",
              "\n",
              "        async function convertToInteractive(key) {\n",
              "          const element = document.querySelector('#df-7761b162-fa1a-4140-a30e-c1116ee21f7a');\n",
              "          const dataTable =\n",
              "            await google.colab.kernel.invokeFunction('convertToInteractive',\n",
              "                                                     [key], {});\n",
              "          if (!dataTable) return;\n",
              "\n",
              "          const docLinkHtml = 'Like what you see? Visit the ' +\n",
              "            '<a target=\"_blank\" href=https://colab.research.google.com/notebooks/data_table.ipynb>data table notebook</a>'\n",
              "            + ' to learn more about interactive tables.';\n",
              "          element.innerHTML = '';\n",
              "          dataTable['output_type'] = 'display_data';\n",
              "          await google.colab.output.renderOutput(dataTable, element);\n",
              "          const docLink = document.createElement('div');\n",
              "          docLink.innerHTML = docLinkHtml;\n",
              "          element.appendChild(docLink);\n",
              "        }\n",
              "      </script>\n",
              "    </div>\n",
              "  </div>\n",
              "  "
            ]
          },
          "metadata": {},
          "execution_count": 95
        }
      ],
      "source": [
        "onehot = pd.get_dummies(teemandid['cut'])\n",
        "lisatudCutTunnused = [i for i in onehot]\n",
        "teemandid = teemandid.join(onehot)\n",
        "teemandid.head()"
      ]
    },
    {
      "cell_type": "code",
      "execution_count": 96,
      "metadata": {
        "id": "HM4ov6pFQnN8",
        "colab": {
          "base_uri": "https://localhost:8080/"
        },
        "outputId": "946cf5b1-a001-4c47-f331-e5f5a5a1708b"
      },
      "outputs": [
        {
          "output_type": "stream",
          "name": "stdout",
          "text": [
            "(43152, 7)\n",
            "(43152, 5)\n",
            "       Fair  Good  Ideal  Premium  Very Good\n",
            "18844     0     0      0        0          1\n",
            "26737     0     0      0        1          0\n",
            "25913     0     0      0        1          0\n",
            "42022     0     0      0        0          1\n",
            "31725     0     0      0        0          1\n",
            "...     ...   ...    ...      ...        ...\n",
            "33968     0     0      1        0          0\n",
            "13701     0     0      0        1          0\n",
            "31203     0     0      0        1          0\n",
            "27886     0     0      1        0          0\n",
            "13531     0     0      0        1          0\n",
            "\n",
            "[10788 rows x 5 columns]\n"
          ]
        }
      ],
      "source": [
        "from sklearn.model_selection import train_test_split\n",
        "\n",
        "X = teemandid[[\"carat\", \"depth\", \"table\", \"x\", \"y\", \"z\",\"price\"]]\n",
        "y = teemandid[lisatudCutTunnused]\n",
        "\n",
        "\n",
        "X_train, X_test, y_train, y_test = train_test_split(X, y, test_size=0.2, random_state=6)\n",
        "print(X_train.shape)\n",
        "print(y_train.shape)\n",
        "print(y_test)"
      ]
    },
    {
      "cell_type": "code",
      "execution_count": 97,
      "metadata": {
        "id": "BAMpO5YTQ5OV"
      },
      "outputs": [],
      "source": [
        "scaler = sklearn.preprocessing.MinMaxScaler()\n",
        "X_train[[\"carat\", \"depth\", \"table\", \"x\", \"y\", \"z\", \"price\"]] = scaler.fit_transform(X_train[[\"carat\", \"depth\", \"table\", \"x\", \"y\", \"z\", \"price\"]])\n",
        "X_test[[\"carat\", \"depth\", \"table\", \"x\", \"y\", \"z\", \"price\"]] = scaler.transform(X_test[[\"carat\", \"depth\", \"table\", \"x\", \"y\", \"z\", \"price\"]])"
      ]
    },
    {
      "cell_type": "code",
      "execution_count": 98,
      "metadata": {
        "id": "wnz_Pg0KRKYV",
        "colab": {
          "base_uri": "https://localhost:8080/",
          "height": 300
        },
        "outputId": "67d61b37-1dd4-4ab5-a01e-b737489eacb9"
      },
      "outputs": [
        {
          "output_type": "execute_result",
          "data": {
            "text/plain": [
              "              carat         depth         table             x             y  \\\n",
              "count  43152.000000  43152.000000  43152.000000  43152.000000  43152.000000   \n",
              "mean       0.139514      0.520892      0.278073      0.560720      0.180458   \n",
              "std        0.110367      0.039769      0.042992      0.109720      0.035250   \n",
              "min        0.000000      0.000000      0.000000      0.000000      0.000000   \n",
              "25%        0.046512      0.500000      0.250000      0.461388      0.148428   \n",
              "50%        0.116279      0.522222      0.269231      0.557185      0.179560   \n",
              "75%        0.195349      0.541667      0.307692      0.640274      0.205660   \n",
              "max        1.000000      1.000000      1.000000      1.000000      1.000000   \n",
              "\n",
              "                  z         price  \n",
              "count  43152.000000  43152.000000  \n",
              "mean       0.111389      0.195822  \n",
              "std        0.022257      0.216138  \n",
              "min        0.000000      0.000000  \n",
              "25%        0.091509      0.034060  \n",
              "50%        0.111006      0.113099  \n",
              "75%        0.127044      0.270963  \n",
              "max        1.000000      1.000000  "
            ],
            "text/html": [
              "\n",
              "  <div id=\"df-3f4aa763-3327-4e8b-a3c4-dc9eb2e12689\">\n",
              "    <div class=\"colab-df-container\">\n",
              "      <div>\n",
              "<style scoped>\n",
              "    .dataframe tbody tr th:only-of-type {\n",
              "        vertical-align: middle;\n",
              "    }\n",
              "\n",
              "    .dataframe tbody tr th {\n",
              "        vertical-align: top;\n",
              "    }\n",
              "\n",
              "    .dataframe thead th {\n",
              "        text-align: right;\n",
              "    }\n",
              "</style>\n",
              "<table border=\"1\" class=\"dataframe\">\n",
              "  <thead>\n",
              "    <tr style=\"text-align: right;\">\n",
              "      <th></th>\n",
              "      <th>carat</th>\n",
              "      <th>depth</th>\n",
              "      <th>table</th>\n",
              "      <th>x</th>\n",
              "      <th>y</th>\n",
              "      <th>z</th>\n",
              "      <th>price</th>\n",
              "    </tr>\n",
              "  </thead>\n",
              "  <tbody>\n",
              "    <tr>\n",
              "      <th>count</th>\n",
              "      <td>43152.000000</td>\n",
              "      <td>43152.000000</td>\n",
              "      <td>43152.000000</td>\n",
              "      <td>43152.000000</td>\n",
              "      <td>43152.000000</td>\n",
              "      <td>43152.000000</td>\n",
              "      <td>43152.000000</td>\n",
              "    </tr>\n",
              "    <tr>\n",
              "      <th>mean</th>\n",
              "      <td>0.139514</td>\n",
              "      <td>0.520892</td>\n",
              "      <td>0.278073</td>\n",
              "      <td>0.560720</td>\n",
              "      <td>0.180458</td>\n",
              "      <td>0.111389</td>\n",
              "      <td>0.195822</td>\n",
              "    </tr>\n",
              "    <tr>\n",
              "      <th>std</th>\n",
              "      <td>0.110367</td>\n",
              "      <td>0.039769</td>\n",
              "      <td>0.042992</td>\n",
              "      <td>0.109720</td>\n",
              "      <td>0.035250</td>\n",
              "      <td>0.022257</td>\n",
              "      <td>0.216138</td>\n",
              "    </tr>\n",
              "    <tr>\n",
              "      <th>min</th>\n",
              "      <td>0.000000</td>\n",
              "      <td>0.000000</td>\n",
              "      <td>0.000000</td>\n",
              "      <td>0.000000</td>\n",
              "      <td>0.000000</td>\n",
              "      <td>0.000000</td>\n",
              "      <td>0.000000</td>\n",
              "    </tr>\n",
              "    <tr>\n",
              "      <th>25%</th>\n",
              "      <td>0.046512</td>\n",
              "      <td>0.500000</td>\n",
              "      <td>0.250000</td>\n",
              "      <td>0.461388</td>\n",
              "      <td>0.148428</td>\n",
              "      <td>0.091509</td>\n",
              "      <td>0.034060</td>\n",
              "    </tr>\n",
              "    <tr>\n",
              "      <th>50%</th>\n",
              "      <td>0.116279</td>\n",
              "      <td>0.522222</td>\n",
              "      <td>0.269231</td>\n",
              "      <td>0.557185</td>\n",
              "      <td>0.179560</td>\n",
              "      <td>0.111006</td>\n",
              "      <td>0.113099</td>\n",
              "    </tr>\n",
              "    <tr>\n",
              "      <th>75%</th>\n",
              "      <td>0.195349</td>\n",
              "      <td>0.541667</td>\n",
              "      <td>0.307692</td>\n",
              "      <td>0.640274</td>\n",
              "      <td>0.205660</td>\n",
              "      <td>0.127044</td>\n",
              "      <td>0.270963</td>\n",
              "    </tr>\n",
              "    <tr>\n",
              "      <th>max</th>\n",
              "      <td>1.000000</td>\n",
              "      <td>1.000000</td>\n",
              "      <td>1.000000</td>\n",
              "      <td>1.000000</td>\n",
              "      <td>1.000000</td>\n",
              "      <td>1.000000</td>\n",
              "      <td>1.000000</td>\n",
              "    </tr>\n",
              "  </tbody>\n",
              "</table>\n",
              "</div>\n",
              "      <button class=\"colab-df-convert\" onclick=\"convertToInteractive('df-3f4aa763-3327-4e8b-a3c4-dc9eb2e12689')\"\n",
              "              title=\"Convert this dataframe to an interactive table.\"\n",
              "              style=\"display:none;\">\n",
              "        \n",
              "  <svg xmlns=\"http://www.w3.org/2000/svg\" height=\"24px\"viewBox=\"0 0 24 24\"\n",
              "       width=\"24px\">\n",
              "    <path d=\"M0 0h24v24H0V0z\" fill=\"none\"/>\n",
              "    <path d=\"M18.56 5.44l.94 2.06.94-2.06 2.06-.94-2.06-.94-.94-2.06-.94 2.06-2.06.94zm-11 1L8.5 8.5l.94-2.06 2.06-.94-2.06-.94L8.5 2.5l-.94 2.06-2.06.94zm10 10l.94 2.06.94-2.06 2.06-.94-2.06-.94-.94-2.06-.94 2.06-2.06.94z\"/><path d=\"M17.41 7.96l-1.37-1.37c-.4-.4-.92-.59-1.43-.59-.52 0-1.04.2-1.43.59L10.3 9.45l-7.72 7.72c-.78.78-.78 2.05 0 2.83L4 21.41c.39.39.9.59 1.41.59.51 0 1.02-.2 1.41-.59l7.78-7.78 2.81-2.81c.8-.78.8-2.07 0-2.86zM5.41 20L4 18.59l7.72-7.72 1.47 1.35L5.41 20z\"/>\n",
              "  </svg>\n",
              "      </button>\n",
              "      \n",
              "  <style>\n",
              "    .colab-df-container {\n",
              "      display:flex;\n",
              "      flex-wrap:wrap;\n",
              "      gap: 12px;\n",
              "    }\n",
              "\n",
              "    .colab-df-convert {\n",
              "      background-color: #E8F0FE;\n",
              "      border: none;\n",
              "      border-radius: 50%;\n",
              "      cursor: pointer;\n",
              "      display: none;\n",
              "      fill: #1967D2;\n",
              "      height: 32px;\n",
              "      padding: 0 0 0 0;\n",
              "      width: 32px;\n",
              "    }\n",
              "\n",
              "    .colab-df-convert:hover {\n",
              "      background-color: #E2EBFA;\n",
              "      box-shadow: 0px 1px 2px rgba(60, 64, 67, 0.3), 0px 1px 3px 1px rgba(60, 64, 67, 0.15);\n",
              "      fill: #174EA6;\n",
              "    }\n",
              "\n",
              "    [theme=dark] .colab-df-convert {\n",
              "      background-color: #3B4455;\n",
              "      fill: #D2E3FC;\n",
              "    }\n",
              "\n",
              "    [theme=dark] .colab-df-convert:hover {\n",
              "      background-color: #434B5C;\n",
              "      box-shadow: 0px 1px 3px 1px rgba(0, 0, 0, 0.15);\n",
              "      filter: drop-shadow(0px 1px 2px rgba(0, 0, 0, 0.3));\n",
              "      fill: #FFFFFF;\n",
              "    }\n",
              "  </style>\n",
              "\n",
              "      <script>\n",
              "        const buttonEl =\n",
              "          document.querySelector('#df-3f4aa763-3327-4e8b-a3c4-dc9eb2e12689 button.colab-df-convert');\n",
              "        buttonEl.style.display =\n",
              "          google.colab.kernel.accessAllowed ? 'block' : 'none';\n",
              "\n",
              "        async function convertToInteractive(key) {\n",
              "          const element = document.querySelector('#df-3f4aa763-3327-4e8b-a3c4-dc9eb2e12689');\n",
              "          const dataTable =\n",
              "            await google.colab.kernel.invokeFunction('convertToInteractive',\n",
              "                                                     [key], {});\n",
              "          if (!dataTable) return;\n",
              "\n",
              "          const docLinkHtml = 'Like what you see? Visit the ' +\n",
              "            '<a target=\"_blank\" href=https://colab.research.google.com/notebooks/data_table.ipynb>data table notebook</a>'\n",
              "            + ' to learn more about interactive tables.';\n",
              "          element.innerHTML = '';\n",
              "          dataTable['output_type'] = 'display_data';\n",
              "          await google.colab.output.renderOutput(dataTable, element);\n",
              "          const docLink = document.createElement('div');\n",
              "          docLink.innerHTML = docLinkHtml;\n",
              "          element.appendChild(docLink);\n",
              "        }\n",
              "      </script>\n",
              "    </div>\n",
              "  </div>\n",
              "  "
            ]
          },
          "metadata": {},
          "execution_count": 98
        }
      ],
      "source": [
        "X_train.describe()"
      ]
    },
    {
      "cell_type": "code",
      "execution_count": 99,
      "metadata": {
        "id": "yKwn689ZRNfD",
        "colab": {
          "base_uri": "https://localhost:8080/",
          "height": 300
        },
        "outputId": "8c3fce0a-5e6c-4bbf-ed8d-a3d817ece483"
      },
      "outputs": [
        {
          "output_type": "execute_result",
          "data": {
            "text/plain": [
              "              carat         depth         table             x             y  \\\n",
              "count  10788.000000  10788.000000  10788.000000  10788.000000  10788.000000   \n",
              "mean       0.137222      0.520514      0.277823      0.558270      0.179824   \n",
              "std        0.109690      0.039900      0.042890      0.109375      0.038463   \n",
              "min        0.000000      0.000000      0.019231      0.000000      0.000000   \n",
              "25%        0.046512      0.500000      0.250000      0.459433      0.148113   \n",
              "50%        0.116279      0.525000      0.269231      0.555230      0.178931   \n",
              "75%        0.195349      0.541667      0.307692      0.637341      0.205031   \n",
              "max        1.118605      0.786111      0.692308      1.049853      1.852201   \n",
              "\n",
              "                  z         price  \n",
              "count  10788.000000  10788.000000  \n",
              "mean       0.110850      0.191680  \n",
              "std        0.021924      0.213819  \n",
              "min        0.000000      0.000054  \n",
              "25%        0.091195      0.033141  \n",
              "50%        0.110377      0.109802  \n",
              "75%        0.126730      0.268111  \n",
              "max        0.253459      0.998054  "
            ],
            "text/html": [
              "\n",
              "  <div id=\"df-194ab93d-6839-4e35-a3ea-97edde83971f\">\n",
              "    <div class=\"colab-df-container\">\n",
              "      <div>\n",
              "<style scoped>\n",
              "    .dataframe tbody tr th:only-of-type {\n",
              "        vertical-align: middle;\n",
              "    }\n",
              "\n",
              "    .dataframe tbody tr th {\n",
              "        vertical-align: top;\n",
              "    }\n",
              "\n",
              "    .dataframe thead th {\n",
              "        text-align: right;\n",
              "    }\n",
              "</style>\n",
              "<table border=\"1\" class=\"dataframe\">\n",
              "  <thead>\n",
              "    <tr style=\"text-align: right;\">\n",
              "      <th></th>\n",
              "      <th>carat</th>\n",
              "      <th>depth</th>\n",
              "      <th>table</th>\n",
              "      <th>x</th>\n",
              "      <th>y</th>\n",
              "      <th>z</th>\n",
              "      <th>price</th>\n",
              "    </tr>\n",
              "  </thead>\n",
              "  <tbody>\n",
              "    <tr>\n",
              "      <th>count</th>\n",
              "      <td>10788.000000</td>\n",
              "      <td>10788.000000</td>\n",
              "      <td>10788.000000</td>\n",
              "      <td>10788.000000</td>\n",
              "      <td>10788.000000</td>\n",
              "      <td>10788.000000</td>\n",
              "      <td>10788.000000</td>\n",
              "    </tr>\n",
              "    <tr>\n",
              "      <th>mean</th>\n",
              "      <td>0.137222</td>\n",
              "      <td>0.520514</td>\n",
              "      <td>0.277823</td>\n",
              "      <td>0.558270</td>\n",
              "      <td>0.179824</td>\n",
              "      <td>0.110850</td>\n",
              "      <td>0.191680</td>\n",
              "    </tr>\n",
              "    <tr>\n",
              "      <th>std</th>\n",
              "      <td>0.109690</td>\n",
              "      <td>0.039900</td>\n",
              "      <td>0.042890</td>\n",
              "      <td>0.109375</td>\n",
              "      <td>0.038463</td>\n",
              "      <td>0.021924</td>\n",
              "      <td>0.213819</td>\n",
              "    </tr>\n",
              "    <tr>\n",
              "      <th>min</th>\n",
              "      <td>0.000000</td>\n",
              "      <td>0.000000</td>\n",
              "      <td>0.019231</td>\n",
              "      <td>0.000000</td>\n",
              "      <td>0.000000</td>\n",
              "      <td>0.000000</td>\n",
              "      <td>0.000054</td>\n",
              "    </tr>\n",
              "    <tr>\n",
              "      <th>25%</th>\n",
              "      <td>0.046512</td>\n",
              "      <td>0.500000</td>\n",
              "      <td>0.250000</td>\n",
              "      <td>0.459433</td>\n",
              "      <td>0.148113</td>\n",
              "      <td>0.091195</td>\n",
              "      <td>0.033141</td>\n",
              "    </tr>\n",
              "    <tr>\n",
              "      <th>50%</th>\n",
              "      <td>0.116279</td>\n",
              "      <td>0.525000</td>\n",
              "      <td>0.269231</td>\n",
              "      <td>0.555230</td>\n",
              "      <td>0.178931</td>\n",
              "      <td>0.110377</td>\n",
              "      <td>0.109802</td>\n",
              "    </tr>\n",
              "    <tr>\n",
              "      <th>75%</th>\n",
              "      <td>0.195349</td>\n",
              "      <td>0.541667</td>\n",
              "      <td>0.307692</td>\n",
              "      <td>0.637341</td>\n",
              "      <td>0.205031</td>\n",
              "      <td>0.126730</td>\n",
              "      <td>0.268111</td>\n",
              "    </tr>\n",
              "    <tr>\n",
              "      <th>max</th>\n",
              "      <td>1.118605</td>\n",
              "      <td>0.786111</td>\n",
              "      <td>0.692308</td>\n",
              "      <td>1.049853</td>\n",
              "      <td>1.852201</td>\n",
              "      <td>0.253459</td>\n",
              "      <td>0.998054</td>\n",
              "    </tr>\n",
              "  </tbody>\n",
              "</table>\n",
              "</div>\n",
              "      <button class=\"colab-df-convert\" onclick=\"convertToInteractive('df-194ab93d-6839-4e35-a3ea-97edde83971f')\"\n",
              "              title=\"Convert this dataframe to an interactive table.\"\n",
              "              style=\"display:none;\">\n",
              "        \n",
              "  <svg xmlns=\"http://www.w3.org/2000/svg\" height=\"24px\"viewBox=\"0 0 24 24\"\n",
              "       width=\"24px\">\n",
              "    <path d=\"M0 0h24v24H0V0z\" fill=\"none\"/>\n",
              "    <path d=\"M18.56 5.44l.94 2.06.94-2.06 2.06-.94-2.06-.94-.94-2.06-.94 2.06-2.06.94zm-11 1L8.5 8.5l.94-2.06 2.06-.94-2.06-.94L8.5 2.5l-.94 2.06-2.06.94zm10 10l.94 2.06.94-2.06 2.06-.94-2.06-.94-.94-2.06-.94 2.06-2.06.94z\"/><path d=\"M17.41 7.96l-1.37-1.37c-.4-.4-.92-.59-1.43-.59-.52 0-1.04.2-1.43.59L10.3 9.45l-7.72 7.72c-.78.78-.78 2.05 0 2.83L4 21.41c.39.39.9.59 1.41.59.51 0 1.02-.2 1.41-.59l7.78-7.78 2.81-2.81c.8-.78.8-2.07 0-2.86zM5.41 20L4 18.59l7.72-7.72 1.47 1.35L5.41 20z\"/>\n",
              "  </svg>\n",
              "      </button>\n",
              "      \n",
              "  <style>\n",
              "    .colab-df-container {\n",
              "      display:flex;\n",
              "      flex-wrap:wrap;\n",
              "      gap: 12px;\n",
              "    }\n",
              "\n",
              "    .colab-df-convert {\n",
              "      background-color: #E8F0FE;\n",
              "      border: none;\n",
              "      border-radius: 50%;\n",
              "      cursor: pointer;\n",
              "      display: none;\n",
              "      fill: #1967D2;\n",
              "      height: 32px;\n",
              "      padding: 0 0 0 0;\n",
              "      width: 32px;\n",
              "    }\n",
              "\n",
              "    .colab-df-convert:hover {\n",
              "      background-color: #E2EBFA;\n",
              "      box-shadow: 0px 1px 2px rgba(60, 64, 67, 0.3), 0px 1px 3px 1px rgba(60, 64, 67, 0.15);\n",
              "      fill: #174EA6;\n",
              "    }\n",
              "\n",
              "    [theme=dark] .colab-df-convert {\n",
              "      background-color: #3B4455;\n",
              "      fill: #D2E3FC;\n",
              "    }\n",
              "\n",
              "    [theme=dark] .colab-df-convert:hover {\n",
              "      background-color: #434B5C;\n",
              "      box-shadow: 0px 1px 3px 1px rgba(0, 0, 0, 0.15);\n",
              "      filter: drop-shadow(0px 1px 2px rgba(0, 0, 0, 0.3));\n",
              "      fill: #FFFFFF;\n",
              "    }\n",
              "  </style>\n",
              "\n",
              "      <script>\n",
              "        const buttonEl =\n",
              "          document.querySelector('#df-194ab93d-6839-4e35-a3ea-97edde83971f button.colab-df-convert');\n",
              "        buttonEl.style.display =\n",
              "          google.colab.kernel.accessAllowed ? 'block' : 'none';\n",
              "\n",
              "        async function convertToInteractive(key) {\n",
              "          const element = document.querySelector('#df-194ab93d-6839-4e35-a3ea-97edde83971f');\n",
              "          const dataTable =\n",
              "            await google.colab.kernel.invokeFunction('convertToInteractive',\n",
              "                                                     [key], {});\n",
              "          if (!dataTable) return;\n",
              "\n",
              "          const docLinkHtml = 'Like what you see? Visit the ' +\n",
              "            '<a target=\"_blank\" href=https://colab.research.google.com/notebooks/data_table.ipynb>data table notebook</a>'\n",
              "            + ' to learn more about interactive tables.';\n",
              "          element.innerHTML = '';\n",
              "          dataTable['output_type'] = 'display_data';\n",
              "          await google.colab.output.renderOutput(dataTable, element);\n",
              "          const docLink = document.createElement('div');\n",
              "          docLink.innerHTML = docLinkHtml;\n",
              "          element.appendChild(docLink);\n",
              "        }\n",
              "      </script>\n",
              "    </div>\n",
              "  </div>\n",
              "  "
            ]
          },
          "metadata": {},
          "execution_count": 99
        }
      ],
      "source": [
        "X_test.describe()"
      ]
    },
    {
      "cell_type": "markdown",
      "metadata": {
        "id": "4xlTyfccypGj"
      },
      "source": [
        "Loome mudeli, mis on väga sarnane eelmisele, kuid kuna meil on väljundis viis väärtust, peab ka mudeli viimase kihi suurus olema viis. Aktiveerimisfunktsioonina kasutame selles kihis *softmaxi*, mis teisendab väljundkihi viis väärtust nii, et nende summa oleks alati üks.\n",
        "\n",
        "Kaofunktsioonina kasutame *categorical_crossentropy*, kuna erivalt eelmisest on meil tegemist rohkem kui kahe klassiga."
      ]
    },
    {
      "cell_type": "code",
      "execution_count": 100,
      "metadata": {
        "id": "hUWtj5LyRU_T"
      },
      "outputs": [],
      "source": [
        "mdl = Sequential()\n",
        "\n",
        "mdl.add(Dense(64, activation=\"tanh\", input_shape=(X_train.shape[1],)))\n",
        "mdl.add(BatchNormalization())\n",
        "mdl.add(Dense(32, activation=\"tanh\"))\n",
        "mdl.add(BatchNormalization())\n",
        "mdl.add(Dense(16, activation=\"selu\"))\n",
        "mdl.add(BatchNormalization())\n",
        "mdl.add(Dense(8, activation=\"linear\"))\n",
        "mdl.add(Dense(5, activation=\"softmax\"))\n",
        "\n",
        "mdl.compile(loss='categorical_crossentropy', optimizer=\"adam\", metrics=[\"accuracy\"])"
      ]
    },
    {
      "cell_type": "code",
      "execution_count": 101,
      "metadata": {
        "id": "Gm_EgjjCRfxd",
        "colab": {
          "base_uri": "https://localhost:8080/"
        },
        "outputId": "f850d3f0-b027-4dea-f2c7-417d836b4f84"
      },
      "outputs": [
        {
          "output_type": "stream",
          "name": "stdout",
          "text": [
            "Epoch 1/10\n",
            "169/169 [==============================] - 2s 4ms/step - loss: 1.1533 - accuracy: 0.5696 - val_loss: 1.3208 - val_accuracy: 0.4285\n",
            "Epoch 2/10\n",
            "169/169 [==============================] - 1s 3ms/step - loss: 0.8478 - accuracy: 0.6852 - val_loss: 1.4896 - val_accuracy: 0.4220\n",
            "Epoch 3/10\n",
            "169/169 [==============================] - 1s 3ms/step - loss: 0.7273 - accuracy: 0.7222 - val_loss: 1.3527 - val_accuracy: 0.5225\n",
            "Epoch 4/10\n",
            "169/169 [==============================] - 1s 3ms/step - loss: 0.6911 - accuracy: 0.7343 - val_loss: 1.1288 - val_accuracy: 0.5512\n",
            "Epoch 5/10\n",
            "169/169 [==============================] - 1s 3ms/step - loss: 0.6737 - accuracy: 0.7405 - val_loss: 3.3142 - val_accuracy: 0.2685\n",
            "Epoch 6/10\n",
            "169/169 [==============================] - 1s 3ms/step - loss: 0.6625 - accuracy: 0.7442 - val_loss: 0.9592 - val_accuracy: 0.6460\n",
            "Epoch 7/10\n",
            "169/169 [==============================] - 1s 3ms/step - loss: 0.6511 - accuracy: 0.7472 - val_loss: 1.0108 - val_accuracy: 0.6248\n",
            "Epoch 8/10\n",
            "169/169 [==============================] - 1s 3ms/step - loss: 0.6442 - accuracy: 0.7500 - val_loss: 0.6733 - val_accuracy: 0.7436\n",
            "Epoch 9/10\n",
            "169/169 [==============================] - 1s 4ms/step - loss: 0.6402 - accuracy: 0.7516 - val_loss: 0.6514 - val_accuracy: 0.7434\n",
            "Epoch 10/10\n",
            "169/169 [==============================] - 1s 3ms/step - loss: 0.6366 - accuracy: 0.7520 - val_loss: 0.9333 - val_accuracy: 0.6605\n"
          ]
        }
      ],
      "source": [
        "hist = mdl.fit(X_train, y_train, validation_data = (X_test, y_test), epochs=10, batch_size=256)"
      ]
    },
    {
      "cell_type": "markdown",
      "metadata": {
        "id": "ypULLNhezxQW"
      },
      "source": [
        "Teeme ka nüüd testhulga väärtuste ennustamise ja väljatrüki tulemustest. Klasse on 5 ning ennustuseks loeme seda, mille tõenäosust ennustati kõige suuremaks (*argmax*)."
      ]
    },
    {
      "cell_type": "code",
      "execution_count": 102,
      "metadata": {
        "id": "fKVTAEUlRh-r"
      },
      "outputs": [],
      "source": [
        "y_pred = mdl.predict(X_test[:20])\n",
        "#print(y_pred)"
      ]
    },
    {
      "cell_type": "code",
      "execution_count": 103,
      "metadata": {
        "id": "7v4FvSIsT5_m",
        "colab": {
          "base_uri": "https://localhost:8080/"
        },
        "outputId": "c08ebe5a-47d4-40c4-94ff-af52c7200373"
      },
      "outputs": [
        {
          "output_type": "stream",
          "name": "stdout",
          "text": [
            "       Fair  Good  Ideal  Premium  Very Good\n",
            "18844     0     0      0        0          1\n",
            "26737     0     0      0        1          0\n",
            "25913     0     0      0        1          0\n",
            "42022     0     0      0        0          1\n",
            "31725     0     0      0        0          1\n",
            "...     ...   ...    ...      ...        ...\n",
            "33968     0     0      1        0          0\n",
            "13701     0     0      0        1          0\n",
            "31203     0     0      0        1          0\n",
            "27886     0     0      1        0          0\n",
            "13531     0     0      0        1          0\n",
            "\n",
            "[10788 rows x 5 columns]\n"
          ]
        }
      ],
      "source": [
        "print(y_test)"
      ]
    },
    {
      "cell_type": "code",
      "execution_count": 104,
      "metadata": {
        "id": "4bFP6WxZR02q",
        "colab": {
          "base_uri": "https://localhost:8080/"
        },
        "outputId": "b450b039-1206-44a3-98f3-d7618b377cc3"
      },
      "outputs": [
        {
          "output_type": "stream",
          "name": "stdout",
          "text": [
            "Õige vastus:\n",
            "Fair         0\n",
            "Good         0\n",
            "Ideal        0\n",
            "Premium      0\n",
            "Very Good    1\n",
            "Name: 18844, dtype: uint8\n",
            "Ennustatud vastus: 3 ehk Premium\n",
            "\n",
            "Õige vastus:\n",
            "Fair         0\n",
            "Good         0\n",
            "Ideal        0\n",
            "Premium      1\n",
            "Very Good    0\n",
            "Name: 26737, dtype: uint8\n",
            "Ennustatud vastus: 4 ehk Very Good\n",
            "\n",
            "Õige vastus:\n",
            "Fair         0\n",
            "Good         0\n",
            "Ideal        0\n",
            "Premium      1\n",
            "Very Good    0\n",
            "Name: 25913, dtype: uint8\n",
            "Ennustatud vastus: 3 ehk Premium\n",
            "\n",
            "Õige vastus:\n",
            "Fair         0\n",
            "Good         0\n",
            "Ideal        0\n",
            "Premium      0\n",
            "Very Good    1\n",
            "Name: 42022, dtype: uint8\n",
            "Ennustatud vastus: 1 ehk Good\n",
            "\n",
            "Õige vastus:\n",
            "Fair         0\n",
            "Good         0\n",
            "Ideal        0\n",
            "Premium      0\n",
            "Very Good    1\n",
            "Name: 31725, dtype: uint8\n",
            "Ennustatud vastus: 3 ehk Premium\n",
            "\n",
            "Õige vastus:\n",
            "Fair         1\n",
            "Good         0\n",
            "Ideal        0\n",
            "Premium      0\n",
            "Very Good    0\n",
            "Name: 5005, dtype: uint8\n",
            "Ennustatud vastus: 0 ehk Fair\n",
            "\n",
            "Õige vastus:\n",
            "Fair         0\n",
            "Good         0\n",
            "Ideal        0\n",
            "Premium      0\n",
            "Very Good    1\n",
            "Name: 52943, dtype: uint8\n",
            "Ennustatud vastus: 4 ehk Very Good\n",
            "\n",
            "Õige vastus:\n",
            "Fair         0\n",
            "Good         0\n",
            "Ideal        0\n",
            "Premium      1\n",
            "Very Good    0\n",
            "Name: 42907, dtype: uint8\n",
            "Ennustatud vastus: 3 ehk Premium\n",
            "\n",
            "Õige vastus:\n",
            "Fair         0\n",
            "Good         0\n",
            "Ideal        1\n",
            "Premium      0\n",
            "Very Good    0\n",
            "Name: 7775, dtype: uint8\n",
            "Ennustatud vastus: 3 ehk Premium\n",
            "\n",
            "Õige vastus:\n",
            "Fair         0\n",
            "Good         0\n",
            "Ideal        1\n",
            "Premium      0\n",
            "Very Good    0\n",
            "Name: 26163, dtype: uint8\n",
            "Ennustatud vastus: 2 ehk Ideal\n",
            "\n",
            "Õige vastus:\n",
            "Fair         0\n",
            "Good         0\n",
            "Ideal        1\n",
            "Premium      0\n",
            "Very Good    0\n",
            "Name: 9635, dtype: uint8\n",
            "Ennustatud vastus: 3 ehk Premium\n",
            "\n",
            "Õige vastus:\n",
            "Fair         0\n",
            "Good         0\n",
            "Ideal        0\n",
            "Premium      0\n",
            "Very Good    1\n",
            "Name: 6218, dtype: uint8\n",
            "Ennustatud vastus: 2 ehk Ideal\n",
            "\n",
            "Õige vastus:\n",
            "Fair         0\n",
            "Good         0\n",
            "Ideal        0\n",
            "Premium      0\n",
            "Very Good    1\n",
            "Name: 6985, dtype: uint8\n",
            "Ennustatud vastus: 4 ehk Very Good\n",
            "\n",
            "Õige vastus:\n",
            "Fair         0\n",
            "Good         1\n",
            "Ideal        0\n",
            "Premium      0\n",
            "Very Good    0\n",
            "Name: 7816, dtype: uint8\n",
            "Ennustatud vastus: 3 ehk Premium\n",
            "\n",
            "Õige vastus:\n",
            "Fair         0\n",
            "Good         0\n",
            "Ideal        1\n",
            "Premium      0\n",
            "Very Good    0\n",
            "Name: 30945, dtype: uint8\n",
            "Ennustatud vastus: 2 ehk Ideal\n",
            "\n",
            "Õige vastus:\n",
            "Fair         0\n",
            "Good         0\n",
            "Ideal        0\n",
            "Premium      1\n",
            "Very Good    0\n",
            "Name: 33792, dtype: uint8\n",
            "Ennustatud vastus: 3 ehk Premium\n",
            "\n",
            "Õige vastus:\n",
            "Fair         1\n",
            "Good         0\n",
            "Ideal        0\n",
            "Premium      0\n",
            "Very Good    0\n",
            "Name: 42921, dtype: uint8\n",
            "Ennustatud vastus: 1 ehk Good\n",
            "\n",
            "Õige vastus:\n",
            "Fair         0\n",
            "Good         0\n",
            "Ideal        0\n",
            "Premium      1\n",
            "Very Good    0\n",
            "Name: 27497, dtype: uint8\n",
            "Ennustatud vastus: 3 ehk Premium\n",
            "\n",
            "Õige vastus:\n",
            "Fair         0\n",
            "Good         1\n",
            "Ideal        0\n",
            "Premium      0\n",
            "Very Good    0\n",
            "Name: 10669, dtype: uint8\n",
            "Ennustatud vastus: 1 ehk Good\n",
            "\n",
            "Õige vastus:\n",
            "Fair         0\n",
            "Good         0\n",
            "Ideal        0\n",
            "Premium      1\n",
            "Very Good    0\n",
            "Name: 24441, dtype: uint8\n",
            "Ennustatud vastus: 2 ehk Ideal\n",
            "\n"
          ]
        }
      ],
      "source": [
        "for i in range(len(y_pred)):\n",
        "  print(\"Õige vastus:\")\n",
        "  print(y_test.iloc[i])\n",
        "  print(\"Ennustatud vastus:\", np.argmax(y_pred[i]), \"ehk\", lisatudCutTunnused[np.argmax(y_pred[i])])\n",
        "  print()"
      ]
    },
    {
      "cell_type": "code",
      "execution_count": 105,
      "metadata": {
        "id": "cn3Jk7R-SBpk",
        "colab": {
          "base_uri": "https://localhost:8080/"
        },
        "outputId": "2cf553f9-3d5d-4e97-ef98-85d7d422b595"
      },
      "outputs": [
        {
          "output_type": "stream",
          "name": "stdout",
          "text": [
            "coolcoolcool\n"
          ]
        }
      ],
      "source": [
        "print('coolcoolcool')"
      ]
    }
  ],
  "metadata": {
    "accelerator": "TPU",
    "anaconda-cloud": {},
    "celltoolbar": "Slideshow",
    "colab": {
      "collapsed_sections": [],
      "provenance": [],
      "toc_visible": true
    },
    "kernelspec": {
      "display_name": "Python 3 (ipykernel)",
      "language": "python",
      "name": "python3"
    },
    "language_info": {
      "codemirror_mode": {
        "name": "ipython",
        "version": 3
      },
      "file_extension": ".py",
      "mimetype": "text/x-python",
      "name": "python",
      "nbconvert_exporter": "python",
      "pygments_lexer": "ipython3",
      "version": "3.7.13"
    }
  },
  "nbformat": 4,
  "nbformat_minor": 0
}