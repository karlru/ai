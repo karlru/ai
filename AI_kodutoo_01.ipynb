{
  "cells": [
    {
      "cell_type": "markdown",
      "metadata": {
        "id": "DPZkRfMGjEQs"
      },
      "source": [
        "# 1. kodutöö - klassifitseerimine ja regressioon tõenäosusliku modelleerimise abil"
      ]
    },
    {
      "cell_type": "markdown",
      "metadata": {
        "id": "fdHLZ8tXs_eG"
      },
      "source": [
        "Importe võite lisada, ent kõikvõimalikud moodulid, mida pole seni praktikumi materjalides kasutatud ja mis vajaksid lisainstalli, tuleb Moodle'i tekstiväljas eraldi raporteerida ja piisavalt (väga põhjalikult ja veenvalt) põhjendada."
      ]
    },
    {
      "cell_type": "code",
      "execution_count": null,
      "metadata": {
        "id": "-Gw8w9ADjEQu"
      },
      "outputs": [],
      "source": [
        "import sklearn\n",
        "import pandas as pd\n",
        "from sklearn.metrics import mean_squared_error, accuracy_score"
      ]
    },
    {
      "cell_type": "code",
      "execution_count": null,
      "metadata": {
        "colab": {
          "base_uri": "https://localhost:8080/"
        },
        "id": "tF8GHY3wY8Gj",
        "outputId": "32119a64-1476-4ea0-9233-76a7c400533a"
      },
      "outputs": [
        {
          "output_type": "stream",
          "name": "stdout",
          "text": [
            "Mounted at /content/drive\n"
          ]
        }
      ],
      "source": [
        "#Failide lugemiseks Colabis\n",
        "import os\n",
        "from google.colab import drive\n",
        "drive.mount('/content/drive')\n",
        "os.chdir(\"/content/drive/My Drive/Colab Notebooks/ai\")"
      ]
    },
    {
      "cell_type": "code",
      "execution_count": null,
      "metadata": {
        "id": "XhUbLdmsjEQ6"
      },
      "outputs": [],
      "source": [
        "faili_asukoht = \"imdb.csv\""
      ]
    },
    {
      "cell_type": "markdown",
      "metadata": {
        "id": "ERsg8UVsjERH"
      },
      "source": [
        "## 1. Loe andmed failist sisse\n",
        "\n",
        "All on väike kontroll selle kohta, kas andmed said sisse loetud samal kujul."
      ]
    },
    {
      "cell_type": "code",
      "execution_count": null,
      "metadata": {
        "deletable": false,
        "id": "q-Rhf8bfjERJ",
        "nbgrader": {
          "cell_type": "code",
          "checksum": "559c7a579dd9cbc5d9a8e7941c6e9f09",
          "grade": false,
          "grade_id": "read_data_from_file",
          "locked": false,
          "schema_version": 3,
          "solution": true,
          "task": false
        }
      },
      "outputs": [],
      "source": [
        "# Loe sisse kõik treeningandmed pandas DataFrame'iks muutujasse filmid\n",
        "filmid = pd.read_csv(faili_asukoht, delimiter=\",\",index_col=0)\n",
        "# Kontrolli, kas andmed on sobival kujul\n",
        "assert filmid.shape == (4538, 28)"
      ]
    },
    {
      "cell_type": "markdown",
      "metadata": {
        "id": "T0nEBmEPyOKr"
      },
      "source": [
        "## 2. Töötle andmeid\n",
        "\n",
        "**2 punkti** saab andmete eeltöötluse eest. See tähendab, et tuleb andmetele otsa vaadata, sobivad välja valida, vajadusel nende väärtusi või formaati muuta jne. Soovi korral võid siin teha väljatrükke, visualiseerimisi jms.  \n",
        "\n",
        "Korrektse andmete eeltöötluse tulemus on muuhulgas see, et mõlemad ennustusmeetodid (*predictScore* ja *predictRating*, vt allpool) töötavad. Soovi korral võib siin teha ka nt mitu eraldi eeltöötlust, vastavalt edaspidi kasutatavale mudelile.  \n",
        "\n",
        "**NB!** Tagastatavaid struktuure ja väärtusi võite ise valida ja muuta, oluline on see, et treening- ja testfunktsioon nendega toime tuleksid. Vaadake üle, et töölehe puhtal läbijooksutamisel midagi kaotsi ei läheks."
      ]
    },
    {
      "cell_type": "code",
      "execution_count": null,
      "metadata": {
        "id": "HYlTUFY2ZVKO"
      },
      "outputs": [],
      "source": [
        "from sklearn.impute import SimpleImputer\n",
        "\n",
        "def preprocess(dataFrame):\n",
        "    '''Tegeleb sisse saadud DataFrame'i töötlemisega. \n",
        "    '''\n",
        "    # võimalikud testandmete eeltöötluseks vajalikud mudelid-teadmised (nt keskmised väärtused vms)\n",
        "    andmestikud = {\n",
        "        'regression_X': ['num_critic_for_reviews', 'duration', 'num_voted_users', 'num_user_for_reviews', 'Drama'],\n",
        "        'bad_words': ['drug', 'abuse', 'crime', 'sex', 'rape', 'murder', 'death', 'massacre'],\n",
        "        'good_words': ['family', 'fun', 'children', 'adventure']\n",
        "    }\n",
        "    # eeltöötluse tulemus - muudetud DataFrame\n",
        "    processedDataFrame = dataFrame\n",
        "  \n",
        "    # eemaldame read, kus mõne vajaliku tulba andmed puuduvad\n",
        "    processedDataFrame = processedDataFrame.dropna(subset=['content_rating', 'num_critic_for_reviews', 'duration', 'num_user_for_reviews'])\n",
        "\n",
        "    # tekitame žanritest one-hotid\n",
        "    andmestikud['classifier_X'] = set([item for sublist in processedDataFrame['genres'].str.split('|').values for item in sublist])\n",
        "    for genre in andmestikud['classifier_X']:\n",
        "        processedDataFrame[genre] = processedDataFrame.apply(\n",
        "            lambda row : 1 if genre in row['genres'] else 0, axis=1\n",
        "        )\n",
        "\n",
        "    # sobitame imputerid tulpadele, mille väärtused testreal kindlasti olema peavad (nende põhjal ennustatakse)\n",
        "    andmestikud['num_critic_for_reviews_imp'] = SimpleImputer(strategy='mean').fit(processedDataFrame[['num_critic_for_reviews']])\n",
        "    andmestikud['duration_imp'] = SimpleImputer(strategy='median').fit(processedDataFrame[['duration']])\n",
        "    andmestikud['num_voted_users_imp'] = SimpleImputer(strategy='mean').fit(processedDataFrame[['num_voted_users']])\n",
        "    andmestikud['num_user_for_reviews_imp'] = SimpleImputer(strategy='mean').fit(processedDataFrame[['num_user_for_reviews']])\n",
        "\n",
        "    return processedDataFrame, andmestikud"
      ]
    },
    {
      "cell_type": "markdown",
      "metadata": {
        "id": "maernY-uyOKs"
      },
      "source": [
        "## 3. Filmireitingute ennustamine  \n",
        "\n",
        "**2 punkti** saab mudeli eest, mis ennustab filmi reitingu (tabelis tulp *'content_rating'*). Tegu on klassifitseerimisülesandega\n",
        "\n",
        "### 3.1. Treeni mudel"
      ]
    },
    {
      "cell_type": "code",
      "execution_count": null,
      "metadata": {
        "id": "QrM23R8YyOKt"
      },
      "outputs": [],
      "source": [
        "from sklearn.svm import SVC\n",
        "\n",
        "def trainRating(filmiDataFrame):\n",
        "    '''Õpib sisendandmete põhjal mudeli, mis oskab ennustada filmi reitingu.\n",
        "       Võib kasutada väliseid funktsioone ja muud endale sobivat.\n",
        "       Sisendiks saab treeningandmete DataFrame'i.\n",
        "       Tagastab treenitud mudeli.'''\n",
        "\n",
        "    treeningandmed, andmestikud = preprocess(filmiDataFrame)\n",
        "    \n",
        "    X = treeningandmed[andmestikud['classifier_X']]\n",
        "    y = treeningandmed['content_rating']\n",
        "\n",
        "    mudel = SVC(gamma=2, C=1)\n",
        "    mudel.fit(X, y)\n",
        "\n",
        "    return mudel, andmestikud"
      ]
    },
    {
      "cell_type": "markdown",
      "metadata": {
        "id": "hFvkJyeYyOKu"
      },
      "source": [
        "### 3.2. Ennustamine\n",
        "\n",
        "Meeldetuletus: andmete eeltöötlus tuleb teha ka testhulgale. Selleks võib kasutada abifunktsioone. Siia võib lisada abiplokke."
      ]
    },
    {
      "cell_type": "code",
      "execution_count": null,
      "metadata": {
        "id": "CasF0_7kyOKv"
      },
      "outputs": [],
      "source": [
        "def predictRating(mudel, andmestikud, testhulk):\n",
        "    '''Saab sisendiks treenitud mudeli, eeltöötluseks vajalikud andmed \n",
        "       ja terve testhulga algsel kujul (ilma reitinguta ja eeltöötluseta).\n",
        "       Tagastab ennustatud reitingute järjendi.'''\n",
        "    \n",
        "    for genre in andmestikud['classifier_X']:\n",
        "        testhulk[genre] = testhulk.apply(\n",
        "            lambda row: 1 if genre in row['genres'] else 0, axis=1\n",
        "        )\n",
        "\n",
        "    return mudel.predict(testhulk[andmestikud['classifier_X']])"
      ]
    },
    {
      "cell_type": "markdown",
      "metadata": {
        "id": "-xVcMlo3yOKv"
      },
      "source": [
        "### 3.3. Testimine  \n",
        "\n",
        "Siin on etteantud testplokk, mis näitab, kuidas see kõik koos toimida võiks. Oluline on see, et see kõik oleks kasutatav erinevatel andmehulkadel, näiteks varem nägemata failil.  Jah, muidugi võib seda töö käigus muuta - kontrollimisel eeldatakse aga, et see algne testplokk ka töötab.\n",
        "\n",
        "Üldiselt on alguses mõttekas väiksema andmehulgaga katsetada, kui süntaksi- ja muud vead on välja roogitud, võib kogu andmehulga ette võtta.  \n",
        "\n",
        "**NB!** Ärge eeldage, et *testandmed* väärtustamisel saab midagi juba töödeldut. Testandmete eeltöötlus tuleks ära teha ennustusmeetodi raames või mõne abifunktsiooniga enne seda. Tavaelus tulevad testandmed teile uue ja iseseisvana ette."
      ]
    },
    {
      "cell_type": "code",
      "execution_count": null,
      "metadata": {
        "colab": {
          "base_uri": "https://localhost:8080/"
        },
        "id": "tspROe_IyOKw",
        "outputId": "ee26a3b0-76bc-4308-958d-8804301ca004"
      },
      "outputs": [
        {
          "output_type": "stream",
          "name": "stderr",
          "text": [
            "/usr/local/lib/python3.7/dist-packages/ipykernel_launcher.py:22: SettingWithCopyWarning: \n",
            "A value is trying to be set on a copy of a slice from a DataFrame.\n",
            "Try using .loc[row_indexer,col_indexer] = value instead\n",
            "\n",
            "See the caveats in the documentation: https://pandas.pydata.org/pandas-docs/stable/user_guide/indexing.html#returning-a-view-versus-a-copy\n"
          ]
        },
        {
          "output_type": "stream",
          "name": "stdout",
          "text": [
            "Täpsus 0.55\n"
          ]
        }
      ],
      "source": [
        "# Eeldades, et 'filmid' on äsja failist sisseloetud, 28-tulbaline ja muidu muutmata kujul DataFrame\n",
        "mudel, andmestikud = trainRating(filmid[100:])\n",
        "\n",
        "# Võta testimiseks esimesed 10 kirjet, ilma ennustatava väärtuseta\n",
        "# Kodutöö hindamisel loetakse testandmed eraldi failist, treenimiseks kasutatakse kogu treeninghulka\n",
        "testandmed = filmid[:100]\n",
        "\n",
        "# Tunnused, mille põhjal ennustada\n",
        "testandmed_x = testandmed.drop('content_rating', axis = 1)\n",
        "# Tunnus, mida ennustada\n",
        "testandmed_y = testandmed['content_rating']\n",
        "\n",
        "# Ennustatud reitingud\n",
        "ennustused = []\n",
        "ennustused = predictRating(mudel,andmestikud,testandmed_x)\n",
        "\n",
        "# Arvuta ennustuste ja õigete vastuste põhjal ennustamise täpsus\n",
        "print(\"Täpsus\", accuracy_score(ennustused, testandmed_y.astype(str)))\n",
        "# Täpsus on väiksem, sest antud testhulgas on ka filme, mis ei ole kas R või PG"
      ]
    },
    {
      "cell_type": "markdown",
      "metadata": {
        "id": "8W4yQYuVjERY"
      },
      "source": [
        "## 4. Filmiskooride ennustamine  \n",
        "\n",
        "**2 punkti** saab mudeli eest, mis ennustab filmi IMDB skoori. Kuna see on pidev väärtus, siis kasutame regressiooni ja mõõdikuna keskmist ruutviga (MSE).\n",
        "\n",
        "### 4.1. Treeni mudel\n"
      ]
    },
    {
      "cell_type": "code",
      "execution_count": null,
      "metadata": {
        "deletable": false,
        "id": "N2NZ3twJjERZ",
        "nbgrader": {
          "cell_type": "code",
          "checksum": "e00dc991faffd7f45b827f1d4764d1b4",
          "grade": false,
          "grade_id": "mudel",
          "locked": false,
          "schema_version": 3,
          "solution": true,
          "task": false
        }
      },
      "outputs": [],
      "source": [
        "from sklearn.linear_model import LinearRegression\n",
        "\n",
        "def trainScore(filmiDataFrame):\n",
        "    '''Õpib sisendandmete põhjal mudeli, mis oskab ennustada IMDB skoori.\n",
        "       Võib kasutada väliseid funktsioone ja muud endale sobivat.\n",
        "       Sisendiks saab treeningandmete DataFrame'i.\n",
        "       Tagastab treenitud mudeli.'''\n",
        "\n",
        "    treeningandmed, andmestikud = preprocess(filmiDataFrame)\n",
        "\n",
        "    X = treeningandmed[andmestikud['regression_X']]\n",
        "    y = treeningandmed['imdb_score']\n",
        "\n",
        "    mudel = LinearRegression()\n",
        "    mudel.fit(X, y)\n",
        "\n",
        "    return mudel, andmestikud"
      ]
    },
    {
      "cell_type": "markdown",
      "metadata": {
        "id": "0vLTI2cxdlM6"
      },
      "source": [
        "### 4.2. Ennustamine\n",
        "\n",
        "Meeldetuletus: andmete eeltöötlus tuleb teha ka testhulgale. Selleks võib kasutada abifunktsioone. Siia võib lisada abiplokke."
      ]
    },
    {
      "cell_type": "code",
      "execution_count": null,
      "metadata": {
        "id": "65E0zORORG8u"
      },
      "outputs": [],
      "source": [
        "def predictScore(mudel,andmestikud, testhulk):\n",
        "    '''Saab sisendiks treenitud mudeli, eeltöötluseks vajalikud andmed \n",
        "       ja terve testhulga algsel kujul (ilma skoorita ja eeltöötluseta).\n",
        "       Tagastab ennustatud skooride järjendi.'''\n",
        "\n",
        "    testhulk['num_critic_for_reviews'] = andmestikud['num_critic_for_reviews_imp'].transform(testhulk[['num_critic_for_reviews']])\n",
        "    testhulk['duration'] = andmestikud['duration_imp'].transform(testhulk[['duration']])\n",
        "    testhulk['num_voted_users'] = andmestikud['num_voted_users_imp'].transform(testhulk[['num_voted_users']])\n",
        "    testhulk['num_user_for_reviews'] = andmestikud['num_user_for_reviews_imp'].transform(testhulk[['num_user_for_reviews']])\n",
        "\n",
        "    # tuleb välja, et draamafilmidel on keskmisest kõrgem reiting :)\n",
        "    testhulk['Drama'] = testhulk.apply(\n",
        "        lambda row: 1 if 'Drama' in row['genres'] else 0, axis=1\n",
        "    )\n",
        "      \n",
        "    return mudel.predict(testhulk[andmestikud['regression_X']])"
      ]
    },
    {
      "cell_type": "markdown",
      "metadata": {
        "id": "UvJwJxCsyOKx"
      },
      "source": [
        "### 4.3. Testimine\n",
        "\n",
        "Siin on etteantud testplokk, mis näitab, kuidas see kõik koos toimida võiks. Oluline on see, et see kõik oleks kasutatav erinevatel andmehulkadel, näiteks varem nägemata failil. Jah, muidugi võib seda töö käigus muuta - kontrollimisel eeldatakse aga, et see algne testplokk ka töötab.\n",
        "\n",
        "Üldiselt on alguses mõttekas väiksema andmehulgaga katsetada, kui süntaksi- ja muud vead on välja roogitud, võib kogu andmehulga ette võtta.  \n",
        "\n",
        "**NB!** Ärge eeldage, et *testandmed* väärtustamisel saab midagi juba töödeldut. Testandmete eeltöötlus tuleks ära teha ennustusmeetodi raames või mõne abifunktsiooniga enne seda. Tavaelus tulevad testandmed teile uue ja iseseisvana ette."
      ]
    },
    {
      "cell_type": "code",
      "execution_count": null,
      "metadata": {
        "id": "EBWXuRVtjER4",
        "colab": {
          "base_uri": "https://localhost:8080/"
        },
        "outputId": "b8a37898-45a0-4759-8b30-76e03a2d2fe8"
      },
      "outputs": [
        {
          "output_type": "stream",
          "name": "stderr",
          "text": [
            "/usr/local/lib/python3.7/dist-packages/ipykernel_launcher.py:22: SettingWithCopyWarning: \n",
            "A value is trying to be set on a copy of a slice from a DataFrame.\n",
            "Try using .loc[row_indexer,col_indexer] = value instead\n",
            "\n",
            "See the caveats in the documentation: https://pandas.pydata.org/pandas-docs/stable/user_guide/indexing.html#returning-a-view-versus-a-copy\n"
          ]
        },
        {
          "output_type": "stream",
          "name": "stdout",
          "text": [
            "MSE: 0.9651257048871282\n"
          ]
        }
      ],
      "source": [
        "# Eeldades, et 'filmid' on äsja failist sisseloetud, 28-tulbaline ja muidu muutmata kujul DataFrame\n",
        "mudel, andmestikud = trainScore(filmid[200:])\n",
        "\n",
        "# Võta testimiseks esimesed 10 kirjet, ilma ennustatava väärtuseta\n",
        "# Kodutöö hindamisel loetakse testandmed eraldi failist, treenimiseks kasutatakse kogu treeninghulka\n",
        "testandmed = filmid[:200]\n",
        "\n",
        "# Tunnused, mille põhjal ennustada\n",
        "testandmed_x = testandmed.drop('imdb_score', axis = 1)\n",
        "# Tunnus, mida ennustada\n",
        "testandmed_y = testandmed['imdb_score']\n",
        "\n",
        "# Ennustatud filmiskoorid\n",
        "ennustused = predictScore(mudel,andmestikud,testandmed_x)\n",
        "\n",
        "# Arvuta ennustuste ja õigete vastuste põhjal MSE\n",
        "print(\"MSE:\", mean_squared_error(ennustused, testandmed_y))"
      ]
    },
    {
      "cell_type": "markdown",
      "metadata": {
        "id": "OOqkx_5-jMDB"
      },
      "source": [
        "## 5. Mudeli kirjeldus\n",
        "\n",
        "**1 punkti** saab enda mudelite (sh andmete valiku ja eeltöötlusotsuste) kirjeldamise eest. Mis sorti eeltöötluse tegid ja miks? Mille alusel valisid lõpliku mudeli?"
      ]
    },
    {
      "cell_type": "markdown",
      "metadata": {
        "id": "7WUcWPHwskKj"
      },
      "source": [
        "Kuna andmeid oli piisavalt, siis treenimise jaoks viskasin minema read, kus mõni ennustamiseks vajalik parameeter puudus. Samas aga tegin ülejäänutest sama tulba andmetest Imputeri (olenevalt suuruse varieeruvusest kas mediaan- või aritmeerilise keskmise põhjal) selleks, et vajadusel asendada testhulgal puuduvaid andmeid. Kuna žanrid on olulisel kohal määramaks, kas film sobib lastele või mitte, teen treeninghulga andmete žanritest \"one-hotid\" (vahega, et ühel filmil võib tegelikult olla mitu žanrit) ning kasutan kõiki neid tegelikult ka ennustamisel (ehk ennustamiseks vajalikud parameetrid sõltuvad treeningandmetest). \n",
        "\n",
        "Klassifitseerimiseks kasutasin SVC-d ning skooride ennustamiseks LinearRegressionit, sest need töötavad hästi :) SVC 2 gammaga andis oluliselt parema tulemuse kui näiteks KNeighbors."
      ]
    },
    {
      "cell_type": "markdown",
      "metadata": {
        "id": "5q5rAKg8jQQq"
      },
      "source": [
        "## 6. Tagasiside\n",
        "\n",
        "Siia võib järgi anda tagasiside kodutööle. Tagasiside on vabatahtlik ja sellega aitate maailma (täpsemalt tehisintellekti ainet) paremaks muuta.  \n",
        "Kas 1. kodutöö oli kohutavalt lihtne, meeletult keeruline, teistmoodi huvitav või lihtsalt igav? Kas miski tekitas segadust või oli liiga detailselt ette antud? Mis osa kodutööst oli kõige raskem? Mitu tundi see umbes aega võttis ja kas midagi tuleks järgmisel korral kindlasti teisiti teha? "
      ]
    },
    {
      "cell_type": "markdown",
      "metadata": {
        "id": "MADf_Mvosmlb"
      },
      "source": [
        "Lahe kodutöö, aga võibolla natuke ebaselgelt väljendatud, mida soovitakse. Tegin ka alguses klassifitseerimine PG või R loogikaga, aga õnneks enne esitamist nägin, et tegelt tuleb kõiki reitinguid hinnata. Raskuselt oli tip-top."
      ]
    },
    {
      "cell_type": "code",
      "execution_count": null,
      "metadata": {
        "id": "l-_s-8S2jO7L"
      },
      "outputs": [],
      "source": []
    }
  ],
  "metadata": {
    "colab": {
      "collapsed_sections": [],
      "provenance": []
    },
    "kernelspec": {
      "display_name": "Python 3 (ipykernel)",
      "language": "python",
      "name": "python3"
    },
    "language_info": {
      "codemirror_mode": {
        "name": "ipython",
        "version": 3
      },
      "file_extension": ".py",
      "mimetype": "text/x-python",
      "name": "python",
      "nbconvert_exporter": "python",
      "pygments_lexer": "ipython3",
      "version": "3.7.11"
    }
  },
  "nbformat": 4,
  "nbformat_minor": 0
}