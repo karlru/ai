{
  "cells": [
    {
      "cell_type": "markdown",
      "id": "cc510712",
      "metadata": {
        "id": "cc510712"
      },
      "source": [
        "# Praktikum 1: masinõpe scikit-learni abiga"
      ]
    },
    {
      "cell_type": "markdown",
      "id": "cb6ae43a",
      "metadata": {
        "id": "cb6ae43a"
      },
      "source": [
        "Moodle'is on üleval ka mõned CSV formaadis andmestikud, mida tänases praktikumis kasutame.   \n",
        "Kui kasutad oma arvutis olevat Anaconda keskkonda, siis liiguta lihtsalt failid praktikumi Notebookiga samasse kausta.  \n",
        "Kui kasutad Colaboratory, siis pane need oma Google Drive'i ja jooksuta läbi järgmine lahter, et see Notebookile külge võtta."
      ]
    },
    {
      "cell_type": "code",
      "execution_count": null,
      "id": "e1a42742",
      "metadata": {
        "colab": {
          "base_uri": "https://localhost:8080/"
        },
        "id": "e1a42742",
        "outputId": "790a9bdf-0cf5-439e-f54a-b1236938d841"
      },
      "outputs": [
        {
          "output_type": "stream",
          "name": "stdout",
          "text": [
            "Mounted at /content/drive\n"
          ]
        }
      ],
      "source": [
        "#Failide lugemiseks Colabis\n",
        "import os\n",
        "from google.colab import drive\n",
        "drive.mount('/content/drive')\n",
        "os.chdir(\"/content/drive/My Drive/Colab Notebooks/ai\")"
      ]
    },
    {
      "cell_type": "markdown",
      "id": "f8673236",
      "metadata": {
        "id": "f8673236"
      },
      "source": [
        "## Sissejuhatus"
      ]
    },
    {
      "cell_type": "markdown",
      "id": "9d6266b6",
      "metadata": {
        "id": "9d6266b6"
      },
      "source": [
        "Tõenäosusliku modelleerimise eesmärgiks on leida mudel, mille põhjal võimalikult hästi ennustada seni veel nägemata sündmusi. Selleks valitakse andmete hulgast välja parameetrid, mis iseloomustavad ja üldistavad valimit võimalikult hästi, ning koostatakse (treenitakse) seni teadaolevate andmete põhjal mudel. \n",
        "\n",
        "Me püüame mõista, kuidas sõltub toas olemise või väljamineku otsus ilmastikust. Selleks loendame erinevaid juhte treeninghulgas ja säilitame andmed mitmemõõtmelises sõnastikus, kus võtmeteks on erinevad tingimuste ja otsuste väärtused, elementide väärtusteks aga loendamise tulemus, näiteks sõnastikuelemendi [\"selge\"][\"toas\"] väärtus 4 näitab, et kõigi meie andmete hulgas hulgas on 4 juhtu, kus väljas on olnud selge ilm ja inimene on otsustanud toas aega veeta. Samuti hoiame sõnastikus (võtmega \"total\") kõigi vastava tingimusega elementide hulka (kui palju esineb kokku selge ilmaga, palju pilves ilmaga juhtumeid), nende alusel saame pärast öelda, kui suur osakaal kõigi mingite tingimuste puhul on just sellisel otsusel. \n",
        "\n",
        "Tavaline Pythoni sõnastik sobiks loendamiseks samuti, aga kui me pole vastavate võtmetega elementi veel loonud, antakse meile viga. Seega peaksime loendamisel koodis pidevalt kontrollima: kui selliste võtmetega element on olemas, liida olemasolevale väärtusele 1, vastasel juhul loo selliste võtmetega uus element väärtusega 1. Et sellisest kontrollist pääseda, kasutame andmestruktuuri defaultdict."
      ]
    },
    {
      "cell_type": "code",
      "execution_count": null,
      "id": "651e2ade",
      "metadata": {
        "colab": {
          "base_uri": "https://localhost:8080/"
        },
        "id": "651e2ade",
        "outputId": "58f16629-2a41-4564-f815-c2e3a6cacac2"
      },
      "outputs": [
        {
          "output_type": "execute_result",
          "data": {
            "text/plain": [
              "defaultdict(<function __main__.<lambda>()>,\n",
              "            {'selge': defaultdict(float,\n",
              "                         {'toas': 4.0, '__total': 5.0, 'väljas': 1.0}),\n",
              "             'pilves': defaultdict(float,\n",
              "                         {'väljas': 2.0, '__total': 5.0, 'toas': 3.0})})"
            ]
          },
          "metadata": {},
          "execution_count": 2
        }
      ],
      "source": [
        "# Andmed: pilvisus (selge/pilves), temperatuur (soe/külm), otsus (toas/väljas)\n",
        "trainData = [\n",
        "    [\"selge\", \"soe\", \"toas\"],\n",
        "    [\"pilves\", \"soe\", \"väljas\"],\n",
        "    [\"pilves\", \"külm\", \"toas\"],\n",
        "    [\"selge\", \"külm\", \"toas\"],\n",
        "    [\"selge\", \"soe\", \"väljas\"],\n",
        "    [\"selge\", \"soe\", \"toas\"],\n",
        "    [\"selge\", \"soe\", \"toas\"],\n",
        "    [\"pilves\", \"külm\", \"toas\"],\n",
        "    [\"pilves\", \"soe\", \"väljas\"],\n",
        "    [\"pilves\", \"külm\", \"toas\"],\n",
        "]\n",
        "\n",
        "from collections import defaultdict\n",
        "\n",
        "# Loendame, mitu korda nii selge kui pilvise ilmaga otsustati toas olla või välja minna\n",
        "pDecisionGivenCondition = defaultdict(lambda: defaultdict(float))\n",
        "\n",
        "for sample in trainData:\n",
        "    # Lisame õige elemendi väärtusele juurde 1\n",
        "    # Näiteks esimese kirje puhul pDecisionGivenCondition[\"selge\"][\"toas\"] += 1\n",
        "    pDecisionGivenCondition[sample[0]][sample[2]] += 1\n",
        "    # Samuti loendame ära kõik sama tingimusega ilma juhtumid\n",
        "    pDecisionGivenCondition[sample[0]][\"__total\"] += 1\n",
        "    \n",
        "pDecisionGivenCondition"
      ]
    },
    {
      "cell_type": "markdown",
      "id": "0e8e42eb",
      "metadata": {
        "id": "0e8e42eb"
      },
      "source": [
        "Loome teise mudeli, mis arvestab temperatuuri ja tehtud otsuse seost."
      ]
    },
    {
      "cell_type": "code",
      "execution_count": null,
      "id": "deab2df0",
      "metadata": {
        "colab": {
          "base_uri": "https://localhost:8080/"
        },
        "id": "deab2df0",
        "outputId": "d21ae30f-49d2-4c1b-ac13-4ac615bec56a"
      },
      "outputs": [
        {
          "output_type": "execute_result",
          "data": {
            "text/plain": [
              "defaultdict(<function __main__.<lambda>()>,\n",
              "            {'soe': defaultdict(float,\n",
              "                         {'toas': 3.0, '__total': 6.0, 'väljas': 3.0}),\n",
              "             'külm': defaultdict(float, {'toas': 4.0, '__total': 4.0})})"
            ]
          },
          "metadata": {},
          "execution_count": 3
        }
      ],
      "source": [
        "# Loendame, mitu korda nii selge kui pilvise ilmaga otsustati toas olla või välja minna\n",
        "pDecisionGivenCondition1 = defaultdict(lambda: defaultdict(float))\n",
        "\n",
        "for sample in trainData:\n",
        "    # Lisame õige elemendi väärtusele juurde 1\n",
        "    # Näiteks esimese kirje puhul pDecisionGivenCondition[\"soe\"][\"toas\"] += 1\n",
        "    pDecisionGivenCondition1[sample[1]][sample[2]] += 1\n",
        "    # Samuti loendame ära kõik sama tingimusega ilma juhtumid\n",
        "    pDecisionGivenCondition1[sample[1]][\"__total\"] += 1\n",
        "    \n",
        "pDecisionGivenCondition1"
      ]
    },
    {
      "cell_type": "markdown",
      "id": "6d58dc08",
      "metadata": {
        "id": "6d58dc08"
      },
      "source": [
        "Nüüd vaatame, millise tõenäosusega tehakse üks või teine otsus mingite etteantud tingimuste (pilvisus, temperatuur) puhul. Paneme tähele, et see ei sõltu mitte ainult otsuse tegemise, vaid ka kõigi selliste tingimuste esinemise arvust (sellisel tingimusel tehtud selliste otsuste arv jagatud kõigi selliste tingimuste esinemise arvuga).\n"
      ]
    },
    {
      "cell_type": "code",
      "execution_count": null,
      "id": "f64ff7bc",
      "metadata": {
        "colab": {
          "base_uri": "https://localhost:8080/"
        },
        "id": "f64ff7bc",
        "outputId": "e61f68e5-41f7-433c-8af8-45320588b25b"
      },
      "outputs": [
        {
          "output_type": "stream",
          "name": "stdout",
          "text": [
            "toas 0.8\n",
            "toas 0.5\n"
          ]
        }
      ],
      "source": [
        "test = [\"selge\", \"soe\"]\n",
        "\n",
        "# Pilvisuse seisukohalt...\n",
        "otsus = \"\"\n",
        "parim = -1\n",
        "for k, v in pDecisionGivenCondition[test[0]].items():\n",
        "    #print(k, v)\n",
        "    # Jagame variandi esinemiskordade arvu kõigi kordade arvuga\n",
        "    p = v / pDecisionGivenCondition[test[0]][\"__total\"]\n",
        "    if p > parim and k != \"__total\":\n",
        "        parim = p\n",
        "        otsus = k\n",
        "\n",
        "print(otsus, parim)\n",
        "\n",
        "# Temperatuuri seisukohalt...\n",
        "otsus = \"\"\n",
        "parim = -1\n",
        "for k, v in pDecisionGivenCondition1[test[1]].items():\n",
        "    #print(k, v)\n",
        "    p = v / pDecisionGivenCondition1[test[1]][\"__total\"]\n",
        "    if p > parim and k != \"__total\":\n",
        "        parim = p\n",
        "        otsus = k\n",
        "\n",
        "print(otsus, parim)"
      ]
    },
    {
      "cell_type": "markdown",
      "id": "6c0b70a1",
      "metadata": {
        "id": "6c0b70a1"
      },
      "source": [
        "* Kumb mudel tundub meie praeguste andmete puhul olevat parem?  \n",
        "* Mis juhtuks, kui me testiksime andmetega [\"vihmane\", \"külm\"]?"
      ]
    },
    {
      "cell_type": "markdown",
      "id": "da29331b",
      "metadata": {
        "id": "da29331b"
      },
      "source": [
        "## Scikit-learn ja Pandas\n",
        "\n",
        "Selle asemel, et käsitsi tõenäosusjaotusi arvutada, vajame suuremate andmetega tegutsemiseks juba valmis vahendeid statistiliseks masinõppeks. Sel korral kasutame nii praktikumis kui kodutöö puhul moodulit scikit-learn (http://scikit-learn.org/). Scikit-learn (mida saab importida käsuga \"import sklearn\") võiks koos NumPy ja SciPy moodulitega nii Colabis kui ka Anacondas juba olemas olla (vastasel juhul saab kasutada *'conda install scikit-learn'*), kui ei, saab selle [installida](http://scikit-learn.org/stable/install.html). Õpetusi scikit-learni jaoks leiate aadressilt http://scikit-learn.org/stable/tutorial.  \n",
        "\n",
        "Kuigi Scikit-learnis on endas ka näidisandmestikke, siis sageli on meie andmed näiteks csv-failide kujul. Tegeleme järgnevalt failis esitatud andmetega: laeme Moodle'ist alla faili cars.csv ning loeme sealt andmed sisse.\n",
        "\n",
        "Andmete käsitlemiseks kasutame teeki [Pandas](https://pandas.pydata.org/docs/user_guide/index.html), peamiselt selle DataFrame'e."
      ]
    },
    {
      "cell_type": "code",
      "execution_count": null,
      "id": "9122f230",
      "metadata": {
        "colab": {
          "base_uri": "https://localhost:8080/"
        },
        "id": "9122f230",
        "outputId": "07d7dca4-0d8c-4eab-963e-06fee164dc9e"
      },
      "outputs": [
        {
          "output_type": "stream",
          "name": "stdout",
          "text": [
            "(398, 7)\n"
          ]
        }
      ],
      "source": [
        "# Impordime moodulid\n",
        "import sklearn\n",
        "import pandas as pd\n",
        "# Loeme sisse csv.faili\n",
        "failinimi = 'cars.csv'\n",
        "autod = pd.read_csv(failinimi, delimiter=\";\")\n",
        "# Trükime ekraanile andmete mõõtmed\n",
        "print(autod.shape)\n",
        "# Loeme andmete tunnused\n",
        "tunnused = [i for i in autod]\n"
      ]
    },
    {
      "cell_type": "code",
      "execution_count": null,
      "id": "55d22f85",
      "metadata": {
        "colab": {
          "base_uri": "https://localhost:8080/",
          "height": 206
        },
        "id": "55d22f85",
        "outputId": "8307bb66-9ffc-4af9-c4c3-d8c85f1d4279"
      },
      "outputs": [
        {
          "output_type": "execute_result",
          "data": {
            "text/plain": [
              "    mpg  cylinders  horsepower  weight  acceleration  \\\n",
              "0  18.0        8.0       130.0    3504          12.0   \n",
              "1  15.0        8.0       165.0    3693          11.5   \n",
              "2  18.0        8.0       150.0    3436          11.0   \n",
              "3  16.0        8.0       150.0    3433          12.0   \n",
              "4  17.0        8.0       140.0    3449          10.5   \n",
              "\n",
              "                        name      brand  \n",
              "0  chevrolet chevelle malibu  chevrolet  \n",
              "1          buick skylark 320      buick  \n",
              "2         plymouth satellite   plymouth  \n",
              "3              amc rebel sst        amc  \n",
              "4                ford torino       ford  "
            ],
            "text/html": [
              "\n",
              "  <div id=\"df-6dbe4761-051d-42da-b4cb-4b2633750fe6\">\n",
              "    <div class=\"colab-df-container\">\n",
              "      <div>\n",
              "<style scoped>\n",
              "    .dataframe tbody tr th:only-of-type {\n",
              "        vertical-align: middle;\n",
              "    }\n",
              "\n",
              "    .dataframe tbody tr th {\n",
              "        vertical-align: top;\n",
              "    }\n",
              "\n",
              "    .dataframe thead th {\n",
              "        text-align: right;\n",
              "    }\n",
              "</style>\n",
              "<table border=\"1\" class=\"dataframe\">\n",
              "  <thead>\n",
              "    <tr style=\"text-align: right;\">\n",
              "      <th></th>\n",
              "      <th>mpg</th>\n",
              "      <th>cylinders</th>\n",
              "      <th>horsepower</th>\n",
              "      <th>weight</th>\n",
              "      <th>acceleration</th>\n",
              "      <th>name</th>\n",
              "      <th>brand</th>\n",
              "    </tr>\n",
              "  </thead>\n",
              "  <tbody>\n",
              "    <tr>\n",
              "      <th>0</th>\n",
              "      <td>18.0</td>\n",
              "      <td>8.0</td>\n",
              "      <td>130.0</td>\n",
              "      <td>3504</td>\n",
              "      <td>12.0</td>\n",
              "      <td>chevrolet chevelle malibu</td>\n",
              "      <td>chevrolet</td>\n",
              "    </tr>\n",
              "    <tr>\n",
              "      <th>1</th>\n",
              "      <td>15.0</td>\n",
              "      <td>8.0</td>\n",
              "      <td>165.0</td>\n",
              "      <td>3693</td>\n",
              "      <td>11.5</td>\n",
              "      <td>buick skylark 320</td>\n",
              "      <td>buick</td>\n",
              "    </tr>\n",
              "    <tr>\n",
              "      <th>2</th>\n",
              "      <td>18.0</td>\n",
              "      <td>8.0</td>\n",
              "      <td>150.0</td>\n",
              "      <td>3436</td>\n",
              "      <td>11.0</td>\n",
              "      <td>plymouth satellite</td>\n",
              "      <td>plymouth</td>\n",
              "    </tr>\n",
              "    <tr>\n",
              "      <th>3</th>\n",
              "      <td>16.0</td>\n",
              "      <td>8.0</td>\n",
              "      <td>150.0</td>\n",
              "      <td>3433</td>\n",
              "      <td>12.0</td>\n",
              "      <td>amc rebel sst</td>\n",
              "      <td>amc</td>\n",
              "    </tr>\n",
              "    <tr>\n",
              "      <th>4</th>\n",
              "      <td>17.0</td>\n",
              "      <td>8.0</td>\n",
              "      <td>140.0</td>\n",
              "      <td>3449</td>\n",
              "      <td>10.5</td>\n",
              "      <td>ford torino</td>\n",
              "      <td>ford</td>\n",
              "    </tr>\n",
              "  </tbody>\n",
              "</table>\n",
              "</div>\n",
              "      <button class=\"colab-df-convert\" onclick=\"convertToInteractive('df-6dbe4761-051d-42da-b4cb-4b2633750fe6')\"\n",
              "              title=\"Convert this dataframe to an interactive table.\"\n",
              "              style=\"display:none;\">\n",
              "        \n",
              "  <svg xmlns=\"http://www.w3.org/2000/svg\" height=\"24px\"viewBox=\"0 0 24 24\"\n",
              "       width=\"24px\">\n",
              "    <path d=\"M0 0h24v24H0V0z\" fill=\"none\"/>\n",
              "    <path d=\"M18.56 5.44l.94 2.06.94-2.06 2.06-.94-2.06-.94-.94-2.06-.94 2.06-2.06.94zm-11 1L8.5 8.5l.94-2.06 2.06-.94-2.06-.94L8.5 2.5l-.94 2.06-2.06.94zm10 10l.94 2.06.94-2.06 2.06-.94-2.06-.94-.94-2.06-.94 2.06-2.06.94z\"/><path d=\"M17.41 7.96l-1.37-1.37c-.4-.4-.92-.59-1.43-.59-.52 0-1.04.2-1.43.59L10.3 9.45l-7.72 7.72c-.78.78-.78 2.05 0 2.83L4 21.41c.39.39.9.59 1.41.59.51 0 1.02-.2 1.41-.59l7.78-7.78 2.81-2.81c.8-.78.8-2.07 0-2.86zM5.41 20L4 18.59l7.72-7.72 1.47 1.35L5.41 20z\"/>\n",
              "  </svg>\n",
              "      </button>\n",
              "      \n",
              "  <style>\n",
              "    .colab-df-container {\n",
              "      display:flex;\n",
              "      flex-wrap:wrap;\n",
              "      gap: 12px;\n",
              "    }\n",
              "\n",
              "    .colab-df-convert {\n",
              "      background-color: #E8F0FE;\n",
              "      border: none;\n",
              "      border-radius: 50%;\n",
              "      cursor: pointer;\n",
              "      display: none;\n",
              "      fill: #1967D2;\n",
              "      height: 32px;\n",
              "      padding: 0 0 0 0;\n",
              "      width: 32px;\n",
              "    }\n",
              "\n",
              "    .colab-df-convert:hover {\n",
              "      background-color: #E2EBFA;\n",
              "      box-shadow: 0px 1px 2px rgba(60, 64, 67, 0.3), 0px 1px 3px 1px rgba(60, 64, 67, 0.15);\n",
              "      fill: #174EA6;\n",
              "    }\n",
              "\n",
              "    [theme=dark] .colab-df-convert {\n",
              "      background-color: #3B4455;\n",
              "      fill: #D2E3FC;\n",
              "    }\n",
              "\n",
              "    [theme=dark] .colab-df-convert:hover {\n",
              "      background-color: #434B5C;\n",
              "      box-shadow: 0px 1px 3px 1px rgba(0, 0, 0, 0.15);\n",
              "      filter: drop-shadow(0px 1px 2px rgba(0, 0, 0, 0.3));\n",
              "      fill: #FFFFFF;\n",
              "    }\n",
              "  </style>\n",
              "\n",
              "      <script>\n",
              "        const buttonEl =\n",
              "          document.querySelector('#df-6dbe4761-051d-42da-b4cb-4b2633750fe6 button.colab-df-convert');\n",
              "        buttonEl.style.display =\n",
              "          google.colab.kernel.accessAllowed ? 'block' : 'none';\n",
              "\n",
              "        async function convertToInteractive(key) {\n",
              "          const element = document.querySelector('#df-6dbe4761-051d-42da-b4cb-4b2633750fe6');\n",
              "          const dataTable =\n",
              "            await google.colab.kernel.invokeFunction('convertToInteractive',\n",
              "                                                     [key], {});\n",
              "          if (!dataTable) return;\n",
              "\n",
              "          const docLinkHtml = 'Like what you see? Visit the ' +\n",
              "            '<a target=\"_blank\" href=https://colab.research.google.com/notebooks/data_table.ipynb>data table notebook</a>'\n",
              "            + ' to learn more about interactive tables.';\n",
              "          element.innerHTML = '';\n",
              "          dataTable['output_type'] = 'display_data';\n",
              "          await google.colab.output.renderOutput(dataTable, element);\n",
              "          const docLink = document.createElement('div');\n",
              "          docLink.innerHTML = docLinkHtml;\n",
              "          element.appendChild(docLink);\n",
              "        }\n",
              "      </script>\n",
              "    </div>\n",
              "  </div>\n",
              "  "
            ]
          },
          "metadata": {},
          "execution_count": 12
        }
      ],
      "source": [
        "# Vaatame andmetele sisse\n",
        "autod.head()"
      ]
    },
    {
      "cell_type": "markdown",
      "id": "dc55ba56",
      "metadata": {
        "id": "dc55ba56"
      },
      "source": [
        "Tegemist on andmetega vanade autode kohta:\n",
        "- mpg - kütusekulu (*miles per gallon*)\n",
        "- cylinders - silindrite arv\n",
        "- horsepower - võimsus (hobujõududes)\n",
        "- weight - kaal \n",
        "- acceleration - kiirendus\n",
        "- name - mudeli nimi\n",
        "- brand - automark"
      ]
    },
    {
      "cell_type": "code",
      "execution_count": null,
      "id": "e8d8f5e5",
      "metadata": {
        "colab": {
          "base_uri": "https://localhost:8080/"
        },
        "id": "e8d8f5e5",
        "outputId": "bb118faf-08e6-4871-d4aa-780c2cca4bcc"
      },
      "outputs": [
        {
          "output_type": "stream",
          "name": "stdout",
          "text": [
            "<class 'pandas.core.frame.DataFrame'>\n",
            "RangeIndex: 398 entries, 0 to 397\n",
            "Data columns (total 7 columns):\n",
            " #   Column        Non-Null Count  Dtype  \n",
            "---  ------        --------------  -----  \n",
            " 0   mpg           398 non-null    float64\n",
            " 1   cylinders     395 non-null    float64\n",
            " 2   horsepower    392 non-null    float64\n",
            " 3   weight        398 non-null    int64  \n",
            " 4   acceleration  398 non-null    float64\n",
            " 5   name          398 non-null    object \n",
            " 6   brand         398 non-null    object \n",
            "dtypes: float64(4), int64(1), object(2)\n",
            "memory usage: 21.9+ KB\n"
          ]
        }
      ],
      "source": [
        "autod.info()"
      ]
    },
    {
      "cell_type": "code",
      "execution_count": null,
      "id": "ddeee7fb",
      "metadata": {
        "colab": {
          "base_uri": "https://localhost:8080/",
          "height": 300
        },
        "id": "ddeee7fb",
        "outputId": "bddbb9dd-dc71-41fa-e03f-de0012e8764b"
      },
      "outputs": [
        {
          "output_type": "execute_result",
          "data": {
            "text/plain": [
              "              mpg   cylinders  horsepower       weight  acceleration\n",
              "count  398.000000  395.000000  392.000000   398.000000    398.000000\n",
              "mean    23.514573    5.465823  104.469388  2970.424623     15.568090\n",
              "std      7.815984    1.702707   38.491160   846.841774      2.757689\n",
              "min      9.000000    3.000000   46.000000  1613.000000      8.000000\n",
              "25%     17.500000    4.000000   75.000000  2223.750000     13.825000\n",
              "50%     23.000000    4.000000   93.500000  2803.500000     15.500000\n",
              "75%     29.000000    8.000000  126.000000  3608.000000     17.175000\n",
              "max     46.600000    8.000000  230.000000  5140.000000     24.800000"
            ],
            "text/html": [
              "\n",
              "  <div id=\"df-4550a7e6-508e-4c09-adde-e380acc403a3\">\n",
              "    <div class=\"colab-df-container\">\n",
              "      <div>\n",
              "<style scoped>\n",
              "    .dataframe tbody tr th:only-of-type {\n",
              "        vertical-align: middle;\n",
              "    }\n",
              "\n",
              "    .dataframe tbody tr th {\n",
              "        vertical-align: top;\n",
              "    }\n",
              "\n",
              "    .dataframe thead th {\n",
              "        text-align: right;\n",
              "    }\n",
              "</style>\n",
              "<table border=\"1\" class=\"dataframe\">\n",
              "  <thead>\n",
              "    <tr style=\"text-align: right;\">\n",
              "      <th></th>\n",
              "      <th>mpg</th>\n",
              "      <th>cylinders</th>\n",
              "      <th>horsepower</th>\n",
              "      <th>weight</th>\n",
              "      <th>acceleration</th>\n",
              "    </tr>\n",
              "  </thead>\n",
              "  <tbody>\n",
              "    <tr>\n",
              "      <th>count</th>\n",
              "      <td>398.000000</td>\n",
              "      <td>395.000000</td>\n",
              "      <td>392.000000</td>\n",
              "      <td>398.000000</td>\n",
              "      <td>398.000000</td>\n",
              "    </tr>\n",
              "    <tr>\n",
              "      <th>mean</th>\n",
              "      <td>23.514573</td>\n",
              "      <td>5.465823</td>\n",
              "      <td>104.469388</td>\n",
              "      <td>2970.424623</td>\n",
              "      <td>15.568090</td>\n",
              "    </tr>\n",
              "    <tr>\n",
              "      <th>std</th>\n",
              "      <td>7.815984</td>\n",
              "      <td>1.702707</td>\n",
              "      <td>38.491160</td>\n",
              "      <td>846.841774</td>\n",
              "      <td>2.757689</td>\n",
              "    </tr>\n",
              "    <tr>\n",
              "      <th>min</th>\n",
              "      <td>9.000000</td>\n",
              "      <td>3.000000</td>\n",
              "      <td>46.000000</td>\n",
              "      <td>1613.000000</td>\n",
              "      <td>8.000000</td>\n",
              "    </tr>\n",
              "    <tr>\n",
              "      <th>25%</th>\n",
              "      <td>17.500000</td>\n",
              "      <td>4.000000</td>\n",
              "      <td>75.000000</td>\n",
              "      <td>2223.750000</td>\n",
              "      <td>13.825000</td>\n",
              "    </tr>\n",
              "    <tr>\n",
              "      <th>50%</th>\n",
              "      <td>23.000000</td>\n",
              "      <td>4.000000</td>\n",
              "      <td>93.500000</td>\n",
              "      <td>2803.500000</td>\n",
              "      <td>15.500000</td>\n",
              "    </tr>\n",
              "    <tr>\n",
              "      <th>75%</th>\n",
              "      <td>29.000000</td>\n",
              "      <td>8.000000</td>\n",
              "      <td>126.000000</td>\n",
              "      <td>3608.000000</td>\n",
              "      <td>17.175000</td>\n",
              "    </tr>\n",
              "    <tr>\n",
              "      <th>max</th>\n",
              "      <td>46.600000</td>\n",
              "      <td>8.000000</td>\n",
              "      <td>230.000000</td>\n",
              "      <td>5140.000000</td>\n",
              "      <td>24.800000</td>\n",
              "    </tr>\n",
              "  </tbody>\n",
              "</table>\n",
              "</div>\n",
              "      <button class=\"colab-df-convert\" onclick=\"convertToInteractive('df-4550a7e6-508e-4c09-adde-e380acc403a3')\"\n",
              "              title=\"Convert this dataframe to an interactive table.\"\n",
              "              style=\"display:none;\">\n",
              "        \n",
              "  <svg xmlns=\"http://www.w3.org/2000/svg\" height=\"24px\"viewBox=\"0 0 24 24\"\n",
              "       width=\"24px\">\n",
              "    <path d=\"M0 0h24v24H0V0z\" fill=\"none\"/>\n",
              "    <path d=\"M18.56 5.44l.94 2.06.94-2.06 2.06-.94-2.06-.94-.94-2.06-.94 2.06-2.06.94zm-11 1L8.5 8.5l.94-2.06 2.06-.94-2.06-.94L8.5 2.5l-.94 2.06-2.06.94zm10 10l.94 2.06.94-2.06 2.06-.94-2.06-.94-.94-2.06-.94 2.06-2.06.94z\"/><path d=\"M17.41 7.96l-1.37-1.37c-.4-.4-.92-.59-1.43-.59-.52 0-1.04.2-1.43.59L10.3 9.45l-7.72 7.72c-.78.78-.78 2.05 0 2.83L4 21.41c.39.39.9.59 1.41.59.51 0 1.02-.2 1.41-.59l7.78-7.78 2.81-2.81c.8-.78.8-2.07 0-2.86zM5.41 20L4 18.59l7.72-7.72 1.47 1.35L5.41 20z\"/>\n",
              "  </svg>\n",
              "      </button>\n",
              "      \n",
              "  <style>\n",
              "    .colab-df-container {\n",
              "      display:flex;\n",
              "      flex-wrap:wrap;\n",
              "      gap: 12px;\n",
              "    }\n",
              "\n",
              "    .colab-df-convert {\n",
              "      background-color: #E8F0FE;\n",
              "      border: none;\n",
              "      border-radius: 50%;\n",
              "      cursor: pointer;\n",
              "      display: none;\n",
              "      fill: #1967D2;\n",
              "      height: 32px;\n",
              "      padding: 0 0 0 0;\n",
              "      width: 32px;\n",
              "    }\n",
              "\n",
              "    .colab-df-convert:hover {\n",
              "      background-color: #E2EBFA;\n",
              "      box-shadow: 0px 1px 2px rgba(60, 64, 67, 0.3), 0px 1px 3px 1px rgba(60, 64, 67, 0.15);\n",
              "      fill: #174EA6;\n",
              "    }\n",
              "\n",
              "    [theme=dark] .colab-df-convert {\n",
              "      background-color: #3B4455;\n",
              "      fill: #D2E3FC;\n",
              "    }\n",
              "\n",
              "    [theme=dark] .colab-df-convert:hover {\n",
              "      background-color: #434B5C;\n",
              "      box-shadow: 0px 1px 3px 1px rgba(0, 0, 0, 0.15);\n",
              "      filter: drop-shadow(0px 1px 2px rgba(0, 0, 0, 0.3));\n",
              "      fill: #FFFFFF;\n",
              "    }\n",
              "  </style>\n",
              "\n",
              "      <script>\n",
              "        const buttonEl =\n",
              "          document.querySelector('#df-4550a7e6-508e-4c09-adde-e380acc403a3 button.colab-df-convert');\n",
              "        buttonEl.style.display =\n",
              "          google.colab.kernel.accessAllowed ? 'block' : 'none';\n",
              "\n",
              "        async function convertToInteractive(key) {\n",
              "          const element = document.querySelector('#df-4550a7e6-508e-4c09-adde-e380acc403a3');\n",
              "          const dataTable =\n",
              "            await google.colab.kernel.invokeFunction('convertToInteractive',\n",
              "                                                     [key], {});\n",
              "          if (!dataTable) return;\n",
              "\n",
              "          const docLinkHtml = 'Like what you see? Visit the ' +\n",
              "            '<a target=\"_blank\" href=https://colab.research.google.com/notebooks/data_table.ipynb>data table notebook</a>'\n",
              "            + ' to learn more about interactive tables.';\n",
              "          element.innerHTML = '';\n",
              "          dataTable['output_type'] = 'display_data';\n",
              "          await google.colab.output.renderOutput(dataTable, element);\n",
              "          const docLink = document.createElement('div');\n",
              "          docLink.innerHTML = docLinkHtml;\n",
              "          element.appendChild(docLink);\n",
              "        }\n",
              "      </script>\n",
              "    </div>\n",
              "  </div>\n",
              "  "
            ]
          },
          "metadata": {},
          "execution_count": 16
        }
      ],
      "source": [
        "autod.describe()"
      ]
    },
    {
      "cell_type": "markdown",
      "id": "d3b2d82d",
      "metadata": {
        "id": "d3b2d82d"
      },
      "source": [
        "* Mis tüüpi tunnused ja väärtused on?\n",
        "\n",
        "* Kas andmestikus on puuduvaid väärtusi?"
      ]
    },
    {
      "cell_type": "code",
      "execution_count": null,
      "id": "1054d4ac",
      "metadata": {
        "colab": {
          "base_uri": "https://localhost:8080/"
        },
        "id": "1054d4ac",
        "outputId": "eb964d3d-69ad-4022-98f7-91ee4c416a6a"
      },
      "outputs": [
        {
          "output_type": "execute_result",
          "data": {
            "text/plain": [
              "0      chevrolet\n",
              "1          buick\n",
              "2       plymouth\n",
              "3            amc\n",
              "4           ford\n",
              "         ...    \n",
              "393         ford\n",
              "394           vw\n",
              "395        dodge\n",
              "396         ford\n",
              "397        chevy\n",
              "Name: brand, Length: 398, dtype: object"
            ]
          },
          "metadata": {},
          "execution_count": 17
        }
      ],
      "source": [
        "# Saab vaadata ka vaid ühte tulpa korraga\n",
        "autod.brand"
      ]
    },
    {
      "cell_type": "code",
      "execution_count": null,
      "id": "9dabf0d4",
      "metadata": {
        "colab": {
          "base_uri": "https://localhost:8080/"
        },
        "id": "9dabf0d4",
        "outputId": "7730f81e-7c58-44ef-e774-4d05133434f3"
      },
      "outputs": [
        {
          "output_type": "execute_result",
          "data": {
            "text/plain": [
              "0      chevrolet\n",
              "1          buick\n",
              "2       plymouth\n",
              "3            amc\n",
              "4           ford\n",
              "         ...    \n",
              "393         ford\n",
              "394           vw\n",
              "395        dodge\n",
              "396         ford\n",
              "397        chevy\n",
              "Name: brand, Length: 398, dtype: object"
            ]
          },
          "metadata": {},
          "execution_count": 18
        }
      ],
      "source": [
        "# või\n",
        "autod[\"brand\"]"
      ]
    },
    {
      "cell_type": "code",
      "execution_count": null,
      "id": "5f4502ac",
      "metadata": {
        "colab": {
          "base_uri": "https://localhost:8080/",
          "height": 424
        },
        "id": "5f4502ac",
        "outputId": "136de97e-03b1-4af9-f8f0-7856c22ecb19"
      },
      "outputs": [
        {
          "output_type": "execute_result",
          "data": {
            "text/plain": [
              "         brand                       name\n",
              "0    chevrolet  chevrolet chevelle malibu\n",
              "1        buick          buick skylark 320\n",
              "2     plymouth         plymouth satellite\n",
              "3          amc              amc rebel sst\n",
              "4         ford                ford torino\n",
              "..         ...                        ...\n",
              "393       ford            ford mustang gl\n",
              "394         vw                  vw pickup\n",
              "395      dodge              dodge rampage\n",
              "396       ford                ford ranger\n",
              "397      chevy                 chevy s-10\n",
              "\n",
              "[398 rows x 2 columns]"
            ],
            "text/html": [
              "\n",
              "  <div id=\"df-0ab48f3e-ed24-413b-8bf6-45863a33fce9\">\n",
              "    <div class=\"colab-df-container\">\n",
              "      <div>\n",
              "<style scoped>\n",
              "    .dataframe tbody tr th:only-of-type {\n",
              "        vertical-align: middle;\n",
              "    }\n",
              "\n",
              "    .dataframe tbody tr th {\n",
              "        vertical-align: top;\n",
              "    }\n",
              "\n",
              "    .dataframe thead th {\n",
              "        text-align: right;\n",
              "    }\n",
              "</style>\n",
              "<table border=\"1\" class=\"dataframe\">\n",
              "  <thead>\n",
              "    <tr style=\"text-align: right;\">\n",
              "      <th></th>\n",
              "      <th>brand</th>\n",
              "      <th>name</th>\n",
              "    </tr>\n",
              "  </thead>\n",
              "  <tbody>\n",
              "    <tr>\n",
              "      <th>0</th>\n",
              "      <td>chevrolet</td>\n",
              "      <td>chevrolet chevelle malibu</td>\n",
              "    </tr>\n",
              "    <tr>\n",
              "      <th>1</th>\n",
              "      <td>buick</td>\n",
              "      <td>buick skylark 320</td>\n",
              "    </tr>\n",
              "    <tr>\n",
              "      <th>2</th>\n",
              "      <td>plymouth</td>\n",
              "      <td>plymouth satellite</td>\n",
              "    </tr>\n",
              "    <tr>\n",
              "      <th>3</th>\n",
              "      <td>amc</td>\n",
              "      <td>amc rebel sst</td>\n",
              "    </tr>\n",
              "    <tr>\n",
              "      <th>4</th>\n",
              "      <td>ford</td>\n",
              "      <td>ford torino</td>\n",
              "    </tr>\n",
              "    <tr>\n",
              "      <th>...</th>\n",
              "      <td>...</td>\n",
              "      <td>...</td>\n",
              "    </tr>\n",
              "    <tr>\n",
              "      <th>393</th>\n",
              "      <td>ford</td>\n",
              "      <td>ford mustang gl</td>\n",
              "    </tr>\n",
              "    <tr>\n",
              "      <th>394</th>\n",
              "      <td>vw</td>\n",
              "      <td>vw pickup</td>\n",
              "    </tr>\n",
              "    <tr>\n",
              "      <th>395</th>\n",
              "      <td>dodge</td>\n",
              "      <td>dodge rampage</td>\n",
              "    </tr>\n",
              "    <tr>\n",
              "      <th>396</th>\n",
              "      <td>ford</td>\n",
              "      <td>ford ranger</td>\n",
              "    </tr>\n",
              "    <tr>\n",
              "      <th>397</th>\n",
              "      <td>chevy</td>\n",
              "      <td>chevy s-10</td>\n",
              "    </tr>\n",
              "  </tbody>\n",
              "</table>\n",
              "<p>398 rows × 2 columns</p>\n",
              "</div>\n",
              "      <button class=\"colab-df-convert\" onclick=\"convertToInteractive('df-0ab48f3e-ed24-413b-8bf6-45863a33fce9')\"\n",
              "              title=\"Convert this dataframe to an interactive table.\"\n",
              "              style=\"display:none;\">\n",
              "        \n",
              "  <svg xmlns=\"http://www.w3.org/2000/svg\" height=\"24px\"viewBox=\"0 0 24 24\"\n",
              "       width=\"24px\">\n",
              "    <path d=\"M0 0h24v24H0V0z\" fill=\"none\"/>\n",
              "    <path d=\"M18.56 5.44l.94 2.06.94-2.06 2.06-.94-2.06-.94-.94-2.06-.94 2.06-2.06.94zm-11 1L8.5 8.5l.94-2.06 2.06-.94-2.06-.94L8.5 2.5l-.94 2.06-2.06.94zm10 10l.94 2.06.94-2.06 2.06-.94-2.06-.94-.94-2.06-.94 2.06-2.06.94z\"/><path d=\"M17.41 7.96l-1.37-1.37c-.4-.4-.92-.59-1.43-.59-.52 0-1.04.2-1.43.59L10.3 9.45l-7.72 7.72c-.78.78-.78 2.05 0 2.83L4 21.41c.39.39.9.59 1.41.59.51 0 1.02-.2 1.41-.59l7.78-7.78 2.81-2.81c.8-.78.8-2.07 0-2.86zM5.41 20L4 18.59l7.72-7.72 1.47 1.35L5.41 20z\"/>\n",
              "  </svg>\n",
              "      </button>\n",
              "      \n",
              "  <style>\n",
              "    .colab-df-container {\n",
              "      display:flex;\n",
              "      flex-wrap:wrap;\n",
              "      gap: 12px;\n",
              "    }\n",
              "\n",
              "    .colab-df-convert {\n",
              "      background-color: #E8F0FE;\n",
              "      border: none;\n",
              "      border-radius: 50%;\n",
              "      cursor: pointer;\n",
              "      display: none;\n",
              "      fill: #1967D2;\n",
              "      height: 32px;\n",
              "      padding: 0 0 0 0;\n",
              "      width: 32px;\n",
              "    }\n",
              "\n",
              "    .colab-df-convert:hover {\n",
              "      background-color: #E2EBFA;\n",
              "      box-shadow: 0px 1px 2px rgba(60, 64, 67, 0.3), 0px 1px 3px 1px rgba(60, 64, 67, 0.15);\n",
              "      fill: #174EA6;\n",
              "    }\n",
              "\n",
              "    [theme=dark] .colab-df-convert {\n",
              "      background-color: #3B4455;\n",
              "      fill: #D2E3FC;\n",
              "    }\n",
              "\n",
              "    [theme=dark] .colab-df-convert:hover {\n",
              "      background-color: #434B5C;\n",
              "      box-shadow: 0px 1px 3px 1px rgba(0, 0, 0, 0.15);\n",
              "      filter: drop-shadow(0px 1px 2px rgba(0, 0, 0, 0.3));\n",
              "      fill: #FFFFFF;\n",
              "    }\n",
              "  </style>\n",
              "\n",
              "      <script>\n",
              "        const buttonEl =\n",
              "          document.querySelector('#df-0ab48f3e-ed24-413b-8bf6-45863a33fce9 button.colab-df-convert');\n",
              "        buttonEl.style.display =\n",
              "          google.colab.kernel.accessAllowed ? 'block' : 'none';\n",
              "\n",
              "        async function convertToInteractive(key) {\n",
              "          const element = document.querySelector('#df-0ab48f3e-ed24-413b-8bf6-45863a33fce9');\n",
              "          const dataTable =\n",
              "            await google.colab.kernel.invokeFunction('convertToInteractive',\n",
              "                                                     [key], {});\n",
              "          if (!dataTable) return;\n",
              "\n",
              "          const docLinkHtml = 'Like what you see? Visit the ' +\n",
              "            '<a target=\"_blank\" href=https://colab.research.google.com/notebooks/data_table.ipynb>data table notebook</a>'\n",
              "            + ' to learn more about interactive tables.';\n",
              "          element.innerHTML = '';\n",
              "          dataTable['output_type'] = 'display_data';\n",
              "          await google.colab.output.renderOutput(dataTable, element);\n",
              "          const docLink = document.createElement('div');\n",
              "          docLink.innerHTML = docLinkHtml;\n",
              "          element.appendChild(docLink);\n",
              "        }\n",
              "      </script>\n",
              "    </div>\n",
              "  </div>\n",
              "  "
            ]
          },
          "metadata": {},
          "execution_count": 19
        }
      ],
      "source": [
        "autod[[\"brand\",\"name\"]]"
      ]
    },
    {
      "cell_type": "code",
      "execution_count": null,
      "id": "268e16f5",
      "metadata": {
        "colab": {
          "base_uri": "https://localhost:8080/",
          "height": 238
        },
        "id": "268e16f5",
        "outputId": "ea94b942-a24c-40d5-f648-b780f63ec931"
      },
      "outputs": [
        {
          "output_type": "execute_result",
          "data": {
            "text/plain": [
              "     mpg  cylinders  horsepower  weight  acceleration                 name  \\\n",
              "5   15.0        8.0       198.0    4341          10.0     ford galaxie 500   \n",
              "6   14.0        8.0       220.0    4354           9.0     chevrolet impala   \n",
              "7   14.0        8.0       215.0    4312           8.5    plymouth fury iii   \n",
              "8   14.0        8.0       225.0    4425          10.0     pontiac catalina   \n",
              "9   15.0        8.0       190.0    3850           8.5   amc ambassador dpl   \n",
              "10  15.0        8.0       170.0    3563          10.0  dodge challenger se   \n",
              "\n",
              "        brand  \n",
              "5        ford  \n",
              "6   chevrolet  \n",
              "7    plymouth  \n",
              "8     pontiac  \n",
              "9         amc  \n",
              "10      dodge  "
            ],
            "text/html": [
              "\n",
              "  <div id=\"df-143a2c19-cb30-45a5-9b99-bca9afdee32f\">\n",
              "    <div class=\"colab-df-container\">\n",
              "      <div>\n",
              "<style scoped>\n",
              "    .dataframe tbody tr th:only-of-type {\n",
              "        vertical-align: middle;\n",
              "    }\n",
              "\n",
              "    .dataframe tbody tr th {\n",
              "        vertical-align: top;\n",
              "    }\n",
              "\n",
              "    .dataframe thead th {\n",
              "        text-align: right;\n",
              "    }\n",
              "</style>\n",
              "<table border=\"1\" class=\"dataframe\">\n",
              "  <thead>\n",
              "    <tr style=\"text-align: right;\">\n",
              "      <th></th>\n",
              "      <th>mpg</th>\n",
              "      <th>cylinders</th>\n",
              "      <th>horsepower</th>\n",
              "      <th>weight</th>\n",
              "      <th>acceleration</th>\n",
              "      <th>name</th>\n",
              "      <th>brand</th>\n",
              "    </tr>\n",
              "  </thead>\n",
              "  <tbody>\n",
              "    <tr>\n",
              "      <th>5</th>\n",
              "      <td>15.0</td>\n",
              "      <td>8.0</td>\n",
              "      <td>198.0</td>\n",
              "      <td>4341</td>\n",
              "      <td>10.0</td>\n",
              "      <td>ford galaxie 500</td>\n",
              "      <td>ford</td>\n",
              "    </tr>\n",
              "    <tr>\n",
              "      <th>6</th>\n",
              "      <td>14.0</td>\n",
              "      <td>8.0</td>\n",
              "      <td>220.0</td>\n",
              "      <td>4354</td>\n",
              "      <td>9.0</td>\n",
              "      <td>chevrolet impala</td>\n",
              "      <td>chevrolet</td>\n",
              "    </tr>\n",
              "    <tr>\n",
              "      <th>7</th>\n",
              "      <td>14.0</td>\n",
              "      <td>8.0</td>\n",
              "      <td>215.0</td>\n",
              "      <td>4312</td>\n",
              "      <td>8.5</td>\n",
              "      <td>plymouth fury iii</td>\n",
              "      <td>plymouth</td>\n",
              "    </tr>\n",
              "    <tr>\n",
              "      <th>8</th>\n",
              "      <td>14.0</td>\n",
              "      <td>8.0</td>\n",
              "      <td>225.0</td>\n",
              "      <td>4425</td>\n",
              "      <td>10.0</td>\n",
              "      <td>pontiac catalina</td>\n",
              "      <td>pontiac</td>\n",
              "    </tr>\n",
              "    <tr>\n",
              "      <th>9</th>\n",
              "      <td>15.0</td>\n",
              "      <td>8.0</td>\n",
              "      <td>190.0</td>\n",
              "      <td>3850</td>\n",
              "      <td>8.5</td>\n",
              "      <td>amc ambassador dpl</td>\n",
              "      <td>amc</td>\n",
              "    </tr>\n",
              "    <tr>\n",
              "      <th>10</th>\n",
              "      <td>15.0</td>\n",
              "      <td>8.0</td>\n",
              "      <td>170.0</td>\n",
              "      <td>3563</td>\n",
              "      <td>10.0</td>\n",
              "      <td>dodge challenger se</td>\n",
              "      <td>dodge</td>\n",
              "    </tr>\n",
              "  </tbody>\n",
              "</table>\n",
              "</div>\n",
              "      <button class=\"colab-df-convert\" onclick=\"convertToInteractive('df-143a2c19-cb30-45a5-9b99-bca9afdee32f')\"\n",
              "              title=\"Convert this dataframe to an interactive table.\"\n",
              "              style=\"display:none;\">\n",
              "        \n",
              "  <svg xmlns=\"http://www.w3.org/2000/svg\" height=\"24px\"viewBox=\"0 0 24 24\"\n",
              "       width=\"24px\">\n",
              "    <path d=\"M0 0h24v24H0V0z\" fill=\"none\"/>\n",
              "    <path d=\"M18.56 5.44l.94 2.06.94-2.06 2.06-.94-2.06-.94-.94-2.06-.94 2.06-2.06.94zm-11 1L8.5 8.5l.94-2.06 2.06-.94-2.06-.94L8.5 2.5l-.94 2.06-2.06.94zm10 10l.94 2.06.94-2.06 2.06-.94-2.06-.94-.94-2.06-.94 2.06-2.06.94z\"/><path d=\"M17.41 7.96l-1.37-1.37c-.4-.4-.92-.59-1.43-.59-.52 0-1.04.2-1.43.59L10.3 9.45l-7.72 7.72c-.78.78-.78 2.05 0 2.83L4 21.41c.39.39.9.59 1.41.59.51 0 1.02-.2 1.41-.59l7.78-7.78 2.81-2.81c.8-.78.8-2.07 0-2.86zM5.41 20L4 18.59l7.72-7.72 1.47 1.35L5.41 20z\"/>\n",
              "  </svg>\n",
              "      </button>\n",
              "      \n",
              "  <style>\n",
              "    .colab-df-container {\n",
              "      display:flex;\n",
              "      flex-wrap:wrap;\n",
              "      gap: 12px;\n",
              "    }\n",
              "\n",
              "    .colab-df-convert {\n",
              "      background-color: #E8F0FE;\n",
              "      border: none;\n",
              "      border-radius: 50%;\n",
              "      cursor: pointer;\n",
              "      display: none;\n",
              "      fill: #1967D2;\n",
              "      height: 32px;\n",
              "      padding: 0 0 0 0;\n",
              "      width: 32px;\n",
              "    }\n",
              "\n",
              "    .colab-df-convert:hover {\n",
              "      background-color: #E2EBFA;\n",
              "      box-shadow: 0px 1px 2px rgba(60, 64, 67, 0.3), 0px 1px 3px 1px rgba(60, 64, 67, 0.15);\n",
              "      fill: #174EA6;\n",
              "    }\n",
              "\n",
              "    [theme=dark] .colab-df-convert {\n",
              "      background-color: #3B4455;\n",
              "      fill: #D2E3FC;\n",
              "    }\n",
              "\n",
              "    [theme=dark] .colab-df-convert:hover {\n",
              "      background-color: #434B5C;\n",
              "      box-shadow: 0px 1px 3px 1px rgba(0, 0, 0, 0.15);\n",
              "      filter: drop-shadow(0px 1px 2px rgba(0, 0, 0, 0.3));\n",
              "      fill: #FFFFFF;\n",
              "    }\n",
              "  </style>\n",
              "\n",
              "      <script>\n",
              "        const buttonEl =\n",
              "          document.querySelector('#df-143a2c19-cb30-45a5-9b99-bca9afdee32f button.colab-df-convert');\n",
              "        buttonEl.style.display =\n",
              "          google.colab.kernel.accessAllowed ? 'block' : 'none';\n",
              "\n",
              "        async function convertToInteractive(key) {\n",
              "          const element = document.querySelector('#df-143a2c19-cb30-45a5-9b99-bca9afdee32f');\n",
              "          const dataTable =\n",
              "            await google.colab.kernel.invokeFunction('convertToInteractive',\n",
              "                                                     [key], {});\n",
              "          if (!dataTable) return;\n",
              "\n",
              "          const docLinkHtml = 'Like what you see? Visit the ' +\n",
              "            '<a target=\"_blank\" href=https://colab.research.google.com/notebooks/data_table.ipynb>data table notebook</a>'\n",
              "            + ' to learn more about interactive tables.';\n",
              "          element.innerHTML = '';\n",
              "          dataTable['output_type'] = 'display_data';\n",
              "          await google.colab.output.renderOutput(dataTable, element);\n",
              "          const docLink = document.createElement('div');\n",
              "          docLink.innerHTML = docLinkHtml;\n",
              "          element.appendChild(docLink);\n",
              "        }\n",
              "      </script>\n",
              "    </div>\n",
              "  </div>\n",
              "  "
            ]
          },
          "metadata": {},
          "execution_count": 20
        }
      ],
      "source": [
        "# Täpsemaid ridu saab vaadata nt. loc abil\n",
        "autod.loc[5:10]"
      ]
    },
    {
      "cell_type": "code",
      "execution_count": null,
      "id": "d35a74b5",
      "metadata": {
        "colab": {
          "base_uri": "https://localhost:8080/"
        },
        "id": "d35a74b5",
        "outputId": "12f0ab9a-49a7-4344-b1e6-50cee934b17d"
      },
      "outputs": [
        {
          "output_type": "execute_result",
          "data": {
            "text/plain": [
              "mpg                            28.0\n",
              "cylinders                       4.0\n",
              "horsepower                     90.0\n",
              "weight                         2264\n",
              "acceleration                   15.5\n",
              "name            chevrolet vega 2300\n",
              "brand                     chevrolet\n",
              "Name: 30, dtype: object"
            ]
          },
          "metadata": {},
          "execution_count": 21
        }
      ],
      "source": [
        "autod.loc[30]"
      ]
    },
    {
      "cell_type": "code",
      "execution_count": null,
      "id": "3a797877",
      "metadata": {
        "scrolled": true,
        "colab": {
          "base_uri": "https://localhost:8080/",
          "height": 206
        },
        "id": "3a797877",
        "outputId": "79a305c8-1550-4d20-b6be-51e4b741d12d"
      },
      "outputs": [
        {
          "output_type": "execute_result",
          "data": {
            "text/plain": [
              "    mpg  cylinders  horsepower  weight  acceleration  \\\n",
              "0  18.0        8.0       130.0    3504          12.0   \n",
              "1  15.0        8.0       165.0    3693          11.5   \n",
              "2  18.0        8.0       150.0    3436          11.0   \n",
              "3  16.0        8.0       150.0    3433          12.0   \n",
              "4  17.0        8.0       140.0    3449          10.5   \n",
              "\n",
              "                        name      brand  temp  \n",
              "0  chevrolet chevelle malibu  chevrolet  tere  \n",
              "1          buick skylark 320      buick  tere  \n",
              "2         plymouth satellite   plymouth  tere  \n",
              "3              amc rebel sst        amc  tere  \n",
              "4                ford torino       ford  tere  "
            ],
            "text/html": [
              "\n",
              "  <div id=\"df-b2a9ca3f-400c-481e-8cbe-ce32b5ad6bae\">\n",
              "    <div class=\"colab-df-container\">\n",
              "      <div>\n",
              "<style scoped>\n",
              "    .dataframe tbody tr th:only-of-type {\n",
              "        vertical-align: middle;\n",
              "    }\n",
              "\n",
              "    .dataframe tbody tr th {\n",
              "        vertical-align: top;\n",
              "    }\n",
              "\n",
              "    .dataframe thead th {\n",
              "        text-align: right;\n",
              "    }\n",
              "</style>\n",
              "<table border=\"1\" class=\"dataframe\">\n",
              "  <thead>\n",
              "    <tr style=\"text-align: right;\">\n",
              "      <th></th>\n",
              "      <th>mpg</th>\n",
              "      <th>cylinders</th>\n",
              "      <th>horsepower</th>\n",
              "      <th>weight</th>\n",
              "      <th>acceleration</th>\n",
              "      <th>name</th>\n",
              "      <th>brand</th>\n",
              "      <th>temp</th>\n",
              "    </tr>\n",
              "  </thead>\n",
              "  <tbody>\n",
              "    <tr>\n",
              "      <th>0</th>\n",
              "      <td>18.0</td>\n",
              "      <td>8.0</td>\n",
              "      <td>130.0</td>\n",
              "      <td>3504</td>\n",
              "      <td>12.0</td>\n",
              "      <td>chevrolet chevelle malibu</td>\n",
              "      <td>chevrolet</td>\n",
              "      <td>tere</td>\n",
              "    </tr>\n",
              "    <tr>\n",
              "      <th>1</th>\n",
              "      <td>15.0</td>\n",
              "      <td>8.0</td>\n",
              "      <td>165.0</td>\n",
              "      <td>3693</td>\n",
              "      <td>11.5</td>\n",
              "      <td>buick skylark 320</td>\n",
              "      <td>buick</td>\n",
              "      <td>tere</td>\n",
              "    </tr>\n",
              "    <tr>\n",
              "      <th>2</th>\n",
              "      <td>18.0</td>\n",
              "      <td>8.0</td>\n",
              "      <td>150.0</td>\n",
              "      <td>3436</td>\n",
              "      <td>11.0</td>\n",
              "      <td>plymouth satellite</td>\n",
              "      <td>plymouth</td>\n",
              "      <td>tere</td>\n",
              "    </tr>\n",
              "    <tr>\n",
              "      <th>3</th>\n",
              "      <td>16.0</td>\n",
              "      <td>8.0</td>\n",
              "      <td>150.0</td>\n",
              "      <td>3433</td>\n",
              "      <td>12.0</td>\n",
              "      <td>amc rebel sst</td>\n",
              "      <td>amc</td>\n",
              "      <td>tere</td>\n",
              "    </tr>\n",
              "    <tr>\n",
              "      <th>4</th>\n",
              "      <td>17.0</td>\n",
              "      <td>8.0</td>\n",
              "      <td>140.0</td>\n",
              "      <td>3449</td>\n",
              "      <td>10.5</td>\n",
              "      <td>ford torino</td>\n",
              "      <td>ford</td>\n",
              "      <td>tere</td>\n",
              "    </tr>\n",
              "  </tbody>\n",
              "</table>\n",
              "</div>\n",
              "      <button class=\"colab-df-convert\" onclick=\"convertToInteractive('df-b2a9ca3f-400c-481e-8cbe-ce32b5ad6bae')\"\n",
              "              title=\"Convert this dataframe to an interactive table.\"\n",
              "              style=\"display:none;\">\n",
              "        \n",
              "  <svg xmlns=\"http://www.w3.org/2000/svg\" height=\"24px\"viewBox=\"0 0 24 24\"\n",
              "       width=\"24px\">\n",
              "    <path d=\"M0 0h24v24H0V0z\" fill=\"none\"/>\n",
              "    <path d=\"M18.56 5.44l.94 2.06.94-2.06 2.06-.94-2.06-.94-.94-2.06-.94 2.06-2.06.94zm-11 1L8.5 8.5l.94-2.06 2.06-.94-2.06-.94L8.5 2.5l-.94 2.06-2.06.94zm10 10l.94 2.06.94-2.06 2.06-.94-2.06-.94-.94-2.06-.94 2.06-2.06.94z\"/><path d=\"M17.41 7.96l-1.37-1.37c-.4-.4-.92-.59-1.43-.59-.52 0-1.04.2-1.43.59L10.3 9.45l-7.72 7.72c-.78.78-.78 2.05 0 2.83L4 21.41c.39.39.9.59 1.41.59.51 0 1.02-.2 1.41-.59l7.78-7.78 2.81-2.81c.8-.78.8-2.07 0-2.86zM5.41 20L4 18.59l7.72-7.72 1.47 1.35L5.41 20z\"/>\n",
              "  </svg>\n",
              "      </button>\n",
              "      \n",
              "  <style>\n",
              "    .colab-df-container {\n",
              "      display:flex;\n",
              "      flex-wrap:wrap;\n",
              "      gap: 12px;\n",
              "    }\n",
              "\n",
              "    .colab-df-convert {\n",
              "      background-color: #E8F0FE;\n",
              "      border: none;\n",
              "      border-radius: 50%;\n",
              "      cursor: pointer;\n",
              "      display: none;\n",
              "      fill: #1967D2;\n",
              "      height: 32px;\n",
              "      padding: 0 0 0 0;\n",
              "      width: 32px;\n",
              "    }\n",
              "\n",
              "    .colab-df-convert:hover {\n",
              "      background-color: #E2EBFA;\n",
              "      box-shadow: 0px 1px 2px rgba(60, 64, 67, 0.3), 0px 1px 3px 1px rgba(60, 64, 67, 0.15);\n",
              "      fill: #174EA6;\n",
              "    }\n",
              "\n",
              "    [theme=dark] .colab-df-convert {\n",
              "      background-color: #3B4455;\n",
              "      fill: #D2E3FC;\n",
              "    }\n",
              "\n",
              "    [theme=dark] .colab-df-convert:hover {\n",
              "      background-color: #434B5C;\n",
              "      box-shadow: 0px 1px 3px 1px rgba(0, 0, 0, 0.15);\n",
              "      filter: drop-shadow(0px 1px 2px rgba(0, 0, 0, 0.3));\n",
              "      fill: #FFFFFF;\n",
              "    }\n",
              "  </style>\n",
              "\n",
              "      <script>\n",
              "        const buttonEl =\n",
              "          document.querySelector('#df-b2a9ca3f-400c-481e-8cbe-ce32b5ad6bae button.colab-df-convert');\n",
              "        buttonEl.style.display =\n",
              "          google.colab.kernel.accessAllowed ? 'block' : 'none';\n",
              "\n",
              "        async function convertToInteractive(key) {\n",
              "          const element = document.querySelector('#df-b2a9ca3f-400c-481e-8cbe-ce32b5ad6bae');\n",
              "          const dataTable =\n",
              "            await google.colab.kernel.invokeFunction('convertToInteractive',\n",
              "                                                     [key], {});\n",
              "          if (!dataTable) return;\n",
              "\n",
              "          const docLinkHtml = 'Like what you see? Visit the ' +\n",
              "            '<a target=\"_blank\" href=https://colab.research.google.com/notebooks/data_table.ipynb>data table notebook</a>'\n",
              "            + ' to learn more about interactive tables.';\n",
              "          element.innerHTML = '';\n",
              "          dataTable['output_type'] = 'display_data';\n",
              "          await google.colab.output.renderOutput(dataTable, element);\n",
              "          const docLink = document.createElement('div');\n",
              "          docLink.innerHTML = docLinkHtml;\n",
              "          element.appendChild(docLink);\n",
              "        }\n",
              "      </script>\n",
              "    </div>\n",
              "  </div>\n",
              "  "
            ]
          },
          "metadata": {},
          "execution_count": 22
        }
      ],
      "source": [
        "## Nii saab uusi tulpi lisada\n",
        "# Väärtustamisel saab ette anda ühe väärtuse (kõigile ridadele sama) või õige pikkusega listi\n",
        "autod[\"temp\"] = \"tere\"\n",
        "autod.head()\n"
      ]
    },
    {
      "cell_type": "code",
      "execution_count": null,
      "id": "87f35891",
      "metadata": {
        "id": "87f35891"
      },
      "outputs": [],
      "source": [
        "## Tegelikult me seda tulpa ei taha\n",
        "autod = autod.drop(\"temp\",axis=1)"
      ]
    },
    {
      "cell_type": "markdown",
      "id": "c5a6763b",
      "metadata": {
        "id": "c5a6763b"
      },
      "source": [
        "## Tõenäosuslik mudel ennustamiseks\n",
        "\n",
        "Kuna andmed on meil olemas, siis püüame nende abil midagi ennustada. Esimese asjana võtame ette auto margi (*brand*). Kuna see on nominaalne tunnus, siis ennustame seda Scikit-learnis olemasolevate klassifitseerimismudelite abil. Et asi lihtsam oleks, võtame esialgu ette ainult 4 automarki."
      ]
    },
    {
      "cell_type": "code",
      "execution_count": null,
      "id": "a5421d21",
      "metadata": {
        "colab": {
          "base_uri": "https://localhost:8080/"
        },
        "id": "a5421d21",
        "outputId": "1a13ffc4-d3ab-45d9-9350-fc12a7e6a193"
      },
      "outputs": [
        {
          "output_type": "stream",
          "name": "stdout",
          "text": [
            "33\n"
          ]
        }
      ],
      "source": [
        "# Mis margid üldse mis koguses esindatud on?\n",
        "print(autod.groupby('brand').size())"
      ]
    },
    {
      "cell_type": "markdown",
      "id": "fde9b377",
      "metadata": {
        "id": "fde9b377"
      },
      "source": [
        "* Mitu erinevat klassi (automarki) on andmestikus?\n",
        "\n",
        "* Kas klassid on tasakaalus?"
      ]
    },
    {
      "cell_type": "code",
      "source": [
        "print(autod.groupby('brand').size().size)\n",
        "print('pigem mitte')"
      ],
      "metadata": {
        "colab": {
          "base_uri": "https://localhost:8080/"
        },
        "id": "6ykLH2vOgQms",
        "outputId": "f9241dbe-2f02-40e1-f2db-a6a1699d95cb"
      },
      "id": "6ykLH2vOgQms",
      "execution_count": null,
      "outputs": [
        {
          "output_type": "stream",
          "name": "stdout",
          "text": [
            "33\n",
            "pigem mitte\n"
          ]
        }
      ]
    },
    {
      "cell_type": "code",
      "execution_count": null,
      "id": "eb3b6057",
      "metadata": {
        "colab": {
          "base_uri": "https://localhost:8080/",
          "height": 442
        },
        "id": "eb3b6057",
        "outputId": "f834bf67-c1c8-4407-8387-ad23f93af8fe"
      },
      "outputs": [
        {
          "output_type": "stream",
          "name": "stdout",
          "text": [
            "(152, 7)\n"
          ]
        },
        {
          "output_type": "execute_result",
          "data": {
            "text/plain": [
              "      mpg  cylinders  horsepower  weight  acceleration  \\\n",
              "0    18.0        8.0       130.0    3504          12.0   \n",
              "2    18.0        8.0       150.0    3436          11.0   \n",
              "4    17.0        8.0       140.0    3449          10.5   \n",
              "5    15.0        8.0       198.0    4341          10.0   \n",
              "6    14.0        8.0       220.0    4354           9.0   \n",
              "..    ...        ...         ...     ...           ...   \n",
              "389  22.0        6.0       112.0    2835          14.7   \n",
              "390  32.0        4.0        96.0    2665          13.9   \n",
              "392  27.0        4.0        90.0    2950          17.3   \n",
              "393  27.0        4.0        86.0    2790          15.6   \n",
              "396  28.0        4.0        79.0    2625          18.6   \n",
              "\n",
              "                          name      brand  \n",
              "0    chevrolet chevelle malibu  chevrolet  \n",
              "2           plymouth satellite   plymouth  \n",
              "4                  ford torino       ford  \n",
              "5             ford galaxie 500       ford  \n",
              "6             chevrolet impala  chevrolet  \n",
              "..                         ...        ...  \n",
              "389             ford granada l       ford  \n",
              "390           toyota celica gt     toyota  \n",
              "392           chevrolet camaro  chevrolet  \n",
              "393            ford mustang gl       ford  \n",
              "396                ford ranger       ford  \n",
              "\n",
              "[152 rows x 7 columns]"
            ],
            "text/html": [
              "\n",
              "  <div id=\"df-f9abb5e2-7d2d-4953-9517-a1337008364e\">\n",
              "    <div class=\"colab-df-container\">\n",
              "      <div>\n",
              "<style scoped>\n",
              "    .dataframe tbody tr th:only-of-type {\n",
              "        vertical-align: middle;\n",
              "    }\n",
              "\n",
              "    .dataframe tbody tr th {\n",
              "        vertical-align: top;\n",
              "    }\n",
              "\n",
              "    .dataframe thead th {\n",
              "        text-align: right;\n",
              "    }\n",
              "</style>\n",
              "<table border=\"1\" class=\"dataframe\">\n",
              "  <thead>\n",
              "    <tr style=\"text-align: right;\">\n",
              "      <th></th>\n",
              "      <th>mpg</th>\n",
              "      <th>cylinders</th>\n",
              "      <th>horsepower</th>\n",
              "      <th>weight</th>\n",
              "      <th>acceleration</th>\n",
              "      <th>name</th>\n",
              "      <th>brand</th>\n",
              "    </tr>\n",
              "  </thead>\n",
              "  <tbody>\n",
              "    <tr>\n",
              "      <th>0</th>\n",
              "      <td>18.0</td>\n",
              "      <td>8.0</td>\n",
              "      <td>130.0</td>\n",
              "      <td>3504</td>\n",
              "      <td>12.0</td>\n",
              "      <td>chevrolet chevelle malibu</td>\n",
              "      <td>chevrolet</td>\n",
              "    </tr>\n",
              "    <tr>\n",
              "      <th>2</th>\n",
              "      <td>18.0</td>\n",
              "      <td>8.0</td>\n",
              "      <td>150.0</td>\n",
              "      <td>3436</td>\n",
              "      <td>11.0</td>\n",
              "      <td>plymouth satellite</td>\n",
              "      <td>plymouth</td>\n",
              "    </tr>\n",
              "    <tr>\n",
              "      <th>4</th>\n",
              "      <td>17.0</td>\n",
              "      <td>8.0</td>\n",
              "      <td>140.0</td>\n",
              "      <td>3449</td>\n",
              "      <td>10.5</td>\n",
              "      <td>ford torino</td>\n",
              "      <td>ford</td>\n",
              "    </tr>\n",
              "    <tr>\n",
              "      <th>5</th>\n",
              "      <td>15.0</td>\n",
              "      <td>8.0</td>\n",
              "      <td>198.0</td>\n",
              "      <td>4341</td>\n",
              "      <td>10.0</td>\n",
              "      <td>ford galaxie 500</td>\n",
              "      <td>ford</td>\n",
              "    </tr>\n",
              "    <tr>\n",
              "      <th>6</th>\n",
              "      <td>14.0</td>\n",
              "      <td>8.0</td>\n",
              "      <td>220.0</td>\n",
              "      <td>4354</td>\n",
              "      <td>9.0</td>\n",
              "      <td>chevrolet impala</td>\n",
              "      <td>chevrolet</td>\n",
              "    </tr>\n",
              "    <tr>\n",
              "      <th>...</th>\n",
              "      <td>...</td>\n",
              "      <td>...</td>\n",
              "      <td>...</td>\n",
              "      <td>...</td>\n",
              "      <td>...</td>\n",
              "      <td>...</td>\n",
              "      <td>...</td>\n",
              "    </tr>\n",
              "    <tr>\n",
              "      <th>389</th>\n",
              "      <td>22.0</td>\n",
              "      <td>6.0</td>\n",
              "      <td>112.0</td>\n",
              "      <td>2835</td>\n",
              "      <td>14.7</td>\n",
              "      <td>ford granada l</td>\n",
              "      <td>ford</td>\n",
              "    </tr>\n",
              "    <tr>\n",
              "      <th>390</th>\n",
              "      <td>32.0</td>\n",
              "      <td>4.0</td>\n",
              "      <td>96.0</td>\n",
              "      <td>2665</td>\n",
              "      <td>13.9</td>\n",
              "      <td>toyota celica gt</td>\n",
              "      <td>toyota</td>\n",
              "    </tr>\n",
              "    <tr>\n",
              "      <th>392</th>\n",
              "      <td>27.0</td>\n",
              "      <td>4.0</td>\n",
              "      <td>90.0</td>\n",
              "      <td>2950</td>\n",
              "      <td>17.3</td>\n",
              "      <td>chevrolet camaro</td>\n",
              "      <td>chevrolet</td>\n",
              "    </tr>\n",
              "    <tr>\n",
              "      <th>393</th>\n",
              "      <td>27.0</td>\n",
              "      <td>4.0</td>\n",
              "      <td>86.0</td>\n",
              "      <td>2790</td>\n",
              "      <td>15.6</td>\n",
              "      <td>ford mustang gl</td>\n",
              "      <td>ford</td>\n",
              "    </tr>\n",
              "    <tr>\n",
              "      <th>396</th>\n",
              "      <td>28.0</td>\n",
              "      <td>4.0</td>\n",
              "      <td>79.0</td>\n",
              "      <td>2625</td>\n",
              "      <td>18.6</td>\n",
              "      <td>ford ranger</td>\n",
              "      <td>ford</td>\n",
              "    </tr>\n",
              "  </tbody>\n",
              "</table>\n",
              "<p>152 rows × 7 columns</p>\n",
              "</div>\n",
              "      <button class=\"colab-df-convert\" onclick=\"convertToInteractive('df-f9abb5e2-7d2d-4953-9517-a1337008364e')\"\n",
              "              title=\"Convert this dataframe to an interactive table.\"\n",
              "              style=\"display:none;\">\n",
              "        \n",
              "  <svg xmlns=\"http://www.w3.org/2000/svg\" height=\"24px\"viewBox=\"0 0 24 24\"\n",
              "       width=\"24px\">\n",
              "    <path d=\"M0 0h24v24H0V0z\" fill=\"none\"/>\n",
              "    <path d=\"M18.56 5.44l.94 2.06.94-2.06 2.06-.94-2.06-.94-.94-2.06-.94 2.06-2.06.94zm-11 1L8.5 8.5l.94-2.06 2.06-.94-2.06-.94L8.5 2.5l-.94 2.06-2.06.94zm10 10l.94 2.06.94-2.06 2.06-.94-2.06-.94-.94-2.06-.94 2.06-2.06.94z\"/><path d=\"M17.41 7.96l-1.37-1.37c-.4-.4-.92-.59-1.43-.59-.52 0-1.04.2-1.43.59L10.3 9.45l-7.72 7.72c-.78.78-.78 2.05 0 2.83L4 21.41c.39.39.9.59 1.41.59.51 0 1.02-.2 1.41-.59l7.78-7.78 2.81-2.81c.8-.78.8-2.07 0-2.86zM5.41 20L4 18.59l7.72-7.72 1.47 1.35L5.41 20z\"/>\n",
              "  </svg>\n",
              "      </button>\n",
              "      \n",
              "  <style>\n",
              "    .colab-df-container {\n",
              "      display:flex;\n",
              "      flex-wrap:wrap;\n",
              "      gap: 12px;\n",
              "    }\n",
              "\n",
              "    .colab-df-convert {\n",
              "      background-color: #E8F0FE;\n",
              "      border: none;\n",
              "      border-radius: 50%;\n",
              "      cursor: pointer;\n",
              "      display: none;\n",
              "      fill: #1967D2;\n",
              "      height: 32px;\n",
              "      padding: 0 0 0 0;\n",
              "      width: 32px;\n",
              "    }\n",
              "\n",
              "    .colab-df-convert:hover {\n",
              "      background-color: #E2EBFA;\n",
              "      box-shadow: 0px 1px 2px rgba(60, 64, 67, 0.3), 0px 1px 3px 1px rgba(60, 64, 67, 0.15);\n",
              "      fill: #174EA6;\n",
              "    }\n",
              "\n",
              "    [theme=dark] .colab-df-convert {\n",
              "      background-color: #3B4455;\n",
              "      fill: #D2E3FC;\n",
              "    }\n",
              "\n",
              "    [theme=dark] .colab-df-convert:hover {\n",
              "      background-color: #434B5C;\n",
              "      box-shadow: 0px 1px 3px 1px rgba(0, 0, 0, 0.15);\n",
              "      filter: drop-shadow(0px 1px 2px rgba(0, 0, 0, 0.3));\n",
              "      fill: #FFFFFF;\n",
              "    }\n",
              "  </style>\n",
              "\n",
              "      <script>\n",
              "        const buttonEl =\n",
              "          document.querySelector('#df-f9abb5e2-7d2d-4953-9517-a1337008364e button.colab-df-convert');\n",
              "        buttonEl.style.display =\n",
              "          google.colab.kernel.accessAllowed ? 'block' : 'none';\n",
              "\n",
              "        async function convertToInteractive(key) {\n",
              "          const element = document.querySelector('#df-f9abb5e2-7d2d-4953-9517-a1337008364e');\n",
              "          const dataTable =\n",
              "            await google.colab.kernel.invokeFunction('convertToInteractive',\n",
              "                                                     [key], {});\n",
              "          if (!dataTable) return;\n",
              "\n",
              "          const docLinkHtml = 'Like what you see? Visit the ' +\n",
              "            '<a target=\"_blank\" href=https://colab.research.google.com/notebooks/data_table.ipynb>data table notebook</a>'\n",
              "            + ' to learn more about interactive tables.';\n",
              "          element.innerHTML = '';\n",
              "          dataTable['output_type'] = 'display_data';\n",
              "          await google.colab.output.renderOutput(dataTable, element);\n",
              "          const docLink = document.createElement('div');\n",
              "          docLink.innerHTML = docLinkHtml;\n",
              "          element.appendChild(docLink);\n",
              "        }\n",
              "      </script>\n",
              "    </div>\n",
              "  </div>\n",
              "  "
            ]
          },
          "metadata": {},
          "execution_count": 34
        }
      ],
      "source": [
        "# Võtame siit omal valikul 4 suuremat rühma\n",
        "miniautod = autod.loc[autod['brand'].isin(['ford','chevrolet','toyota','plymouth'])]\n",
        "# Mitu kirjet meile jäi?\n",
        "print(miniautod.shape)\n",
        "# NB! reaindeksid on algse DataFrame'i juurest\n",
        "miniautod"
      ]
    },
    {
      "cell_type": "markdown",
      "id": "c7b0aabe",
      "metadata": {
        "id": "c7b0aabe"
      },
      "source": [
        "### Treening- ja testandmed\n",
        "Jagame andmed treening- ja testkorpuseks ning eraldame mõlema puhul tingimustena kasutatavate ja ennustatavate tunnuste väärtused. \n",
        "NB! Tulevikus tuleb antud andmed jagada sageli ise treening-, arendus- ja testandmeteks (*train*, *development*, *test*): \n",
        "- treeningandmete (train) põhjal õpetame;\n",
        "- arendusandmete (dev) põhjal kontrollime tulemust ja parandame oma algoritmi, kuid nii muutuvad arendusandmed ühtlasi kaudselt ka treeningandmeteks;\n",
        "- testandmete (test) testime tulemust lõplikult.\n",
        "\n",
        "Rusikareegel on, et nende andmete suuruste vahekord on 60%/20%/20%. Jagamine pole lihtne ülesanne: valel jagamisel võime saada sellise tulemuse, kus arendusandmed annavad treeningandmetel suurepäraseid tulemusi, kuid testandmetel mitte vms. Siinkohal tuleks arvestada kindlasti klasside tasakaaluga nii treening- kui ka testkorpuses. Selleks tuleks kasuks muuhulgas nt andmed **läbi segada** - kes teab, andmestik võib olla tunnuste väärtuste järgi sorteeritud.\n"
      ]
    },
    {
      "cell_type": "code",
      "execution_count": null,
      "id": "5ac7e513",
      "metadata": {
        "colab": {
          "base_uri": "https://localhost:8080/"
        },
        "id": "5ac7e513",
        "outputId": "184a322d-4ffc-4388-b50b-86c092b8bd9d"
      },
      "outputs": [
        {
          "output_type": "stream",
          "name": "stdout",
          "text": [
            "(122, 3)\n",
            "(122,)\n",
            "(30, 3)\n",
            "(30,)\n"
          ]
        }
      ],
      "source": [
        "# Segame läbi\n",
        "miniautod = sklearn.utils.shuffle(miniautod, random_state=40) \n",
        "\n",
        "# Mille põhjal ennustada\n",
        "tunnused = ['mpg','weight','acceleration']\n",
        "# Mida ennustada\n",
        "ennustatav = 'brand'\n",
        "\n",
        "# Võtame esimesed 30 kirjet testimiseks, ülejäänud treenimiseks.\n",
        "# Üldine notatsioon on y = f(X) ehk ennustatav väärtus on y ja õppimistunnused on X.\n",
        "X_train = miniautod[30:][tunnused]\n",
        "y_train = miniautod[30:][ennustatav]\n",
        "\n",
        "X_test = miniautod[:30][tunnused]\n",
        "y_test = miniautod[:30][ennustatav]\n",
        "\n",
        "# Mis kujul andmed meil on?\n",
        "print(X_train.shape)\n",
        "print(y_train.shape)\n",
        "print(X_test.shape)\n",
        "print(y_test.shape)"
      ]
    },
    {
      "cell_type": "markdown",
      "id": "2e424b0d",
      "metadata": {
        "id": "2e424b0d"
      },
      "source": [
        "### Õppimine ja testimine\n",
        "Impordime mõned masinõppe meetodid:\n",
        "- [Logistiline regressioon](http://scikit-learn.org/stable/modules/linear_model.html#logistic-regression)\n",
        "- [KNeighborsClassifier](http://scikit-learn.org/stable/modules/neighbors.html)\n",
        "- [(Gaussian) Naiivne Bayes](http://scikit-learn.org/stable/modules/naive_bayes.html)\n",
        "- [Otsustuspuu](http://scikit-learn.org/stable/modules/generated/sklearn.tree.DecisionTreeClassifier.html#sklearn.tree.DecisionTreeClassifier)\n",
        "\n",
        "Kasutame neid treenimisel (*fit*), klassifitseerime saadud mudeli põhjal testhulgas olevaid kirjeid ja arvutame täpsuse (*score*). Kuna treening- ja testhulgad on erinevad (juhusliku järjestamise tõttu enne vastavat jagamist), siis on ka täpsused erinevad. Paneme tähele, et alltoodud koodis on meetodid vaikeväärtustega (ehk parameetreid pole määratud). Uurige vaikeparameetreid (mis trükitakse välja käsuga näiteks \"print(neighbors.KNeighborsClassifier())\") ja proovige neid muuta, näiteks:\n",
        "- neighbors.KNeighborsClassifier(n_neighbors=4).fit(train_X, train_y).score(test_X, test_y))\n",
        "\n",
        "Loetelu erinevatest masinõppemeetoditest leiate aadressilt http://scikit-learn.org/stable/supervised_learning.html Nendest saate valida midagi oma koduse töö jaoks, uurige ka parameetreid. \n",
        "\n",
        "\n"
      ]
    },
    {
      "cell_type": "code",
      "execution_count": null,
      "id": "c812bc9f",
      "metadata": {
        "id": "c812bc9f"
      },
      "outputs": [],
      "source": [
        "from sklearn.linear_model import LogisticRegression\n",
        "from sklearn.naive_bayes import GaussianNB\n",
        "from sklearn.tree import DecisionTreeClassifier\n",
        "from sklearn.neighbors import KNeighborsClassifier"
      ]
    },
    {
      "cell_type": "markdown",
      "id": "8de0b24b",
      "metadata": {
        "id": "8de0b24b"
      },
      "source": [
        "#### Õppimine"
      ]
    },
    {
      "cell_type": "code",
      "execution_count": null,
      "id": "e4cf776c",
      "metadata": {
        "colab": {
          "base_uri": "https://localhost:8080/"
        },
        "id": "e4cf776c",
        "outputId": "749cd521-26ba-41f7-c8cf-5b38f320018a"
      },
      "outputs": [
        {
          "output_type": "execute_result",
          "data": {
            "text/plain": [
              "LogisticRegression()"
            ]
          },
          "metadata": {},
          "execution_count": 43
        }
      ],
      "source": [
        "# Algväärtusta mudel\n",
        "mudel = LogisticRegression()\n",
        "\n",
        "# Treeni treeningandmetel\n",
        "mudel.fit(X_train, y_train)"
      ]
    },
    {
      "cell_type": "markdown",
      "id": "c619e98c",
      "metadata": {
        "id": "c619e98c"
      },
      "source": [
        "#### Ennustamine"
      ]
    },
    {
      "cell_type": "code",
      "execution_count": null,
      "id": "8f8c71ee",
      "metadata": {
        "colab": {
          "base_uri": "https://localhost:8080/"
        },
        "id": "8f8c71ee",
        "outputId": "6691433a-1450-49b3-b7f5-10736025c649"
      },
      "outputs": [
        {
          "output_type": "execute_result",
          "data": {
            "text/plain": [
              "array(['ford', 'toyota', 'ford', 'ford', 'toyota', 'toyota', 'toyota',\n",
              "       'ford', 'ford', 'toyota', 'ford', 'ford', 'ford', 'ford', 'ford',\n",
              "       'ford', 'ford', 'ford', 'toyota', 'ford', 'toyota', 'ford',\n",
              "       'toyota', 'ford', 'ford', 'ford', 'ford', 'ford', 'ford', 'toyota'],\n",
              "      dtype=object)"
            ]
          },
          "metadata": {},
          "execution_count": 44
        }
      ],
      "source": [
        "# Anna mudelile ette uued õppimistunnused ja ennusta\n",
        "# NB! X_train ja X_test peavad sisaldama samal kujul tunnuseid\n",
        "y_pred = mudel.predict(X_test)\n",
        "y_pred"
      ]
    },
    {
      "cell_type": "code",
      "execution_count": null,
      "id": "76619504",
      "metadata": {
        "colab": {
          "base_uri": "https://localhost:8080/"
        },
        "id": "76619504",
        "outputId": "c5de4b1d-0dce-4c90-b1a2-26ff9ef641fd"
      },
      "outputs": [
        {
          "output_type": "stream",
          "name": "stdout",
          "text": [
            "õige\tennustatud\n",
            "\n",
            "chevrolet \t ford\n",
            "toyota \t toyota\n",
            "ford \t ford\n",
            "ford \t ford\n",
            "chevrolet \t toyota\n",
            "toyota \t toyota\n",
            "chevrolet \t toyota\n",
            "chevrolet \t ford\n",
            "chevrolet \t ford\n",
            "toyota \t toyota\n",
            "plymouth \t ford\n",
            "ford \t ford\n",
            "plymouth \t ford\n",
            "ford \t ford\n",
            "ford \t ford\n",
            "ford \t ford\n",
            "chevrolet \t ford\n",
            "chevrolet \t ford\n",
            "ford \t toyota\n",
            "ford \t ford\n",
            "toyota \t toyota\n",
            "ford \t ford\n",
            "plymouth \t toyota\n",
            "ford \t ford\n",
            "chevrolet \t ford\n",
            "ford \t ford\n",
            "plymouth \t ford\n",
            "chevrolet \t ford\n",
            "ford \t ford\n",
            "toyota \t toyota\n"
          ]
        }
      ],
      "source": [
        "# Võime võrrelda saadud tulemusi õigete vastustega\n",
        "print(\"õige\\tennustatud\")\n",
        "print()\n",
        "for paar in list(zip(y_test,y_pred)):\n",
        "    print(paar[0],\"\\t\",paar[1])"
      ]
    },
    {
      "cell_type": "markdown",
      "id": "2edc99a7",
      "metadata": {
        "id": "2edc99a7"
      },
      "source": [
        "#### Meetrikud\n",
        "Mudeli headuse hindamiseks on tavaliselt olnud täpsus (accuracy). Tegelikult on erinevaid headuse näitajaid väga palju. Näiteks täpsust on hea kasutada, kui on klassifitseerimine, aga pole väga hea, kui tegeleme regressiooniga. Näiteks maja hinna ennustamisel, kus õige väärtus on 100, on valed nii ennustused 92 kui ka 99 on valed, aga 99 on 100-le päris lähedal ja seega parem hinnang kui 92. "
      ]
    },
    {
      "cell_type": "markdown",
      "id": "64fb07de",
      "metadata": {
        "id": "64fb07de"
      },
      "source": [
        "**Täpsus**"
      ]
    },
    {
      "cell_type": "code",
      "execution_count": null,
      "id": "7e96af0c",
      "metadata": {
        "colab": {
          "base_uri": "https://localhost:8080/"
        },
        "id": "7e96af0c",
        "outputId": "a75468e1-b917-497f-99fe-b70e609ff1f5"
      },
      "outputs": [
        {
          "output_type": "stream",
          "name": "stdout",
          "text": [
            "Täpsus (käsitsi) on: 0.53.\n",
            "Täpsus (sci-kit) on: 0.53.\n"
          ]
        }
      ],
      "source": [
        "import numpy as np\n",
        "from sklearn.metrics import  accuracy_score\n",
        "\n",
        "print(\"Täpsus (käsitsi) on: %.2f.\" % np.mean(y_pred == y_test))\n",
        "# Või siis scikit-learni meetodit kasutades\n",
        "print(\"Täpsus (sci-kit) on: %.2f.\" % accuracy_score(y_test, y_pred))"
      ]
    },
    {
      "cell_type": "markdown",
      "id": "07cffc8c",
      "metadata": {
        "id": "07cffc8c"
      },
      "source": [
        "**F-skoor: täpsus (*precision*) ja saagis (*recall*)**"
      ]
    },
    {
      "cell_type": "code",
      "execution_count": null,
      "id": "6caecd3a",
      "metadata": {
        "colab": {
          "base_uri": "https://localhost:8080/"
        },
        "id": "6caecd3a",
        "outputId": "0c228377-96f7-4f9b-c707-728822b73414"
      },
      "outputs": [
        {
          "output_type": "stream",
          "name": "stdout",
          "text": [
            "              precision    recall  f1-score   support\n",
            "\n",
            "   chevrolet       0.00      0.00      0.00         9\n",
            "        ford       0.52      0.92      0.67        12\n",
            "    plymouth       0.00      0.00      0.00         4\n",
            "      toyota       0.56      1.00      0.71         5\n",
            "\n",
            "    accuracy                           0.53        30\n",
            "   macro avg       0.27      0.48      0.35        30\n",
            "weighted avg       0.30      0.53      0.39        30\n",
            "\n"
          ]
        },
        {
          "output_type": "stream",
          "name": "stderr",
          "text": [
            "/usr/local/lib/python3.7/dist-packages/sklearn/metrics/_classification.py:1318: UndefinedMetricWarning: Precision and F-score are ill-defined and being set to 0.0 in labels with no predicted samples. Use `zero_division` parameter to control this behavior.\n",
            "  _warn_prf(average, modifier, msg_start, len(result))\n",
            "/usr/local/lib/python3.7/dist-packages/sklearn/metrics/_classification.py:1318: UndefinedMetricWarning: Precision and F-score are ill-defined and being set to 0.0 in labels with no predicted samples. Use `zero_division` parameter to control this behavior.\n",
            "  _warn_prf(average, modifier, msg_start, len(result))\n",
            "/usr/local/lib/python3.7/dist-packages/sklearn/metrics/_classification.py:1318: UndefinedMetricWarning: Precision and F-score are ill-defined and being set to 0.0 in labels with no predicted samples. Use `zero_division` parameter to control this behavior.\n",
            "  _warn_prf(average, modifier, msg_start, len(result))\n"
          ]
        }
      ],
      "source": [
        "from sklearn.metrics import  classification_report\n",
        "\n",
        "print(classification_report(y_test, y_pred))"
      ]
    },
    {
      "cell_type": "markdown",
      "id": "89dbfcef",
      "metadata": {
        "id": "89dbfcef"
      },
      "source": [
        "**Segadusmaatriks**\n",
        "\n",
        "Kas midagi on millekski valesti klassifitseeritud? Kui jah, siis mis?"
      ]
    },
    {
      "cell_type": "code",
      "execution_count": null,
      "id": "91b21454",
      "metadata": {
        "colab": {
          "base_uri": "https://localhost:8080/"
        },
        "id": "91b21454",
        "outputId": "a0a7237e-3c6e-46ea-f87c-384cfc19caa0"
      },
      "outputs": [
        {
          "output_type": "stream",
          "name": "stdout",
          "text": [
            "['chevrolet' 'ford' 'plymouth' 'toyota']\n",
            "[[ 0  7  0  2]\n",
            " [ 0 11  0  1]\n",
            " [ 0  3  0  1]\n",
            " [ 0  0  0  5]]\n"
          ]
        }
      ],
      "source": [
        "from sklearn.metrics import confusion_matrix\n",
        "# Meeldetuletuseks: need olid ennustatavad klassid - järjekorra saame treeninud mudeli käest\n",
        "print(mudel.classes_)\n",
        "# Segadusmaatriks ise\n",
        "# Read: tegelikud väärtused\n",
        "# Tulbad: ennustatud väärtused\n",
        "print(confusion_matrix(y_test, y_pred))"
      ]
    },
    {
      "cell_type": "markdown",
      "id": "0a03c836",
      "metadata": {
        "id": "0a03c836"
      },
      "source": [
        "## Ülesanne 1\n",
        "Koostage mudelid ka ülejäänud kolme ülaltoodud meetodi põhjal. Kas tulemused tulid paremad või halvemad?"
      ]
    },
    {
      "cell_type": "code",
      "execution_count": null,
      "id": "49fcef62",
      "metadata": {
        "colab": {
          "base_uri": "https://localhost:8080/"
        },
        "id": "49fcef62",
        "outputId": "50cb7287-6856-449c-8148-183e99a47594"
      },
      "outputs": [
        {
          "output_type": "execute_result",
          "data": {
            "text/plain": [
              "DecisionTreeClassifier()"
            ]
          },
          "metadata": {},
          "execution_count": 51
        }
      ],
      "source": [
        "mudel_2 = KNeighborsClassifier()\n",
        "mudel_2.fit(X_train, y_train)\n",
        "\n",
        "mudel_3 = GaussianNB()\n",
        "mudel_3.fit(X_train, y_train)\n",
        "\n",
        "mudel_4 = DecisionTreeClassifier()\n",
        "mudel_4.fit(X_train, y_train)"
      ]
    },
    {
      "cell_type": "code",
      "source": [
        "y_pred_2 = mudel_2.predict(X_test)\n",
        "y_pred_3 = mudel_3.predict(X_test)\n",
        "y_pred_4 = mudel_4.predict(X_test)"
      ],
      "metadata": {
        "id": "sod_kplnloaf"
      },
      "id": "sod_kplnloaf",
      "execution_count": null,
      "outputs": []
    },
    {
      "cell_type": "code",
      "source": [
        "print(\"Lähimate naabrite täpsus on: %.2f.\" % accuracy_score(y_test, y_pred_2))\n",
        "print(\"Naiivse Bayesi täpsus on: %.2f.\" % accuracy_score(y_test, y_pred_3))\n",
        "print(\"Otsustuspuu täpsus on: %.2f.\" % accuracy_score(y_test, y_pred_4))"
      ],
      "metadata": {
        "colab": {
          "base_uri": "https://localhost:8080/"
        },
        "id": "zVoOpmfvl1Kg",
        "outputId": "c8412cbf-22bf-4333-da05-8466f7b56d28"
      },
      "id": "zVoOpmfvl1Kg",
      "execution_count": null,
      "outputs": [
        {
          "output_type": "stream",
          "name": "stdout",
          "text": [
            "Lähimate naabrite täpsus on: 0.40.\n",
            "Naiivse Bayesi täpsus on: 0.53.\n",
            "Otsustuspuu täpsus on: 0.40.\n"
          ]
        }
      ]
    },
    {
      "cell_type": "code",
      "source": [
        "print(mudel_4.classes_)\n",
        "print(confusion_matrix(y_test, y_pred_4))"
      ],
      "metadata": {
        "colab": {
          "base_uri": "https://localhost:8080/"
        },
        "id": "oa2PRJ6mmHqL",
        "outputId": "e1406f72-3fa8-4b19-8342-8c2f4cbfd740"
      },
      "id": "oa2PRJ6mmHqL",
      "execution_count": null,
      "outputs": [
        {
          "output_type": "stream",
          "name": "stdout",
          "text": [
            "['chevrolet' 'ford' 'plymouth' 'toyota']\n",
            "[[3 3 1 2]\n",
            " [3 5 2 2]\n",
            " [1 2 1 0]\n",
            " [0 1 1 3]]\n"
          ]
        }
      ]
    },
    {
      "cell_type": "markdown",
      "id": "cc133c92",
      "metadata": {
        "id": "cc133c92"
      },
      "source": [
        "### Masinõpe - regressioon\n",
        "Mudelite kirjeldustele otsa vaadates on näha, et osad neist on mõeldud klassifitseerimiseks, osad regressiooniks. Näiteks lähimate naabrite puhul on meil klassifitseerimiseks [*KNeighborsClassifier*](https://scikit-learn.org/stable/modules/generated/sklearn.neighbors.KNeighborsClassifier.html#sklearn.neighbors.KNeighborsClassifier), mille vaste regressiooniülesande puhul oleks [*KNeighborsRegressor*](https://scikit-learn.org/stable/modules/generated/sklearn.neighbors.KNeighborsRegressor.html#sklearn.neighbors.KNeighborsRegressor). Regressiooni puhul mäletatavasti ennustasime mingit arvu pidevas vahemikus. Püüame ennustada kiirendust (*acceleration*) auto kaalu ja kütusekulu põhjal."
      ]
    },
    {
      "cell_type": "code",
      "execution_count": null,
      "id": "a8785274",
      "metadata": {
        "id": "a8785274"
      },
      "outputs": [],
      "source": [
        "autod = sklearn.utils.shuffle(autod, random_state=40) \n",
        "\n",
        "# Mille põhjal ennustada\n",
        "tunnused = ['mpg','weight']\n",
        "# Mida ennustada\n",
        "ennustatav = 'acceleration'\n",
        "\n",
        "# Võtame esimesed 50 kirjet testimiseks, ülejäänud treenimiseks.\n",
        "# Üldine notatsioon on y = f(X) ehk ennustatav väärtus on y ja õppimistunnused on X.\n",
        "X_train = autod[50:][tunnused]\n",
        "y_train = autod[50:][ennustatav]\n",
        "\n",
        "X_test = autod[:50][tunnused]\n",
        "y_test = autod[:50][ennustatav]\n"
      ]
    },
    {
      "cell_type": "code",
      "execution_count": null,
      "id": "94e3c41e",
      "metadata": {
        "id": "94e3c41e"
      },
      "outputs": [],
      "source": [
        "from sklearn.linear_model import LinearRegression\n",
        "mudel = LinearRegression()\n",
        "mudel.fit(X_train, y_train)\n",
        "y_pred = mudel.predict(X_test)"
      ]
    },
    {
      "cell_type": "code",
      "execution_count": null,
      "id": "e0d3c104",
      "metadata": {
        "colab": {
          "base_uri": "https://localhost:8080/"
        },
        "id": "e0d3c104",
        "outputId": "a46e0df6-4b66-4f23-8da4-545a2f773c76"
      },
      "outputs": [
        {
          "output_type": "stream",
          "name": "stdout",
          "text": [
            "Mille põhjal ennustasime: [[  26. 1963.]]\n",
            "Tegelik väärtus: [15.5]\n",
            "Ennustatud väärtus: 16.40926300525507\n"
          ]
        }
      ],
      "source": [
        "print(\"Mille põhjal ennustasime:\",X_test[:1].values)\n",
        "print(\"Tegelik väärtus:\",y_test[:1].values)\n",
        "print(\"Ennustatud väärtus:\",y_pred[0])"
      ]
    },
    {
      "cell_type": "markdown",
      "id": "cde9e06e",
      "metadata": {
        "id": "cde9e06e"
      },
      "source": [
        "#### Meetrikud\n",
        "\n",
        "Loomulikult ei saa säärasel puhul rääkida enam samasugusest täpsusest kui oli klassifitseerimisel. Küll aga saame vaadata seda, kui palju mudel ennustamisel numbriliselt eksis.\n",
        "\n",
        "Erinevate meetrikute täpsemaid selgitusi võib leida [siit](https://scikit-learn.org/stable/modules/model_evaluation.html)"
      ]
    },
    {
      "cell_type": "code",
      "execution_count": null,
      "id": "460235c9",
      "metadata": {
        "colab": {
          "base_uri": "https://localhost:8080/"
        },
        "id": "460235c9",
        "outputId": "3912042b-5c78-4061-ffba-29e3d0fd4d25"
      },
      "outputs": [
        {
          "output_type": "stream",
          "name": "stdout",
          "text": [
            "Suurim erinevus: 9.161649986821166\n",
            "MSE: 7.8192.\n",
            "RMSE: 2.7963.\n"
          ]
        }
      ],
      "source": [
        "from sklearn.metrics import max_error, mean_squared_error\n",
        "\n",
        "print(\"Suurim erinevus:\",max_error(y_test,y_pred))\n",
        "# Keskmine erinevus - võetud ruutu, et erineda võiks nii üles kui alla\n",
        "print(\"MSE: %.4f.\" % mean_squared_error(y_test, y_pred))\n",
        "# Eelmise ruutjuur\n",
        "print(\"RMSE: %.4f.\" % np.sqrt(mean_squared_error(y_test, y_pred)))"
      ]
    },
    {
      "cell_type": "markdown",
      "id": "f01f292a",
      "metadata": {
        "id": "f01f292a"
      },
      "source": [
        "\n",
        "Püüame nüüd ennustada auto kiirendust (*acceleration*) mootori silindrite arvu (*cylinders*), võimsuse (*horsepower*) ja kaalu (*weight*) abil."
      ]
    },
    {
      "cell_type": "code",
      "execution_count": null,
      "id": "58b820ee",
      "metadata": {
        "colab": {
          "base_uri": "https://localhost:8080/"
        },
        "id": "58b820ee",
        "outputId": "6989dcaf-1aa5-4d0c-e70c-e7258e98ca8b"
      },
      "outputs": [
        {
          "output_type": "stream",
          "name": "stdout",
          "text": [
            "MSE: 3.7118.\n"
          ]
        }
      ],
      "source": [
        "autod = sklearn.utils.shuffle(autod, random_state=40) \n",
        "\n",
        "# Mille põhjal ennustada\n",
        "tunnused = ['cylinders','horsepower','weight']\n",
        "# Mida ennustada\n",
        "ennustatav = 'acceleration'\n",
        "\n",
        "# Võtame esimesed 50 kirjet testimiseks, ülejäänud treenimiseks.\n",
        "# Üldine notatsioon on y = f(X) ehk ennustatav väärtus on y ja õppimistunnused on X.\n",
        "X_train = autod[50:][tunnused]\n",
        "y_train = autod[50:][ennustatav]\n",
        "\n",
        "X_test = autod[:50][tunnused]\n",
        "y_test = autod[:50][ennustatav]\n",
        "\n",
        "mudel = LinearRegression()\n",
        "mudel.fit(X_train, y_train)\n",
        "y_pred = mudel.predict(X_test)\n",
        "print(\"MSE: %.4f.\" % mean_squared_error(y_test, y_pred))"
      ]
    },
    {
      "cell_type": "markdown",
      "id": "d2566238",
      "metadata": {
        "id": "d2566238"
      },
      "source": [
        "## Eeltöötlus\n",
        "\n",
        "Vt. ka http://scikit-learn.org/stable/modules/preprocessing.html "
      ]
    },
    {
      "cell_type": "code",
      "source": [
        "autod.info()"
      ],
      "metadata": {
        "colab": {
          "base_uri": "https://localhost:8080/"
        },
        "id": "2HvykA0KpExq",
        "outputId": "060ef68f-f0a1-4bf9-a5b1-d11fd068f8cf"
      },
      "id": "2HvykA0KpExq",
      "execution_count": null,
      "outputs": [
        {
          "output_type": "stream",
          "name": "stdout",
          "text": [
            "<class 'pandas.core.frame.DataFrame'>\n",
            "Int64Index: 398 entries, 266 to 375\n",
            "Data columns (total 7 columns):\n",
            " #   Column        Non-Null Count  Dtype  \n",
            "---  ------        --------------  -----  \n",
            " 0   mpg           398 non-null    float64\n",
            " 1   cylinders     395 non-null    float64\n",
            " 2   horsepower    398 non-null    float64\n",
            " 3   weight        398 non-null    int64  \n",
            " 4   acceleration  398 non-null    float64\n",
            " 5   name          398 non-null    object \n",
            " 6   brand         398 non-null    object \n",
            "dtypes: float64(4), int64(1), object(2)\n",
            "memory usage: 41.0+ KB\n"
          ]
        }
      ]
    },
    {
      "cell_type": "markdown",
      "id": "14e824b7",
      "metadata": {
        "id": "14e824b7"
      },
      "source": [
        "### Puuduvad andmed\n",
        "Sageli on andmed puudulikud: mõni väärtus lihtsalt puudub või mõnd pole teada (mõne filmi režissöör (director) või eelarve, mõne autori mootori võimsus vms). Üheks variandiks on ära kustutada kõik kirjed, kus mõni väärtus puudub, kuid siis võime kaotada ära liiga suure hulga andmeid. Paremini sobivaks variandiks on puuduvate andmete mingil viisil lisamine. Arvuliste väärtuste puhul võime puuduvaks väärtuseks lisada näiteks sama tunnuse ülejäänud väärtuste keskmine või mediaan. Nominaalsete tunnuste puhul võime lisada uue väärtuse, mida senini pole selle tunnuse puhul kasutatud (*other*) või kasutame kõige sagedasemat väärtust. \n",
        "\n",
        "Nagu autode andmestiku kirjeldusest näeme, on puudu kuue auto mootori võimsust (*horsepower*) (398-392=6) ja kolme auto silindrite arvu (*cylinders*) (398-395=3) tähistavad andmed, need on tähistatud praegu lühendiga \"NA\" (*Not Available*). Kui me prooviksime praegu masinõppe erinevaid meetodeid kasutada, antakse meile viga. Seega peaksime puuduvad väärtused siiski lisama, kuid vajalik on see nende tunnuste puhul, mida me hiljem analüüsis kasutame. Võimsuse puhul on meil tegemist numbrilise väärtusega ja seepärast püüame kasutada näiteks teiste andmete keskmist väärtust. Keskmist võiksime arvutada pikema koodi abil, kuid meil on olemas ka moodul [*numpy*](https://docs.scipy.org/doc/numpy-1.13.0/reference/index.html) ja selles meetod [*mean*](https://docs.scipy.org/doc/numpy-1.13.0/reference/generated/numpy.mean.html#numpy.mean). Kuna me teame, et puuduv väärtus on meil kirjeldatud muidu numbrilises tulbas stringina \"NA\", siis sobib siin kasutada [meetodit isnan](https://docs.scipy.org/doc/numpy-1.13.0/reference/generated/numpy.isnan.html) (NaN = not a number)."
      ]
    },
    {
      "cell_type": "code",
      "execution_count": null,
      "id": "1bab3bd2",
      "metadata": {
        "colab": {
          "base_uri": "https://localhost:8080/"
        },
        "id": "1bab3bd2",
        "outputId": "97efb1a3-aeaa-441e-b6e6-e485aa40238b"
      },
      "outputs": [
        {
          "output_type": "stream",
          "name": "stdout",
          "text": [
            "Keskmine: 104\n"
          ]
        }
      ],
      "source": [
        "import numpy as np\n",
        "\n",
        "keskmine = round(np.mean(autod[\"horsepower\"]))\n",
        "print(\"Keskmine:\",keskmine)\n",
        "for i in range(len(autod[\"horsepower\"])):\n",
        "    if np.isnan(autod[\"horsepower\"][i]):\n",
        "        autod.at[i,'horsepower'] = keskmine\n",
        "#print(autod[\"horsepower\"])"
      ]
    },
    {
      "cell_type": "markdown",
      "id": "d25c9fbf",
      "metadata": {
        "id": "d25c9fbf"
      },
      "source": [
        "Kopeerime siia kogu senise koodi ilma kommentaarideta, et edasine kood oleks lühem. Lisame puuduvad andmed, kuid seekord automaatselt scikit-learni enda vahenditega (vt. impute, https://scikit-learn.org/stable/modules/impute.html). Seejärel kontollime, kas meil on jätkuvalt puuduvaid väärtusi.\n"
      ]
    },
    {
      "cell_type": "code",
      "execution_count": null,
      "id": "498aa915",
      "metadata": {
        "colab": {
          "base_uri": "https://localhost:8080/"
        },
        "id": "498aa915",
        "outputId": "70f202d0-37e7-4bfd-aa71-d7c2d5f0910d"
      },
      "outputs": [
        {
          "output_type": "stream",
          "name": "stdout",
          "text": [
            "<class 'pandas.core.frame.DataFrame'>\n",
            "RangeIndex: 398 entries, 0 to 397\n",
            "Data columns (total 7 columns):\n",
            " #   Column        Non-Null Count  Dtype  \n",
            "---  ------        --------------  -----  \n",
            " 0   mpg           398 non-null    float64\n",
            " 1   cylinders     395 non-null    float64\n",
            " 2   horsepower    392 non-null    float64\n",
            " 3   weight        398 non-null    int64  \n",
            " 4   acceleration  398 non-null    float64\n",
            " 5   name          398 non-null    object \n",
            " 6   brand         398 non-null    object \n",
            "dtypes: float64(4), int64(1), object(2)\n",
            "memory usage: 21.9+ KB\n",
            "\n",
            "Ja pärast puuduvate väärtuste asendamist:\n",
            "<class 'pandas.core.frame.DataFrame'>\n",
            "RangeIndex: 398 entries, 0 to 397\n",
            "Data columns (total 7 columns):\n",
            " #   Column        Non-Null Count  Dtype  \n",
            "---  ------        --------------  -----  \n",
            " 0   mpg           398 non-null    float64\n",
            " 1   cylinders     398 non-null    float64\n",
            " 2   horsepower    398 non-null    float64\n",
            " 3   weight        398 non-null    int64  \n",
            " 4   acceleration  398 non-null    float64\n",
            " 5   name          398 non-null    object \n",
            " 6   brand         398 non-null    object \n",
            "dtypes: float64(4), int64(1), object(2)\n",
            "memory usage: 21.9+ KB\n"
          ]
        }
      ],
      "source": [
        "import sklearn\n",
        "import pandas as pd\n",
        "import numpy as np\n",
        "from sklearn.impute import SimpleImputer\n",
        "\n",
        "autod = pd.read_csv(failinimi, delimiter=\";\")\n",
        "autod.info()\n",
        "\n",
        "# Lisame sklearni meetodi abil võimsust märkivateks puuduvateks väärtusteks olemasolevate keskmise väärtuse\n",
        "# Keskmise (mitte kõige sagedasema väärtuse) seepärast, et tegemist on pidevate andmetega\n",
        "imp = SimpleImputer(missing_values=np.nan, strategy='mean')\n",
        "autod[\"horsepower\"] = imp.fit_transform(autod[[\"horsepower\"]])\n",
        "\n",
        "# Lisame sklearni meetodi abil silindrite arvu märkivateks puuduvateks väärtusteks kõige sagedasema väärtuse\n",
        "# Kõige sagedasem (mitte keskmine) seepärast, et tegemist pole pidevate andmetega (4,7 silindriga mootorit pole olemas)\n",
        "imp = SimpleImputer(missing_values=np.nan, strategy='most_frequent')\n",
        "autod[\"cylinders\"] = imp.fit_transform(autod[[\"cylinders\"]])\n",
        "\n",
        "#print(autod)''\n",
        "print(\"\\nJa pärast puuduvate väärtuste asendamist:\")\n",
        "autod.info()"
      ]
    },
    {
      "cell_type": "markdown",
      "id": "75fd9fa3",
      "metadata": {
        "id": "75fd9fa3"
      },
      "source": [
        "Testandmete puhul tuleb samuti puuduvad andmed asendada. Me ei saa seda teha testandmete keskmise põhjal, sest sel juhul poleks puuduv väärtus testandmetel enam samal viisil kodeeritud, kui see oli treeningandmetel.\n"
      ]
    },
    {
      "cell_type": "code",
      "execution_count": null,
      "id": "4068d43b",
      "metadata": {
        "colab": {
          "base_uri": "https://localhost:8080/",
          "height": 238
        },
        "id": "4068d43b",
        "outputId": "18343d57-87d8-4eff-d782-8768cf07b02e"
      },
      "outputs": [
        {
          "output_type": "execute_result",
          "data": {
            "text/plain": [
              "      mpg  cylinders  horsepower  weight  acceleration                  name  \\\n",
              "32   25.0        4.0         NaN    2046          19.0            ford pinto   \n",
              "126  21.0        6.0         NaN    2875          17.0         ford maverick   \n",
              "330  40.9        4.0         NaN    1835          17.3  renault lecar deluxe   \n",
              "336  23.6        4.0         NaN    2905          14.3    ford mustang cobra   \n",
              "354  34.5        4.0         NaN    2320          15.8           renault 18i   \n",
              "374  23.0        4.0         NaN    3035          20.5        amc concord dl   \n",
              "\n",
              "       brand  \n",
              "32      ford  \n",
              "126     ford  \n",
              "330  renault  \n",
              "336     ford  \n",
              "354  renault  \n",
              "374      amc  "
            ],
            "text/html": [
              "\n",
              "  <div id=\"df-dc52d6db-ec47-4fe3-bb25-3c48508c0f67\">\n",
              "    <div class=\"colab-df-container\">\n",
              "      <div>\n",
              "<style scoped>\n",
              "    .dataframe tbody tr th:only-of-type {\n",
              "        vertical-align: middle;\n",
              "    }\n",
              "\n",
              "    .dataframe tbody tr th {\n",
              "        vertical-align: top;\n",
              "    }\n",
              "\n",
              "    .dataframe thead th {\n",
              "        text-align: right;\n",
              "    }\n",
              "</style>\n",
              "<table border=\"1\" class=\"dataframe\">\n",
              "  <thead>\n",
              "    <tr style=\"text-align: right;\">\n",
              "      <th></th>\n",
              "      <th>mpg</th>\n",
              "      <th>cylinders</th>\n",
              "      <th>horsepower</th>\n",
              "      <th>weight</th>\n",
              "      <th>acceleration</th>\n",
              "      <th>name</th>\n",
              "      <th>brand</th>\n",
              "    </tr>\n",
              "  </thead>\n",
              "  <tbody>\n",
              "    <tr>\n",
              "      <th>32</th>\n",
              "      <td>25.0</td>\n",
              "      <td>4.0</td>\n",
              "      <td>NaN</td>\n",
              "      <td>2046</td>\n",
              "      <td>19.0</td>\n",
              "      <td>ford pinto</td>\n",
              "      <td>ford</td>\n",
              "    </tr>\n",
              "    <tr>\n",
              "      <th>126</th>\n",
              "      <td>21.0</td>\n",
              "      <td>6.0</td>\n",
              "      <td>NaN</td>\n",
              "      <td>2875</td>\n",
              "      <td>17.0</td>\n",
              "      <td>ford maverick</td>\n",
              "      <td>ford</td>\n",
              "    </tr>\n",
              "    <tr>\n",
              "      <th>330</th>\n",
              "      <td>40.9</td>\n",
              "      <td>4.0</td>\n",
              "      <td>NaN</td>\n",
              "      <td>1835</td>\n",
              "      <td>17.3</td>\n",
              "      <td>renault lecar deluxe</td>\n",
              "      <td>renault</td>\n",
              "    </tr>\n",
              "    <tr>\n",
              "      <th>336</th>\n",
              "      <td>23.6</td>\n",
              "      <td>4.0</td>\n",
              "      <td>NaN</td>\n",
              "      <td>2905</td>\n",
              "      <td>14.3</td>\n",
              "      <td>ford mustang cobra</td>\n",
              "      <td>ford</td>\n",
              "    </tr>\n",
              "    <tr>\n",
              "      <th>354</th>\n",
              "      <td>34.5</td>\n",
              "      <td>4.0</td>\n",
              "      <td>NaN</td>\n",
              "      <td>2320</td>\n",
              "      <td>15.8</td>\n",
              "      <td>renault 18i</td>\n",
              "      <td>renault</td>\n",
              "    </tr>\n",
              "    <tr>\n",
              "      <th>374</th>\n",
              "      <td>23.0</td>\n",
              "      <td>4.0</td>\n",
              "      <td>NaN</td>\n",
              "      <td>3035</td>\n",
              "      <td>20.5</td>\n",
              "      <td>amc concord dl</td>\n",
              "      <td>amc</td>\n",
              "    </tr>\n",
              "  </tbody>\n",
              "</table>\n",
              "</div>\n",
              "      <button class=\"colab-df-convert\" onclick=\"convertToInteractive('df-dc52d6db-ec47-4fe3-bb25-3c48508c0f67')\"\n",
              "              title=\"Convert this dataframe to an interactive table.\"\n",
              "              style=\"display:none;\">\n",
              "        \n",
              "  <svg xmlns=\"http://www.w3.org/2000/svg\" height=\"24px\"viewBox=\"0 0 24 24\"\n",
              "       width=\"24px\">\n",
              "    <path d=\"M0 0h24v24H0V0z\" fill=\"none\"/>\n",
              "    <path d=\"M18.56 5.44l.94 2.06.94-2.06 2.06-.94-2.06-.94-.94-2.06-.94 2.06-2.06.94zm-11 1L8.5 8.5l.94-2.06 2.06-.94-2.06-.94L8.5 2.5l-.94 2.06-2.06.94zm10 10l.94 2.06.94-2.06 2.06-.94-2.06-.94-.94-2.06-.94 2.06-2.06.94z\"/><path d=\"M17.41 7.96l-1.37-1.37c-.4-.4-.92-.59-1.43-.59-.52 0-1.04.2-1.43.59L10.3 9.45l-7.72 7.72c-.78.78-.78 2.05 0 2.83L4 21.41c.39.39.9.59 1.41.59.51 0 1.02-.2 1.41-.59l7.78-7.78 2.81-2.81c.8-.78.8-2.07 0-2.86zM5.41 20L4 18.59l7.72-7.72 1.47 1.35L5.41 20z\"/>\n",
              "  </svg>\n",
              "      </button>\n",
              "      \n",
              "  <style>\n",
              "    .colab-df-container {\n",
              "      display:flex;\n",
              "      flex-wrap:wrap;\n",
              "      gap: 12px;\n",
              "    }\n",
              "\n",
              "    .colab-df-convert {\n",
              "      background-color: #E8F0FE;\n",
              "      border: none;\n",
              "      border-radius: 50%;\n",
              "      cursor: pointer;\n",
              "      display: none;\n",
              "      fill: #1967D2;\n",
              "      height: 32px;\n",
              "      padding: 0 0 0 0;\n",
              "      width: 32px;\n",
              "    }\n",
              "\n",
              "    .colab-df-convert:hover {\n",
              "      background-color: #E2EBFA;\n",
              "      box-shadow: 0px 1px 2px rgba(60, 64, 67, 0.3), 0px 1px 3px 1px rgba(60, 64, 67, 0.15);\n",
              "      fill: #174EA6;\n",
              "    }\n",
              "\n",
              "    [theme=dark] .colab-df-convert {\n",
              "      background-color: #3B4455;\n",
              "      fill: #D2E3FC;\n",
              "    }\n",
              "\n",
              "    [theme=dark] .colab-df-convert:hover {\n",
              "      background-color: #434B5C;\n",
              "      box-shadow: 0px 1px 3px 1px rgba(0, 0, 0, 0.15);\n",
              "      filter: drop-shadow(0px 1px 2px rgba(0, 0, 0, 0.3));\n",
              "      fill: #FFFFFF;\n",
              "    }\n",
              "  </style>\n",
              "\n",
              "      <script>\n",
              "        const buttonEl =\n",
              "          document.querySelector('#df-dc52d6db-ec47-4fe3-bb25-3c48508c0f67 button.colab-df-convert');\n",
              "        buttonEl.style.display =\n",
              "          google.colab.kernel.accessAllowed ? 'block' : 'none';\n",
              "\n",
              "        async function convertToInteractive(key) {\n",
              "          const element = document.querySelector('#df-dc52d6db-ec47-4fe3-bb25-3c48508c0f67');\n",
              "          const dataTable =\n",
              "            await google.colab.kernel.invokeFunction('convertToInteractive',\n",
              "                                                     [key], {});\n",
              "          if (!dataTable) return;\n",
              "\n",
              "          const docLinkHtml = 'Like what you see? Visit the ' +\n",
              "            '<a target=\"_blank\" href=https://colab.research.google.com/notebooks/data_table.ipynb>data table notebook</a>'\n",
              "            + ' to learn more about interactive tables.';\n",
              "          element.innerHTML = '';\n",
              "          dataTable['output_type'] = 'display_data';\n",
              "          await google.colab.output.renderOutput(dataTable, element);\n",
              "          const docLink = document.createElement('div');\n",
              "          docLink.innerHTML = docLinkHtml;\n",
              "          element.appendChild(docLink);\n",
              "        }\n",
              "      </script>\n",
              "    </div>\n",
              "  </div>\n",
              "  "
            ]
          },
          "metadata": {},
          "execution_count": 67
        }
      ],
      "source": [
        "# Loeme uuesti sisse, kuna enne said andmed igal pool asendatud\n",
        "autod2 = pd.read_csv(failinimi, delimiter=\";\")\n",
        "train = autod2[50:]\n",
        "test = autod2[:50]\n",
        "\n",
        "# Puuduvate hobujõuandmetega kirjed\n",
        "autod2.loc[autod2['horsepower'].isna()]"
      ]
    },
    {
      "cell_type": "code",
      "execution_count": null,
      "id": "f8589091",
      "metadata": {
        "id": "f8589091"
      },
      "outputs": [],
      "source": [
        "#Salvestame testhulgas olevate puuduvate väärtustega kirjete indeksid\n",
        "puuduvad = test.loc[test['horsepower'].isna()].index.values\n",
        "puuduvad = list(puuduvad)"
      ]
    },
    {
      "cell_type": "code",
      "execution_count": null,
      "id": "af09b3f5",
      "metadata": {
        "colab": {
          "base_uri": "https://localhost:8080/"
        },
        "id": "af09b3f5",
        "outputId": "76097dc9-60e7-4f0a-d15c-0e4bf5035699"
      },
      "outputs": [
        {
          "output_type": "stream",
          "name": "stdout",
          "text": [
            "Kui võtta aluseks testandmetel saadud keskmine\n",
            "     mpg  cylinders  horsepower  weight  acceleration        name brand\n",
            "32  25.0        4.0  136.265306    2046          19.0  ford pinto  ford\n",
            "\n",
            "Nullime oma testandmed vahepeal ära\n",
            "     mpg  cylinders  horsepower  weight  acceleration        name brand\n",
            "32  25.0        4.0         NaN    2046          19.0  ford pinto  ford\n",
            "\n",
            "Treeningandmetel õpetatud imputeri asendustega\n",
            "     mpg  cylinders  horsepower  weight  acceleration        name brand\n",
            "32  25.0        4.0   99.927114    2046          19.0  ford pinto  ford\n"
          ]
        },
        {
          "output_type": "stream",
          "name": "stderr",
          "text": [
            "/usr/local/lib/python3.7/dist-packages/ipykernel_launcher.py:3: SettingWithCopyWarning: \n",
            "A value is trying to be set on a copy of a slice from a DataFrame.\n",
            "Try using .loc[row_indexer,col_indexer] = value instead\n",
            "\n",
            "See the caveats in the documentation: https://pandas.pydata.org/pandas-docs/stable/user_guide/indexing.html#returning-a-view-versus-a-copy\n",
            "  This is separate from the ipykernel package so we can avoid doing imports until\n",
            "/usr/local/lib/python3.7/dist-packages/ipykernel_launcher.py:4: SettingWithCopyWarning: \n",
            "A value is trying to be set on a copy of a slice from a DataFrame.\n",
            "Try using .loc[row_indexer,col_indexer] = value instead\n",
            "\n",
            "See the caveats in the documentation: https://pandas.pydata.org/pandas-docs/stable/user_guide/indexing.html#returning-a-view-versus-a-copy\n",
            "  after removing the cwd from sys.path.\n",
            "/usr/local/lib/python3.7/dist-packages/ipykernel_launcher.py:23: SettingWithCopyWarning: \n",
            "A value is trying to be set on a copy of a slice from a DataFrame.\n",
            "Try using .loc[row_indexer,col_indexer] = value instead\n",
            "\n",
            "See the caveats in the documentation: https://pandas.pydata.org/pandas-docs/stable/user_guide/indexing.html#returning-a-view-versus-a-copy\n"
          ]
        }
      ],
      "source": [
        "# Julmalt testandmete põhjal saadud tulemus \n",
        "impHP = SimpleImputer(missing_values=np.nan, strategy='mean')\n",
        "train[\"horsepower\"] = impHP.fit_transform(train[[\"horsepower\"]])\n",
        "test['horsepower'] = impHP.fit_transform(test[[\"horsepower\"]])\n",
        "print(\"Kui võtta aluseks testandmetel saadud keskmine\")\n",
        "print(test.loc[puuduvad])\n",
        "print()\n",
        "\n",
        "# Vaikimisi muudetakse ka autod2 DataFrame'i. \n",
        "# Algsete andmete samiseks oleks tulnud temast koopia teha.\n",
        "# Aga võime praegu ka lihtsalt uuesti sisse lugeda.\n",
        "autod2 = pd.read_csv(failinimi, delimiter=\";\")\n",
        "test = autod2[:50]\n",
        "print(\"Nullime oma testandmed vahepeal ära\")\n",
        "print(test.loc[puuduvad])\n",
        "print()\n",
        "\n",
        "# Loome uue asendaja\n",
        "impHP = SimpleImputer(missing_values=np.nan, strategy='mean')\n",
        "# Üksnes imputeri treenimiseks, ilma asendusteta\n",
        "impHP.fit(train[[\"horsepower\"]])\n",
        "test = autod2[:50]\n",
        "test['horsepower'] = impHP.transform(test[[\"horsepower\"]])\n",
        "print(\"Treeningandmetel õpetatud imputeri asendustega\")\n",
        "print(test.loc[puuduvad])"
      ]
    },
    {
      "cell_type": "markdown",
      "id": "5a15b8d5",
      "metadata": {
        "id": "5a15b8d5"
      },
      "source": [
        "* Mis juhtuks siis, kui jätta esimesel juhul treeningandmetel õppimata?\n",
        "* Mis väärtusega asendatakse treeninghulga puuduvad väärtused?"
      ]
    },
    {
      "cell_type": "markdown",
      "id": "1ec4c591",
      "metadata": {
        "id": "1ec4c591"
      },
      "source": [
        "Mõningal juhul saab puuduvate väärtuste asendamisega tegelda otse DataFrame'is Pandase vahenditega - aga ka sel juhul tuleb olla ettevaatlik treening- ja testhulkade väärtustega."
      ]
    },
    {
      "cell_type": "code",
      "execution_count": null,
      "id": "ec9a7b3e",
      "metadata": {
        "colab": {
          "base_uri": "https://localhost:8080/"
        },
        "id": "ec9a7b3e",
        "outputId": "22375aa7-16a1-4778-a4cf-eb210e6862b4"
      },
      "outputs": [
        {
          "output_type": "stream",
          "name": "stdout",
          "text": [
            "<class 'pandas.core.frame.DataFrame'>\n",
            "RangeIndex: 398 entries, 0 to 397\n",
            "Data columns (total 7 columns):\n",
            " #   Column        Non-Null Count  Dtype  \n",
            "---  ------        --------------  -----  \n",
            " 0   mpg           398 non-null    float64\n",
            " 1   cylinders     395 non-null    float64\n",
            " 2   horsepower    398 non-null    float64\n",
            " 3   weight        398 non-null    int64  \n",
            " 4   acceleration  398 non-null    float64\n",
            " 5   name          398 non-null    object \n",
            " 6   brand         398 non-null    object \n",
            "dtypes: float64(4), int64(1), object(2)\n",
            "memory usage: 21.9+ KB\n",
            "None\n",
            "\n",
            "     mpg  cylinders  horsepower  weight  acceleration        name brand\n",
            "32  25.0        4.0  104.469388    2046          19.0  ford pinto  ford\n"
          ]
        }
      ],
      "source": [
        "autod2 = pd.read_csv(failinimi, delimiter=\";\")\n",
        "autod2[\"horsepower\"].fillna(autod2.horsepower.mean(),inplace=True)\n",
        "print(autod2.info())\n",
        "print()\n",
        "print(autod2.loc[puuduvad]) #32"
      ]
    },
    {
      "cell_type": "markdown",
      "id": "b248eac2",
      "metadata": {
        "id": "b248eac2"
      },
      "source": [
        "## Ülesanne 2\n",
        "Ennusta enne valitud väärtuste põhjal auto kiirendust. Kas tulemused olid nende väärtuste abil paremad?"
      ]
    },
    {
      "cell_type": "code",
      "execution_count": null,
      "id": "0eaaa7aa",
      "metadata": {
        "colab": {
          "base_uri": "https://localhost:8080/"
        },
        "id": "0eaaa7aa",
        "outputId": "6a345f50-f64a-460d-d1fc-bc4b354236f4"
      },
      "outputs": [
        {
          "output_type": "stream",
          "name": "stdout",
          "text": [
            "MSE: 3.4264.\n"
          ]
        }
      ],
      "source": [
        "autod = sklearn.utils.shuffle(autod, random_state=40) \n",
        "\n",
        "# Mille põhjal ennustada\n",
        "tunnused = ['cylinders','horsepower','weight']\n",
        "# Mida ennustada\n",
        "ennustatav = 'acceleration'\n",
        "\n",
        "# Võtame esimesed 50 kirjet testimiseks, ülejäänud treenimiseks.\n",
        "# Üldine notatsioon on y = f(X) ehk ennustatav väärtus on y ja õppimistunnused on X.\n",
        "X_train = autod[50:][tunnused]\n",
        "y_train = autod[50:][ennustatav]\n",
        "\n",
        "X_test = autod[:50][tunnused]\n",
        "y_test = autod[:50][ennustatav]\n",
        "\n",
        "mudel = LinearRegression()\n",
        "mudel.fit(X_train, y_train)\n",
        "y_pred = mudel.predict(X_test)\n",
        "print(\"MSE: %.4f.\" % mean_squared_error(y_test, y_pred))"
      ]
    },
    {
      "cell_type": "markdown",
      "id": "298e6972",
      "metadata": {
        "id": "298e6972"
      },
      "source": [
        "## Numbriliste väärtuste teisendamine nominaalseteks (väärtuste klassifitseerimine)\n",
        "Mõnikord on probleemiks on andmete väike hulk, kuid ka see, et mõned tingimusteks olevad väärtused on numbrilised ja pidevad. Proovime numbrilisi väärtusi kategoriseerida. Selline teisendamine on reeglina kadudega. "
      ]
    },
    {
      "cell_type": "code",
      "execution_count": null,
      "id": "0c1009c9",
      "metadata": {
        "id": "0c1009c9"
      },
      "outputs": [],
      "source": [
        "# Kategoriseerime võimsuse normaliseeritud väärtusi\n",
        "numOfCat = 3\n",
        "horsepower_cat = pd.cut(autod['horsepower'], numOfCat, labels=range(numOfCat))\n",
        "autod['horsepower_cat'] = horsepower_cat"
      ]
    },
    {
      "cell_type": "code",
      "execution_count": null,
      "id": "827385fc",
      "metadata": {
        "colab": {
          "base_uri": "https://localhost:8080/"
        },
        "id": "827385fc",
        "outputId": "3c546992-f3e8-4e24-c763-734f8aaba3f1"
      },
      "outputs": [
        {
          "output_type": "stream",
          "name": "stdout",
          "text": [
            "     horsepower horsepower_cat\n",
            "266        68.0              0\n",
            "359        80.0              0\n",
            "373        92.0              0\n",
            "234        88.0              0\n",
            "317        78.0              0\n",
            "..          ...            ...\n",
            "393        86.0              0\n",
            "303        65.0              0\n",
            "56         70.0              0\n",
            "368        88.0              0\n",
            "375        74.0              0\n",
            "\n",
            "[398 rows x 2 columns]\n"
          ]
        }
      ],
      "source": [
        "print(autod[['horsepower','horsepower_cat']])"
      ]
    },
    {
      "cell_type": "code",
      "execution_count": null,
      "id": "df45eec2",
      "metadata": {
        "colab": {
          "base_uri": "https://localhost:8080/"
        },
        "id": "df45eec2",
        "outputId": "a0819d13-e73e-4171-ccd4-e5e136a7c440"
      },
      "outputs": [
        {
          "output_type": "execute_result",
          "data": {
            "text/plain": [
              "horsepower_cat\n",
              "0    263\n",
              "1    103\n",
              "2     32\n",
              "dtype: int64"
            ]
          },
          "metadata": {},
          "execution_count": 76
        }
      ],
      "source": [
        "autod.groupby(\"horsepower_cat\").size()"
      ]
    },
    {
      "cell_type": "code",
      "execution_count": null,
      "id": "8cd47dde",
      "metadata": {
        "colab": {
          "base_uri": "https://localhost:8080/"
        },
        "id": "8cd47dde",
        "outputId": "cdb19fbd-326b-4ea2-d4b6-5add067a7c5e"
      },
      "outputs": [
        {
          "output_type": "stream",
          "name": "stdout",
          "text": [
            "     horsepower horsepower_cat  weight weight_cat\n",
            "266        68.0              0    2155      kerge\n",
            "359        80.0              0    3230   keskmine\n",
            "373        92.0              0    2865   keskmine\n",
            "234        88.0              0    2740      kerge\n",
            "317        78.0              0    2188      kerge\n",
            "..          ...            ...     ...        ...\n",
            "393        86.0              0    2790   keskmine\n",
            "303        65.0              0    2020      kerge\n",
            "56         70.0              0    1955      kerge\n",
            "368        88.0              0    2640      kerge\n",
            "375        74.0              0    1980      kerge\n",
            "\n",
            "[398 rows x 4 columns]\n"
          ]
        }
      ],
      "source": [
        "# Kategoriseerime kaalu väärtusi\n",
        "numOfCat = 3\n",
        "weight, vahemikud = pd.cut(autod['weight'], numOfCat, labels=[\"kerge\",\"keskmine\",\"raske\"],retbins=True)\n",
        "autod['weight_cat'] = weight\n",
        "print(autod[['horsepower','horsepower_cat','weight','weight_cat']])"
      ]
    },
    {
      "cell_type": "code",
      "execution_count": null,
      "id": "62dbefd8",
      "metadata": {
        "colab": {
          "base_uri": "https://localhost:8080/"
        },
        "id": "62dbefd8",
        "outputId": "e40e0c4b-2308-4838-cc31-53c3847c9dc9"
      },
      "outputs": [
        {
          "output_type": "execute_result",
          "data": {
            "text/plain": [
              "weight_cat\n",
              "kerge       195\n",
              "keskmine    138\n",
              "raske        65\n",
              "dtype: int64"
            ]
          },
          "metadata": {},
          "execution_count": 78
        }
      ],
      "source": [
        "autod.groupby(\"weight_cat\").size()"
      ]
    },
    {
      "cell_type": "code",
      "execution_count": null,
      "id": "d15fcf45",
      "metadata": {
        "colab": {
          "base_uri": "https://localhost:8080/"
        },
        "id": "d15fcf45",
        "outputId": "88d8134d-14c9-4719-fc71-ad39f7fa04ef"
      },
      "outputs": [
        {
          "output_type": "stream",
          "name": "stdout",
          "text": [
            "[1609.473      2788.66666667 3964.33333333 5140.        ]\n"
          ]
        }
      ],
      "source": [
        "# Bins näitab seda, mille pealt lahku löödi.\n",
        "# Ära on toodud ka miinimum- ja maksimumväärtused.\n",
        "print(vahemikud)"
      ]
    },
    {
      "cell_type": "markdown",
      "id": "57bb1784",
      "metadata": {
        "id": "57bb1784"
      },
      "source": [
        "## Nominaalsete väärtuste teisendamine numbrilisele kujule\n",
        "Paljud meetodid ei luba töötada kategooriate ja nominaalsete tunnustega. Kuna nominaalsete väärtuste lihtne teisendamine numbriteks pole õige (teisendades näiteks soo puhul väärtuse \"mees\" 1-ga ja väärtuse \"naine\" 2-ga on need väärtused suuruse mõttes võrreldavad), siis kasutatakse nn \"1-hot vektoreid\": ühest tunnusest (näiteks \"sugu\") tehakse mitu (näiteks \"mees\" ja \"naine\") ning väärtustena on sel juhul 1-ga tähistatud see tunnus, mis on tõene:\n",
        "- mehe puhul \"mees\" = 1, \"naine\" = 0\n",
        "- naise puhul \"mees\" = 0, \"naine\" = 1\n",
        "\n",
        "Autoandmete puhul võime mõelda näiteks silindrite arvu või brändi teisendamist numbrilisele kujule. Jah, silindrite arv on küll arv, kuid mitte pidev ning me ei arvesta 5,6 silindrilise mootoriga. \n",
        "\n",
        "Teeme teisendamist praegu auto brändi nimega. Kuna tulpade hulk on väga suur, on ekraanil tulemust keeruline jälgida, seepärast salvestame tulemused ka faili (http://pandas.pydata.org/pandas-docs/stable/generated/pandas.DataFrame.to_csv.html). "
      ]
    },
    {
      "cell_type": "code",
      "execution_count": null,
      "id": "e8b91081",
      "metadata": {
        "id": "e8b91081"
      },
      "outputs": [],
      "source": [
        "# Failikirjutamine\n",
        "test.to_csv(\"test_results.csv\", sep=';')"
      ]
    },
    {
      "cell_type": "code",
      "execution_count": null,
      "id": "50678f59",
      "metadata": {
        "colab": {
          "base_uri": "https://localhost:8080/",
          "height": 456
        },
        "id": "50678f59",
        "outputId": "84a06500-1358-4bcd-c657-728135d30dce"
      },
      "outputs": [
        {
          "output_type": "execute_result",
          "data": {
            "text/plain": [
              "      mpg  cylinders  horsepower  weight  acceleration  \\\n",
              "266  30.0        4.0        68.0    2155          16.5   \n",
              "359  28.1        4.0        80.0    3230          20.4   \n",
              "373  24.0        4.0        92.0    2865          16.4   \n",
              "234  24.5        4.0        88.0    2740          16.0   \n",
              "317  34.3        4.0        78.0    2188          15.8   \n",
              "\n",
              "                          name      brand horsepower_cat weight_cat  amc  ...  \\\n",
              "266         chevrolet chevette  chevrolet              0      kerge    0  ...   \n",
              "359  peugeot 505s turbo diesel    peugeot              0   keskmine    0  ...   \n",
              "373       ford fairmont futura       ford              0   keskmine    0  ...   \n",
              "234      pontiac sunbird coupe    pontiac              0      kerge    0  ...   \n",
              "317                  audi 4000       audi              0      kerge    0  ...   \n",
              "\n",
              "     plymouth  pontiac  renault  saab  subaru  toyota  triumph  volkswagen  \\\n",
              "266         0        0        0     0       0       0        0           0   \n",
              "359         0        0        0     0       0       0        0           0   \n",
              "373         0        0        0     0       0       0        0           0   \n",
              "234         0        1        0     0       0       0        0           0   \n",
              "317         0        0        0     0       0       0        0           0   \n",
              "\n",
              "     volvo  vw  \n",
              "266      0   0  \n",
              "359      0   0  \n",
              "373      0   0  \n",
              "234      0   0  \n",
              "317      0   0  \n",
              "\n",
              "[5 rows x 42 columns]"
            ],
            "text/html": [
              "\n",
              "  <div id=\"df-95e875e0-c1ee-49cb-8e3a-140df0949d85\">\n",
              "    <div class=\"colab-df-container\">\n",
              "      <div>\n",
              "<style scoped>\n",
              "    .dataframe tbody tr th:only-of-type {\n",
              "        vertical-align: middle;\n",
              "    }\n",
              "\n",
              "    .dataframe tbody tr th {\n",
              "        vertical-align: top;\n",
              "    }\n",
              "\n",
              "    .dataframe thead th {\n",
              "        text-align: right;\n",
              "    }\n",
              "</style>\n",
              "<table border=\"1\" class=\"dataframe\">\n",
              "  <thead>\n",
              "    <tr style=\"text-align: right;\">\n",
              "      <th></th>\n",
              "      <th>mpg</th>\n",
              "      <th>cylinders</th>\n",
              "      <th>horsepower</th>\n",
              "      <th>weight</th>\n",
              "      <th>acceleration</th>\n",
              "      <th>name</th>\n",
              "      <th>brand</th>\n",
              "      <th>horsepower_cat</th>\n",
              "      <th>weight_cat</th>\n",
              "      <th>amc</th>\n",
              "      <th>...</th>\n",
              "      <th>plymouth</th>\n",
              "      <th>pontiac</th>\n",
              "      <th>renault</th>\n",
              "      <th>saab</th>\n",
              "      <th>subaru</th>\n",
              "      <th>toyota</th>\n",
              "      <th>triumph</th>\n",
              "      <th>volkswagen</th>\n",
              "      <th>volvo</th>\n",
              "      <th>vw</th>\n",
              "    </tr>\n",
              "  </thead>\n",
              "  <tbody>\n",
              "    <tr>\n",
              "      <th>266</th>\n",
              "      <td>30.0</td>\n",
              "      <td>4.0</td>\n",
              "      <td>68.0</td>\n",
              "      <td>2155</td>\n",
              "      <td>16.5</td>\n",
              "      <td>chevrolet chevette</td>\n",
              "      <td>chevrolet</td>\n",
              "      <td>0</td>\n",
              "      <td>kerge</td>\n",
              "      <td>0</td>\n",
              "      <td>...</td>\n",
              "      <td>0</td>\n",
              "      <td>0</td>\n",
              "      <td>0</td>\n",
              "      <td>0</td>\n",
              "      <td>0</td>\n",
              "      <td>0</td>\n",
              "      <td>0</td>\n",
              "      <td>0</td>\n",
              "      <td>0</td>\n",
              "      <td>0</td>\n",
              "    </tr>\n",
              "    <tr>\n",
              "      <th>359</th>\n",
              "      <td>28.1</td>\n",
              "      <td>4.0</td>\n",
              "      <td>80.0</td>\n",
              "      <td>3230</td>\n",
              "      <td>20.4</td>\n",
              "      <td>peugeot 505s turbo diesel</td>\n",
              "      <td>peugeot</td>\n",
              "      <td>0</td>\n",
              "      <td>keskmine</td>\n",
              "      <td>0</td>\n",
              "      <td>...</td>\n",
              "      <td>0</td>\n",
              "      <td>0</td>\n",
              "      <td>0</td>\n",
              "      <td>0</td>\n",
              "      <td>0</td>\n",
              "      <td>0</td>\n",
              "      <td>0</td>\n",
              "      <td>0</td>\n",
              "      <td>0</td>\n",
              "      <td>0</td>\n",
              "    </tr>\n",
              "    <tr>\n",
              "      <th>373</th>\n",
              "      <td>24.0</td>\n",
              "      <td>4.0</td>\n",
              "      <td>92.0</td>\n",
              "      <td>2865</td>\n",
              "      <td>16.4</td>\n",
              "      <td>ford fairmont futura</td>\n",
              "      <td>ford</td>\n",
              "      <td>0</td>\n",
              "      <td>keskmine</td>\n",
              "      <td>0</td>\n",
              "      <td>...</td>\n",
              "      <td>0</td>\n",
              "      <td>0</td>\n",
              "      <td>0</td>\n",
              "      <td>0</td>\n",
              "      <td>0</td>\n",
              "      <td>0</td>\n",
              "      <td>0</td>\n",
              "      <td>0</td>\n",
              "      <td>0</td>\n",
              "      <td>0</td>\n",
              "    </tr>\n",
              "    <tr>\n",
              "      <th>234</th>\n",
              "      <td>24.5</td>\n",
              "      <td>4.0</td>\n",
              "      <td>88.0</td>\n",
              "      <td>2740</td>\n",
              "      <td>16.0</td>\n",
              "      <td>pontiac sunbird coupe</td>\n",
              "      <td>pontiac</td>\n",
              "      <td>0</td>\n",
              "      <td>kerge</td>\n",
              "      <td>0</td>\n",
              "      <td>...</td>\n",
              "      <td>0</td>\n",
              "      <td>1</td>\n",
              "      <td>0</td>\n",
              "      <td>0</td>\n",
              "      <td>0</td>\n",
              "      <td>0</td>\n",
              "      <td>0</td>\n",
              "      <td>0</td>\n",
              "      <td>0</td>\n",
              "      <td>0</td>\n",
              "    </tr>\n",
              "    <tr>\n",
              "      <th>317</th>\n",
              "      <td>34.3</td>\n",
              "      <td>4.0</td>\n",
              "      <td>78.0</td>\n",
              "      <td>2188</td>\n",
              "      <td>15.8</td>\n",
              "      <td>audi 4000</td>\n",
              "      <td>audi</td>\n",
              "      <td>0</td>\n",
              "      <td>kerge</td>\n",
              "      <td>0</td>\n",
              "      <td>...</td>\n",
              "      <td>0</td>\n",
              "      <td>0</td>\n",
              "      <td>0</td>\n",
              "      <td>0</td>\n",
              "      <td>0</td>\n",
              "      <td>0</td>\n",
              "      <td>0</td>\n",
              "      <td>0</td>\n",
              "      <td>0</td>\n",
              "      <td>0</td>\n",
              "    </tr>\n",
              "  </tbody>\n",
              "</table>\n",
              "<p>5 rows × 42 columns</p>\n",
              "</div>\n",
              "      <button class=\"colab-df-convert\" onclick=\"convertToInteractive('df-95e875e0-c1ee-49cb-8e3a-140df0949d85')\"\n",
              "              title=\"Convert this dataframe to an interactive table.\"\n",
              "              style=\"display:none;\">\n",
              "        \n",
              "  <svg xmlns=\"http://www.w3.org/2000/svg\" height=\"24px\"viewBox=\"0 0 24 24\"\n",
              "       width=\"24px\">\n",
              "    <path d=\"M0 0h24v24H0V0z\" fill=\"none\"/>\n",
              "    <path d=\"M18.56 5.44l.94 2.06.94-2.06 2.06-.94-2.06-.94-.94-2.06-.94 2.06-2.06.94zm-11 1L8.5 8.5l.94-2.06 2.06-.94-2.06-.94L8.5 2.5l-.94 2.06-2.06.94zm10 10l.94 2.06.94-2.06 2.06-.94-2.06-.94-.94-2.06-.94 2.06-2.06.94z\"/><path d=\"M17.41 7.96l-1.37-1.37c-.4-.4-.92-.59-1.43-.59-.52 0-1.04.2-1.43.59L10.3 9.45l-7.72 7.72c-.78.78-.78 2.05 0 2.83L4 21.41c.39.39.9.59 1.41.59.51 0 1.02-.2 1.41-.59l7.78-7.78 2.81-2.81c.8-.78.8-2.07 0-2.86zM5.41 20L4 18.59l7.72-7.72 1.47 1.35L5.41 20z\"/>\n",
              "  </svg>\n",
              "      </button>\n",
              "      \n",
              "  <style>\n",
              "    .colab-df-container {\n",
              "      display:flex;\n",
              "      flex-wrap:wrap;\n",
              "      gap: 12px;\n",
              "    }\n",
              "\n",
              "    .colab-df-convert {\n",
              "      background-color: #E8F0FE;\n",
              "      border: none;\n",
              "      border-radius: 50%;\n",
              "      cursor: pointer;\n",
              "      display: none;\n",
              "      fill: #1967D2;\n",
              "      height: 32px;\n",
              "      padding: 0 0 0 0;\n",
              "      width: 32px;\n",
              "    }\n",
              "\n",
              "    .colab-df-convert:hover {\n",
              "      background-color: #E2EBFA;\n",
              "      box-shadow: 0px 1px 2px rgba(60, 64, 67, 0.3), 0px 1px 3px 1px rgba(60, 64, 67, 0.15);\n",
              "      fill: #174EA6;\n",
              "    }\n",
              "\n",
              "    [theme=dark] .colab-df-convert {\n",
              "      background-color: #3B4455;\n",
              "      fill: #D2E3FC;\n",
              "    }\n",
              "\n",
              "    [theme=dark] .colab-df-convert:hover {\n",
              "      background-color: #434B5C;\n",
              "      box-shadow: 0px 1px 3px 1px rgba(0, 0, 0, 0.15);\n",
              "      filter: drop-shadow(0px 1px 2px rgba(0, 0, 0, 0.3));\n",
              "      fill: #FFFFFF;\n",
              "    }\n",
              "  </style>\n",
              "\n",
              "      <script>\n",
              "        const buttonEl =\n",
              "          document.querySelector('#df-95e875e0-c1ee-49cb-8e3a-140df0949d85 button.colab-df-convert');\n",
              "        buttonEl.style.display =\n",
              "          google.colab.kernel.accessAllowed ? 'block' : 'none';\n",
              "\n",
              "        async function convertToInteractive(key) {\n",
              "          const element = document.querySelector('#df-95e875e0-c1ee-49cb-8e3a-140df0949d85');\n",
              "          const dataTable =\n",
              "            await google.colab.kernel.invokeFunction('convertToInteractive',\n",
              "                                                     [key], {});\n",
              "          if (!dataTable) return;\n",
              "\n",
              "          const docLinkHtml = 'Like what you see? Visit the ' +\n",
              "            '<a target=\"_blank\" href=https://colab.research.google.com/notebooks/data_table.ipynb>data table notebook</a>'\n",
              "            + ' to learn more about interactive tables.';\n",
              "          element.innerHTML = '';\n",
              "          dataTable['output_type'] = 'display_data';\n",
              "          await google.colab.output.renderOutput(dataTable, element);\n",
              "          const docLink = document.createElement('div');\n",
              "          docLink.innerHTML = docLinkHtml;\n",
              "          element.appendChild(docLink);\n",
              "        }\n",
              "      </script>\n",
              "    </div>\n",
              "  </div>\n",
              "  "
            ]
          },
          "metadata": {},
          "execution_count": 81
        }
      ],
      "source": [
        "onehot = pd.get_dummies(autod['brand'])\n",
        "autod = autod.join(onehot)\n",
        "#Kirjuta faili:\n",
        "autod.to_csv(\"autod_results.csv\", sep=';')\n",
        "#print(autod)\n",
        "autod.head()"
      ]
    },
    {
      "cell_type": "markdown",
      "id": "c6c40bb3",
      "metadata": {
        "id": "c6c40bb3"
      },
      "source": [
        "### Testandmete töötlus\n",
        "Kuidas teisendatakse sel juhul testandmeid? Kui võtame testhulga ja treeninghulga, siis mis oleksid pärast sarnase töötluse kordamist nende kahe DataFrame'i mõõtmed?"
      ]
    },
    {
      "cell_type": "code",
      "execution_count": null,
      "id": "f03b05aa",
      "metadata": {
        "id": "f03b05aa"
      },
      "outputs": [],
      "source": [
        "# Loeme andmed uuesti sisse, jaotame test- ja treeninghulgaks\n",
        "autod2 = pd.read_csv(failinimi, delimiter=';')\n",
        "train2 = autod2[50:]\n",
        "test2 = autod2[:50]"
      ]
    },
    {
      "cell_type": "code",
      "execution_count": null,
      "id": "3f0c05f8",
      "metadata": {
        "colab": {
          "base_uri": "https://localhost:8080/"
        },
        "id": "3f0c05f8",
        "outputId": "57cccb7b-0b87-4d99-8cc0-195e9b34cb6e"
      },
      "outputs": [
        {
          "output_type": "stream",
          "name": "stdout",
          "text": [
            "Tervel andmestikul saadud 1-hot vektorid (398, 33)\n",
            "Treeningandmestikul saadud 1-hot vektorid (348, 32)\n",
            "Testandmestikul saadud 1-hot vektorid (50, 17)\n"
          ]
        }
      ],
      "source": [
        "onehot_train = pd.get_dummies(train2['brand'])\n",
        "onehot_test = pd.get_dummies(test2['brand'])\n",
        "print(\"Tervel andmestikul saadud 1-hot vektorid\",onehot.shape)\n",
        "print(\"Treeningandmestikul saadud 1-hot vektorid\",onehot_train.shape)\n",
        "print(\"Testandmestikul saadud 1-hot vektorid\",onehot_test.shape)\n"
      ]
    },
    {
      "cell_type": "code",
      "execution_count": null,
      "id": "94b7fa9b",
      "metadata": {
        "colab": {
          "base_uri": "https://localhost:8080/",
          "height": 206
        },
        "id": "94b7fa9b",
        "outputId": "96ac1210-75cd-4bd4-e24e-c7cd5ecfade6"
      },
      "outputs": [
        {
          "output_type": "execute_result",
          "data": {
            "text/plain": [
              "    mpg  cylinders  horsepower  weight  acceleration  \\\n",
              "0  18.0        8.0       130.0    3504          12.0   \n",
              "1  15.0        8.0       165.0    3693          11.5   \n",
              "2  18.0        8.0       150.0    3436          11.0   \n",
              "3  16.0        8.0       150.0    3433          12.0   \n",
              "4  17.0        8.0       140.0    3449          10.5   \n",
              "\n",
              "                        name      brand  \n",
              "0  chevrolet chevelle malibu  chevrolet  \n",
              "1          buick skylark 320      buick  \n",
              "2         plymouth satellite   plymouth  \n",
              "3              amc rebel sst        amc  \n",
              "4                ford torino       ford  "
            ],
            "text/html": [
              "\n",
              "  <div id=\"df-8082a98c-98a5-4a90-ab50-40b79288f13a\">\n",
              "    <div class=\"colab-df-container\">\n",
              "      <div>\n",
              "<style scoped>\n",
              "    .dataframe tbody tr th:only-of-type {\n",
              "        vertical-align: middle;\n",
              "    }\n",
              "\n",
              "    .dataframe tbody tr th {\n",
              "        vertical-align: top;\n",
              "    }\n",
              "\n",
              "    .dataframe thead th {\n",
              "        text-align: right;\n",
              "    }\n",
              "</style>\n",
              "<table border=\"1\" class=\"dataframe\">\n",
              "  <thead>\n",
              "    <tr style=\"text-align: right;\">\n",
              "      <th></th>\n",
              "      <th>mpg</th>\n",
              "      <th>cylinders</th>\n",
              "      <th>horsepower</th>\n",
              "      <th>weight</th>\n",
              "      <th>acceleration</th>\n",
              "      <th>name</th>\n",
              "      <th>brand</th>\n",
              "    </tr>\n",
              "  </thead>\n",
              "  <tbody>\n",
              "    <tr>\n",
              "      <th>0</th>\n",
              "      <td>18.0</td>\n",
              "      <td>8.0</td>\n",
              "      <td>130.0</td>\n",
              "      <td>3504</td>\n",
              "      <td>12.0</td>\n",
              "      <td>chevrolet chevelle malibu</td>\n",
              "      <td>chevrolet</td>\n",
              "    </tr>\n",
              "    <tr>\n",
              "      <th>1</th>\n",
              "      <td>15.0</td>\n",
              "      <td>8.0</td>\n",
              "      <td>165.0</td>\n",
              "      <td>3693</td>\n",
              "      <td>11.5</td>\n",
              "      <td>buick skylark 320</td>\n",
              "      <td>buick</td>\n",
              "    </tr>\n",
              "    <tr>\n",
              "      <th>2</th>\n",
              "      <td>18.0</td>\n",
              "      <td>8.0</td>\n",
              "      <td>150.0</td>\n",
              "      <td>3436</td>\n",
              "      <td>11.0</td>\n",
              "      <td>plymouth satellite</td>\n",
              "      <td>plymouth</td>\n",
              "    </tr>\n",
              "    <tr>\n",
              "      <th>3</th>\n",
              "      <td>16.0</td>\n",
              "      <td>8.0</td>\n",
              "      <td>150.0</td>\n",
              "      <td>3433</td>\n",
              "      <td>12.0</td>\n",
              "      <td>amc rebel sst</td>\n",
              "      <td>amc</td>\n",
              "    </tr>\n",
              "    <tr>\n",
              "      <th>4</th>\n",
              "      <td>17.0</td>\n",
              "      <td>8.0</td>\n",
              "      <td>140.0</td>\n",
              "      <td>3449</td>\n",
              "      <td>10.5</td>\n",
              "      <td>ford torino</td>\n",
              "      <td>ford</td>\n",
              "    </tr>\n",
              "  </tbody>\n",
              "</table>\n",
              "</div>\n",
              "      <button class=\"colab-df-convert\" onclick=\"convertToInteractive('df-8082a98c-98a5-4a90-ab50-40b79288f13a')\"\n",
              "              title=\"Convert this dataframe to an interactive table.\"\n",
              "              style=\"display:none;\">\n",
              "        \n",
              "  <svg xmlns=\"http://www.w3.org/2000/svg\" height=\"24px\"viewBox=\"0 0 24 24\"\n",
              "       width=\"24px\">\n",
              "    <path d=\"M0 0h24v24H0V0z\" fill=\"none\"/>\n",
              "    <path d=\"M18.56 5.44l.94 2.06.94-2.06 2.06-.94-2.06-.94-.94-2.06-.94 2.06-2.06.94zm-11 1L8.5 8.5l.94-2.06 2.06-.94-2.06-.94L8.5 2.5l-.94 2.06-2.06.94zm10 10l.94 2.06.94-2.06 2.06-.94-2.06-.94-.94-2.06-.94 2.06-2.06.94z\"/><path d=\"M17.41 7.96l-1.37-1.37c-.4-.4-.92-.59-1.43-.59-.52 0-1.04.2-1.43.59L10.3 9.45l-7.72 7.72c-.78.78-.78 2.05 0 2.83L4 21.41c.39.39.9.59 1.41.59.51 0 1.02-.2 1.41-.59l7.78-7.78 2.81-2.81c.8-.78.8-2.07 0-2.86zM5.41 20L4 18.59l7.72-7.72 1.47 1.35L5.41 20z\"/>\n",
              "  </svg>\n",
              "      </button>\n",
              "      \n",
              "  <style>\n",
              "    .colab-df-container {\n",
              "      display:flex;\n",
              "      flex-wrap:wrap;\n",
              "      gap: 12px;\n",
              "    }\n",
              "\n",
              "    .colab-df-convert {\n",
              "      background-color: #E8F0FE;\n",
              "      border: none;\n",
              "      border-radius: 50%;\n",
              "      cursor: pointer;\n",
              "      display: none;\n",
              "      fill: #1967D2;\n",
              "      height: 32px;\n",
              "      padding: 0 0 0 0;\n",
              "      width: 32px;\n",
              "    }\n",
              "\n",
              "    .colab-df-convert:hover {\n",
              "      background-color: #E2EBFA;\n",
              "      box-shadow: 0px 1px 2px rgba(60, 64, 67, 0.3), 0px 1px 3px 1px rgba(60, 64, 67, 0.15);\n",
              "      fill: #174EA6;\n",
              "    }\n",
              "\n",
              "    [theme=dark] .colab-df-convert {\n",
              "      background-color: #3B4455;\n",
              "      fill: #D2E3FC;\n",
              "    }\n",
              "\n",
              "    [theme=dark] .colab-df-convert:hover {\n",
              "      background-color: #434B5C;\n",
              "      box-shadow: 0px 1px 3px 1px rgba(0, 0, 0, 0.15);\n",
              "      filter: drop-shadow(0px 1px 2px rgba(0, 0, 0, 0.3));\n",
              "      fill: #FFFFFF;\n",
              "    }\n",
              "  </style>\n",
              "\n",
              "      <script>\n",
              "        const buttonEl =\n",
              "          document.querySelector('#df-8082a98c-98a5-4a90-ab50-40b79288f13a button.colab-df-convert');\n",
              "        buttonEl.style.display =\n",
              "          google.colab.kernel.accessAllowed ? 'block' : 'none';\n",
              "\n",
              "        async function convertToInteractive(key) {\n",
              "          const element = document.querySelector('#df-8082a98c-98a5-4a90-ab50-40b79288f13a');\n",
              "          const dataTable =\n",
              "            await google.colab.kernel.invokeFunction('convertToInteractive',\n",
              "                                                     [key], {});\n",
              "          if (!dataTable) return;\n",
              "\n",
              "          const docLinkHtml = 'Like what you see? Visit the ' +\n",
              "            '<a target=\"_blank\" href=https://colab.research.google.com/notebooks/data_table.ipynb>data table notebook</a>'\n",
              "            + ' to learn more about interactive tables.';\n",
              "          element.innerHTML = '';\n",
              "          dataTable['output_type'] = 'display_data';\n",
              "          await google.colab.output.renderOutput(dataTable, element);\n",
              "          const docLink = document.createElement('div');\n",
              "          docLink.innerHTML = docLinkHtml;\n",
              "          element.appendChild(docLink);\n",
              "        }\n",
              "      </script>\n",
              "    </div>\n",
              "  </div>\n",
              "  "
            ]
          },
          "metadata": {},
          "execution_count": 84
        }
      ],
      "source": [
        "test[:5]"
      ]
    },
    {
      "cell_type": "markdown",
      "id": "4ff00957",
      "metadata": {
        "id": "4ff00957"
      },
      "source": [
        "## Ülesanne 3\n",
        "\n",
        "Teisendame onehot_testi selliseks, et tal oleks sama palju tulpi kui treeningandmetel (ja sama sisuga). Selleks tuleb  \n",
        "1) visata välja tulbad, mida pole vaja  \n",
        "2) lisada tulbad, mis on puudu - mis peaks siin olema puuduva väärtuse puhul?"
      ]
    },
    {
      "cell_type": "code",
      "execution_count": null,
      "id": "3f5e00ac",
      "metadata": {
        "colab": {
          "base_uri": "https://localhost:8080/"
        },
        "id": "3f5e00ac",
        "outputId": "171b5e3b-3826-4801-d52f-a4ae6e1fbc2b"
      },
      "outputs": [
        {
          "output_type": "stream",
          "name": "stdout",
          "text": [
            "['amc', 'audi', 'bmw', 'buick', 'cadillac', 'capri', 'chevrolet', 'chevy', 'chrysler', 'datsun', 'dodge', 'fiat', 'ford', 'honda', 'mazda', 'mercedes', 'mercedes-benz', 'mercury', 'nissan', 'oldsmobile', 'opel', 'peugeot', 'plymouth', 'pontiac', 'renault', 'saab', 'subaru', 'toyota', 'triumph', 'volkswagen', 'volvo', 'vw']\n",
            "['amc', 'audi', 'bmw', 'buick', 'chevrolet', 'chevy', 'datsun', 'dodge', 'ford', 'hi', 'mercury', 'peugeot', 'plymouth', 'pontiac', 'saab', 'toyota', 'volkswagen']\n"
          ]
        }
      ],
      "source": [
        "# mis tunnused on olemas treening- ja testhulgas\n",
        "traintunnused = [i for i in onehot_train]\n",
        "testtunnused = [i for i in onehot_test]\n",
        "\n",
        "# Meie uus testhulk, kus on õiged onehot-tulbad juures\n",
        "uus_onehot_test = pd.DataFrame()\n",
        "\n",
        "print(traintunnused)\n",
        "print(testtunnused)\n",
        "\n",
        "#####\n",
        "## TODO\n",
        "#####\n",
        "for tunnus in traintunnused:\n",
        "    if tunnus in testtunnused:\n",
        "        uus_onehot_test[tunnus] = onehot_test[tunnus]\n",
        "    else:\n",
        "        uus_onehot_test[tunnus] = 0"
      ]
    },
    {
      "cell_type": "code",
      "source": [
        "uus_onehot_test.describe()"
      ],
      "metadata": {
        "colab": {
          "base_uri": "https://localhost:8080/",
          "height": 394
        },
        "id": "jnPjyF9-td65",
        "outputId": "dba28a74-d882-436a-dccc-896fa1eaa398"
      },
      "id": "jnPjyF9-td65",
      "execution_count": null,
      "outputs": [
        {
          "output_type": "execute_result",
          "data": {
            "text/plain": [
              "            amc       audi        bmw      buick  cadillac  capri  chevrolet  \\\n",
              "count  50.00000  50.000000  50.000000  50.000000      50.0   50.0   50.00000   \n",
              "mean    0.14000   0.020000   0.020000   0.040000       0.0    0.0    0.14000   \n",
              "std     0.35051   0.141421   0.141421   0.197949       0.0    0.0    0.35051   \n",
              "min     0.00000   0.000000   0.000000   0.000000       0.0    0.0    0.00000   \n",
              "25%     0.00000   0.000000   0.000000   0.000000       0.0    0.0    0.00000   \n",
              "50%     0.00000   0.000000   0.000000   0.000000       0.0    0.0    0.00000   \n",
              "75%     0.00000   0.000000   0.000000   0.000000       0.0    0.0    0.00000   \n",
              "max     1.00000   1.000000   1.000000   1.000000       0.0    0.0    1.00000   \n",
              "\n",
              "           chevy  chrysler     datsun  ...   plymouth    pontiac  renault  \\\n",
              "count  50.000000      50.0  50.000000  ...  50.000000  50.000000     50.0   \n",
              "mean    0.020000       0.0   0.040000  ...   0.120000   0.080000      0.0   \n",
              "std     0.141421       0.0   0.197949  ...   0.328261   0.274048      0.0   \n",
              "min     0.000000       0.0   0.000000  ...   0.000000   0.000000      0.0   \n",
              "25%     0.000000       0.0   0.000000  ...   0.000000   0.000000      0.0   \n",
              "50%     0.000000       0.0   0.000000  ...   0.000000   0.000000      0.0   \n",
              "75%     0.000000       0.0   0.000000  ...   0.000000   0.000000      0.0   \n",
              "max     1.000000       0.0   1.000000  ...   1.000000   1.000000      0.0   \n",
              "\n",
              "            saab  subaru     toyota  triumph  volkswagen  volvo    vw  \n",
              "count  50.000000    50.0  50.000000     50.0   50.000000   50.0  50.0  \n",
              "mean    0.020000     0.0   0.040000      0.0    0.020000    0.0   0.0  \n",
              "std     0.141421     0.0   0.197949      0.0    0.141421    0.0   0.0  \n",
              "min     0.000000     0.0   0.000000      0.0    0.000000    0.0   0.0  \n",
              "25%     0.000000     0.0   0.000000      0.0    0.000000    0.0   0.0  \n",
              "50%     0.000000     0.0   0.000000      0.0    0.000000    0.0   0.0  \n",
              "75%     0.000000     0.0   0.000000      0.0    0.000000    0.0   0.0  \n",
              "max     1.000000     0.0   1.000000      0.0    1.000000    0.0   0.0  \n",
              "\n",
              "[8 rows x 32 columns]"
            ],
            "text/html": [
              "\n",
              "  <div id=\"df-cf332409-1c7e-4a97-b2c3-62c3f6866e05\">\n",
              "    <div class=\"colab-df-container\">\n",
              "      <div>\n",
              "<style scoped>\n",
              "    .dataframe tbody tr th:only-of-type {\n",
              "        vertical-align: middle;\n",
              "    }\n",
              "\n",
              "    .dataframe tbody tr th {\n",
              "        vertical-align: top;\n",
              "    }\n",
              "\n",
              "    .dataframe thead th {\n",
              "        text-align: right;\n",
              "    }\n",
              "</style>\n",
              "<table border=\"1\" class=\"dataframe\">\n",
              "  <thead>\n",
              "    <tr style=\"text-align: right;\">\n",
              "      <th></th>\n",
              "      <th>amc</th>\n",
              "      <th>audi</th>\n",
              "      <th>bmw</th>\n",
              "      <th>buick</th>\n",
              "      <th>cadillac</th>\n",
              "      <th>capri</th>\n",
              "      <th>chevrolet</th>\n",
              "      <th>chevy</th>\n",
              "      <th>chrysler</th>\n",
              "      <th>datsun</th>\n",
              "      <th>...</th>\n",
              "      <th>plymouth</th>\n",
              "      <th>pontiac</th>\n",
              "      <th>renault</th>\n",
              "      <th>saab</th>\n",
              "      <th>subaru</th>\n",
              "      <th>toyota</th>\n",
              "      <th>triumph</th>\n",
              "      <th>volkswagen</th>\n",
              "      <th>volvo</th>\n",
              "      <th>vw</th>\n",
              "    </tr>\n",
              "  </thead>\n",
              "  <tbody>\n",
              "    <tr>\n",
              "      <th>count</th>\n",
              "      <td>50.00000</td>\n",
              "      <td>50.000000</td>\n",
              "      <td>50.000000</td>\n",
              "      <td>50.000000</td>\n",
              "      <td>50.0</td>\n",
              "      <td>50.0</td>\n",
              "      <td>50.00000</td>\n",
              "      <td>50.000000</td>\n",
              "      <td>50.0</td>\n",
              "      <td>50.000000</td>\n",
              "      <td>...</td>\n",
              "      <td>50.000000</td>\n",
              "      <td>50.000000</td>\n",
              "      <td>50.0</td>\n",
              "      <td>50.000000</td>\n",
              "      <td>50.0</td>\n",
              "      <td>50.000000</td>\n",
              "      <td>50.0</td>\n",
              "      <td>50.000000</td>\n",
              "      <td>50.0</td>\n",
              "      <td>50.0</td>\n",
              "    </tr>\n",
              "    <tr>\n",
              "      <th>mean</th>\n",
              "      <td>0.14000</td>\n",
              "      <td>0.020000</td>\n",
              "      <td>0.020000</td>\n",
              "      <td>0.040000</td>\n",
              "      <td>0.0</td>\n",
              "      <td>0.0</td>\n",
              "      <td>0.14000</td>\n",
              "      <td>0.020000</td>\n",
              "      <td>0.0</td>\n",
              "      <td>0.040000</td>\n",
              "      <td>...</td>\n",
              "      <td>0.120000</td>\n",
              "      <td>0.080000</td>\n",
              "      <td>0.0</td>\n",
              "      <td>0.020000</td>\n",
              "      <td>0.0</td>\n",
              "      <td>0.040000</td>\n",
              "      <td>0.0</td>\n",
              "      <td>0.020000</td>\n",
              "      <td>0.0</td>\n",
              "      <td>0.0</td>\n",
              "    </tr>\n",
              "    <tr>\n",
              "      <th>std</th>\n",
              "      <td>0.35051</td>\n",
              "      <td>0.141421</td>\n",
              "      <td>0.141421</td>\n",
              "      <td>0.197949</td>\n",
              "      <td>0.0</td>\n",
              "      <td>0.0</td>\n",
              "      <td>0.35051</td>\n",
              "      <td>0.141421</td>\n",
              "      <td>0.0</td>\n",
              "      <td>0.197949</td>\n",
              "      <td>...</td>\n",
              "      <td>0.328261</td>\n",
              "      <td>0.274048</td>\n",
              "      <td>0.0</td>\n",
              "      <td>0.141421</td>\n",
              "      <td>0.0</td>\n",
              "      <td>0.197949</td>\n",
              "      <td>0.0</td>\n",
              "      <td>0.141421</td>\n",
              "      <td>0.0</td>\n",
              "      <td>0.0</td>\n",
              "    </tr>\n",
              "    <tr>\n",
              "      <th>min</th>\n",
              "      <td>0.00000</td>\n",
              "      <td>0.000000</td>\n",
              "      <td>0.000000</td>\n",
              "      <td>0.000000</td>\n",
              "      <td>0.0</td>\n",
              "      <td>0.0</td>\n",
              "      <td>0.00000</td>\n",
              "      <td>0.000000</td>\n",
              "      <td>0.0</td>\n",
              "      <td>0.000000</td>\n",
              "      <td>...</td>\n",
              "      <td>0.000000</td>\n",
              "      <td>0.000000</td>\n",
              "      <td>0.0</td>\n",
              "      <td>0.000000</td>\n",
              "      <td>0.0</td>\n",
              "      <td>0.000000</td>\n",
              "      <td>0.0</td>\n",
              "      <td>0.000000</td>\n",
              "      <td>0.0</td>\n",
              "      <td>0.0</td>\n",
              "    </tr>\n",
              "    <tr>\n",
              "      <th>25%</th>\n",
              "      <td>0.00000</td>\n",
              "      <td>0.000000</td>\n",
              "      <td>0.000000</td>\n",
              "      <td>0.000000</td>\n",
              "      <td>0.0</td>\n",
              "      <td>0.0</td>\n",
              "      <td>0.00000</td>\n",
              "      <td>0.000000</td>\n",
              "      <td>0.0</td>\n",
              "      <td>0.000000</td>\n",
              "      <td>...</td>\n",
              "      <td>0.000000</td>\n",
              "      <td>0.000000</td>\n",
              "      <td>0.0</td>\n",
              "      <td>0.000000</td>\n",
              "      <td>0.0</td>\n",
              "      <td>0.000000</td>\n",
              "      <td>0.0</td>\n",
              "      <td>0.000000</td>\n",
              "      <td>0.0</td>\n",
              "      <td>0.0</td>\n",
              "    </tr>\n",
              "    <tr>\n",
              "      <th>50%</th>\n",
              "      <td>0.00000</td>\n",
              "      <td>0.000000</td>\n",
              "      <td>0.000000</td>\n",
              "      <td>0.000000</td>\n",
              "      <td>0.0</td>\n",
              "      <td>0.0</td>\n",
              "      <td>0.00000</td>\n",
              "      <td>0.000000</td>\n",
              "      <td>0.0</td>\n",
              "      <td>0.000000</td>\n",
              "      <td>...</td>\n",
              "      <td>0.000000</td>\n",
              "      <td>0.000000</td>\n",
              "      <td>0.0</td>\n",
              "      <td>0.000000</td>\n",
              "      <td>0.0</td>\n",
              "      <td>0.000000</td>\n",
              "      <td>0.0</td>\n",
              "      <td>0.000000</td>\n",
              "      <td>0.0</td>\n",
              "      <td>0.0</td>\n",
              "    </tr>\n",
              "    <tr>\n",
              "      <th>75%</th>\n",
              "      <td>0.00000</td>\n",
              "      <td>0.000000</td>\n",
              "      <td>0.000000</td>\n",
              "      <td>0.000000</td>\n",
              "      <td>0.0</td>\n",
              "      <td>0.0</td>\n",
              "      <td>0.00000</td>\n",
              "      <td>0.000000</td>\n",
              "      <td>0.0</td>\n",
              "      <td>0.000000</td>\n",
              "      <td>...</td>\n",
              "      <td>0.000000</td>\n",
              "      <td>0.000000</td>\n",
              "      <td>0.0</td>\n",
              "      <td>0.000000</td>\n",
              "      <td>0.0</td>\n",
              "      <td>0.000000</td>\n",
              "      <td>0.0</td>\n",
              "      <td>0.000000</td>\n",
              "      <td>0.0</td>\n",
              "      <td>0.0</td>\n",
              "    </tr>\n",
              "    <tr>\n",
              "      <th>max</th>\n",
              "      <td>1.00000</td>\n",
              "      <td>1.000000</td>\n",
              "      <td>1.000000</td>\n",
              "      <td>1.000000</td>\n",
              "      <td>0.0</td>\n",
              "      <td>0.0</td>\n",
              "      <td>1.00000</td>\n",
              "      <td>1.000000</td>\n",
              "      <td>0.0</td>\n",
              "      <td>1.000000</td>\n",
              "      <td>...</td>\n",
              "      <td>1.000000</td>\n",
              "      <td>1.000000</td>\n",
              "      <td>0.0</td>\n",
              "      <td>1.000000</td>\n",
              "      <td>0.0</td>\n",
              "      <td>1.000000</td>\n",
              "      <td>0.0</td>\n",
              "      <td>1.000000</td>\n",
              "      <td>0.0</td>\n",
              "      <td>0.0</td>\n",
              "    </tr>\n",
              "  </tbody>\n",
              "</table>\n",
              "<p>8 rows × 32 columns</p>\n",
              "</div>\n",
              "      <button class=\"colab-df-convert\" onclick=\"convertToInteractive('df-cf332409-1c7e-4a97-b2c3-62c3f6866e05')\"\n",
              "              title=\"Convert this dataframe to an interactive table.\"\n",
              "              style=\"display:none;\">\n",
              "        \n",
              "  <svg xmlns=\"http://www.w3.org/2000/svg\" height=\"24px\"viewBox=\"0 0 24 24\"\n",
              "       width=\"24px\">\n",
              "    <path d=\"M0 0h24v24H0V0z\" fill=\"none\"/>\n",
              "    <path d=\"M18.56 5.44l.94 2.06.94-2.06 2.06-.94-2.06-.94-.94-2.06-.94 2.06-2.06.94zm-11 1L8.5 8.5l.94-2.06 2.06-.94-2.06-.94L8.5 2.5l-.94 2.06-2.06.94zm10 10l.94 2.06.94-2.06 2.06-.94-2.06-.94-.94-2.06-.94 2.06-2.06.94z\"/><path d=\"M17.41 7.96l-1.37-1.37c-.4-.4-.92-.59-1.43-.59-.52 0-1.04.2-1.43.59L10.3 9.45l-7.72 7.72c-.78.78-.78 2.05 0 2.83L4 21.41c.39.39.9.59 1.41.59.51 0 1.02-.2 1.41-.59l7.78-7.78 2.81-2.81c.8-.78.8-2.07 0-2.86zM5.41 20L4 18.59l7.72-7.72 1.47 1.35L5.41 20z\"/>\n",
              "  </svg>\n",
              "      </button>\n",
              "      \n",
              "  <style>\n",
              "    .colab-df-container {\n",
              "      display:flex;\n",
              "      flex-wrap:wrap;\n",
              "      gap: 12px;\n",
              "    }\n",
              "\n",
              "    .colab-df-convert {\n",
              "      background-color: #E8F0FE;\n",
              "      border: none;\n",
              "      border-radius: 50%;\n",
              "      cursor: pointer;\n",
              "      display: none;\n",
              "      fill: #1967D2;\n",
              "      height: 32px;\n",
              "      padding: 0 0 0 0;\n",
              "      width: 32px;\n",
              "    }\n",
              "\n",
              "    .colab-df-convert:hover {\n",
              "      background-color: #E2EBFA;\n",
              "      box-shadow: 0px 1px 2px rgba(60, 64, 67, 0.3), 0px 1px 3px 1px rgba(60, 64, 67, 0.15);\n",
              "      fill: #174EA6;\n",
              "    }\n",
              "\n",
              "    [theme=dark] .colab-df-convert {\n",
              "      background-color: #3B4455;\n",
              "      fill: #D2E3FC;\n",
              "    }\n",
              "\n",
              "    [theme=dark] .colab-df-convert:hover {\n",
              "      background-color: #434B5C;\n",
              "      box-shadow: 0px 1px 3px 1px rgba(0, 0, 0, 0.15);\n",
              "      filter: drop-shadow(0px 1px 2px rgba(0, 0, 0, 0.3));\n",
              "      fill: #FFFFFF;\n",
              "    }\n",
              "  </style>\n",
              "\n",
              "      <script>\n",
              "        const buttonEl =\n",
              "          document.querySelector('#df-cf332409-1c7e-4a97-b2c3-62c3f6866e05 button.colab-df-convert');\n",
              "        buttonEl.style.display =\n",
              "          google.colab.kernel.accessAllowed ? 'block' : 'none';\n",
              "\n",
              "        async function convertToInteractive(key) {\n",
              "          const element = document.querySelector('#df-cf332409-1c7e-4a97-b2c3-62c3f6866e05');\n",
              "          const dataTable =\n",
              "            await google.colab.kernel.invokeFunction('convertToInteractive',\n",
              "                                                     [key], {});\n",
              "          if (!dataTable) return;\n",
              "\n",
              "          const docLinkHtml = 'Like what you see? Visit the ' +\n",
              "            '<a target=\"_blank\" href=https://colab.research.google.com/notebooks/data_table.ipynb>data table notebook</a>'\n",
              "            + ' to learn more about interactive tables.';\n",
              "          element.innerHTML = '';\n",
              "          dataTable['output_type'] = 'display_data';\n",
              "          await google.colab.output.renderOutput(dataTable, element);\n",
              "          const docLink = document.createElement('div');\n",
              "          docLink.innerHTML = docLinkHtml;\n",
              "          element.appendChild(docLink);\n",
              "        }\n",
              "      </script>\n",
              "    </div>\n",
              "  </div>\n",
              "  "
            ]
          },
          "metadata": {},
          "execution_count": 89
        }
      ]
    },
    {
      "cell_type": "code",
      "execution_count": null,
      "id": "fca315cb",
      "metadata": {
        "colab": {
          "base_uri": "https://localhost:8080/"
        },
        "id": "fca315cb",
        "outputId": "4c2132d9-688a-4560-abf1-c3ca7653e81e"
      },
      "outputs": [
        {
          "output_type": "execute_result",
          "data": {
            "text/plain": [
              "amc              0\n",
              "audi             0\n",
              "bmw              0\n",
              "buick            0\n",
              "cadillac         0\n",
              "capri            0\n",
              "chevrolet        0\n",
              "chevy            0\n",
              "chrysler         0\n",
              "datsun           0\n",
              "dodge            0\n",
              "fiat             0\n",
              "ford             0\n",
              "honda            0\n",
              "mazda            0\n",
              "mercedes         0\n",
              "mercedes-benz    0\n",
              "mercury          0\n",
              "nissan           0\n",
              "oldsmobile       0\n",
              "opel             0\n",
              "peugeot          1\n",
              "plymouth         0\n",
              "pontiac          0\n",
              "renault          0\n",
              "saab             0\n",
              "subaru           0\n",
              "toyota           0\n",
              "triumph          0\n",
              "volkswagen       0\n",
              "volvo            0\n",
              "vw               0\n",
              "Name: 20, dtype: int64"
            ]
          },
          "metadata": {},
          "execution_count": 90
        }
      ],
      "source": [
        "# Vaatame ühte kirjet\n",
        "uus_onehot_test.loc[20]\n",
        "\n",
        "#NB! Ühel juhul kaotame ära tulpade järjestuse\n",
        "#    (mis pole oluline seni, kuni oleme DataFrame'i kujul)"
      ]
    },
    {
      "cell_type": "markdown",
      "id": "db0966f1",
      "metadata": {
        "id": "db0966f1"
      },
      "source": [
        "Ja muidugi saab kasutada näiteks Scikit-learni vahendit [OneHotEncoder](https://scikit-learn.org/stable/modules/generated/sklearn.preprocessing.OneHotEncoder.html)."
      ]
    },
    {
      "cell_type": "code",
      "execution_count": null,
      "id": "0c91b1b8",
      "metadata": {
        "colab": {
          "base_uri": "https://localhost:8080/",
          "height": 206
        },
        "id": "0c91b1b8",
        "outputId": "00d12363-2cf1-4ce7-eca0-a1bf3d943b42"
      },
      "outputs": [
        {
          "output_type": "execute_result",
          "data": {
            "text/plain": [
              "     mpg  cylinders  horsepower  weight  acceleration                 name  \\\n",
              "50  28.0        NaN        90.0    2123          14.0            opel 1900   \n",
              "51  30.0        4.0        70.0    2074          19.5          peugeot 304   \n",
              "52  30.0        4.0        76.0    2065          14.5            fiat 124b   \n",
              "53  31.0        4.0        65.0    1773          19.0  toyota corolla 1200   \n",
              "54  35.0        4.0        69.0    1613          18.0          datsun 1200   \n",
              "\n",
              "      brand  \n",
              "50     opel  \n",
              "51  peugeot  \n",
              "52     fiat  \n",
              "53   toyota  \n",
              "54   datsun  "
            ],
            "text/html": [
              "\n",
              "  <div id=\"df-7cbe07cf-38e8-463a-b698-ae14fea44ca1\">\n",
              "    <div class=\"colab-df-container\">\n",
              "      <div>\n",
              "<style scoped>\n",
              "    .dataframe tbody tr th:only-of-type {\n",
              "        vertical-align: middle;\n",
              "    }\n",
              "\n",
              "    .dataframe tbody tr th {\n",
              "        vertical-align: top;\n",
              "    }\n",
              "\n",
              "    .dataframe thead th {\n",
              "        text-align: right;\n",
              "    }\n",
              "</style>\n",
              "<table border=\"1\" class=\"dataframe\">\n",
              "  <thead>\n",
              "    <tr style=\"text-align: right;\">\n",
              "      <th></th>\n",
              "      <th>mpg</th>\n",
              "      <th>cylinders</th>\n",
              "      <th>horsepower</th>\n",
              "      <th>weight</th>\n",
              "      <th>acceleration</th>\n",
              "      <th>name</th>\n",
              "      <th>brand</th>\n",
              "    </tr>\n",
              "  </thead>\n",
              "  <tbody>\n",
              "    <tr>\n",
              "      <th>50</th>\n",
              "      <td>28.0</td>\n",
              "      <td>NaN</td>\n",
              "      <td>90.0</td>\n",
              "      <td>2123</td>\n",
              "      <td>14.0</td>\n",
              "      <td>opel 1900</td>\n",
              "      <td>opel</td>\n",
              "    </tr>\n",
              "    <tr>\n",
              "      <th>51</th>\n",
              "      <td>30.0</td>\n",
              "      <td>4.0</td>\n",
              "      <td>70.0</td>\n",
              "      <td>2074</td>\n",
              "      <td>19.5</td>\n",
              "      <td>peugeot 304</td>\n",
              "      <td>peugeot</td>\n",
              "    </tr>\n",
              "    <tr>\n",
              "      <th>52</th>\n",
              "      <td>30.0</td>\n",
              "      <td>4.0</td>\n",
              "      <td>76.0</td>\n",
              "      <td>2065</td>\n",
              "      <td>14.5</td>\n",
              "      <td>fiat 124b</td>\n",
              "      <td>fiat</td>\n",
              "    </tr>\n",
              "    <tr>\n",
              "      <th>53</th>\n",
              "      <td>31.0</td>\n",
              "      <td>4.0</td>\n",
              "      <td>65.0</td>\n",
              "      <td>1773</td>\n",
              "      <td>19.0</td>\n",
              "      <td>toyota corolla 1200</td>\n",
              "      <td>toyota</td>\n",
              "    </tr>\n",
              "    <tr>\n",
              "      <th>54</th>\n",
              "      <td>35.0</td>\n",
              "      <td>4.0</td>\n",
              "      <td>69.0</td>\n",
              "      <td>1613</td>\n",
              "      <td>18.0</td>\n",
              "      <td>datsun 1200</td>\n",
              "      <td>datsun</td>\n",
              "    </tr>\n",
              "  </tbody>\n",
              "</table>\n",
              "</div>\n",
              "      <button class=\"colab-df-convert\" onclick=\"convertToInteractive('df-7cbe07cf-38e8-463a-b698-ae14fea44ca1')\"\n",
              "              title=\"Convert this dataframe to an interactive table.\"\n",
              "              style=\"display:none;\">\n",
              "        \n",
              "  <svg xmlns=\"http://www.w3.org/2000/svg\" height=\"24px\"viewBox=\"0 0 24 24\"\n",
              "       width=\"24px\">\n",
              "    <path d=\"M0 0h24v24H0V0z\" fill=\"none\"/>\n",
              "    <path d=\"M18.56 5.44l.94 2.06.94-2.06 2.06-.94-2.06-.94-.94-2.06-.94 2.06-2.06.94zm-11 1L8.5 8.5l.94-2.06 2.06-.94-2.06-.94L8.5 2.5l-.94 2.06-2.06.94zm10 10l.94 2.06.94-2.06 2.06-.94-2.06-.94-.94-2.06-.94 2.06-2.06.94z\"/><path d=\"M17.41 7.96l-1.37-1.37c-.4-.4-.92-.59-1.43-.59-.52 0-1.04.2-1.43.59L10.3 9.45l-7.72 7.72c-.78.78-.78 2.05 0 2.83L4 21.41c.39.39.9.59 1.41.59.51 0 1.02-.2 1.41-.59l7.78-7.78 2.81-2.81c.8-.78.8-2.07 0-2.86zM5.41 20L4 18.59l7.72-7.72 1.47 1.35L5.41 20z\"/>\n",
              "  </svg>\n",
              "      </button>\n",
              "      \n",
              "  <style>\n",
              "    .colab-df-container {\n",
              "      display:flex;\n",
              "      flex-wrap:wrap;\n",
              "      gap: 12px;\n",
              "    }\n",
              "\n",
              "    .colab-df-convert {\n",
              "      background-color: #E8F0FE;\n",
              "      border: none;\n",
              "      border-radius: 50%;\n",
              "      cursor: pointer;\n",
              "      display: none;\n",
              "      fill: #1967D2;\n",
              "      height: 32px;\n",
              "      padding: 0 0 0 0;\n",
              "      width: 32px;\n",
              "    }\n",
              "\n",
              "    .colab-df-convert:hover {\n",
              "      background-color: #E2EBFA;\n",
              "      box-shadow: 0px 1px 2px rgba(60, 64, 67, 0.3), 0px 1px 3px 1px rgba(60, 64, 67, 0.15);\n",
              "      fill: #174EA6;\n",
              "    }\n",
              "\n",
              "    [theme=dark] .colab-df-convert {\n",
              "      background-color: #3B4455;\n",
              "      fill: #D2E3FC;\n",
              "    }\n",
              "\n",
              "    [theme=dark] .colab-df-convert:hover {\n",
              "      background-color: #434B5C;\n",
              "      box-shadow: 0px 1px 3px 1px rgba(0, 0, 0, 0.15);\n",
              "      filter: drop-shadow(0px 1px 2px rgba(0, 0, 0, 0.3));\n",
              "      fill: #FFFFFF;\n",
              "    }\n",
              "  </style>\n",
              "\n",
              "      <script>\n",
              "        const buttonEl =\n",
              "          document.querySelector('#df-7cbe07cf-38e8-463a-b698-ae14fea44ca1 button.colab-df-convert');\n",
              "        buttonEl.style.display =\n",
              "          google.colab.kernel.accessAllowed ? 'block' : 'none';\n",
              "\n",
              "        async function convertToInteractive(key) {\n",
              "          const element = document.querySelector('#df-7cbe07cf-38e8-463a-b698-ae14fea44ca1');\n",
              "          const dataTable =\n",
              "            await google.colab.kernel.invokeFunction('convertToInteractive',\n",
              "                                                     [key], {});\n",
              "          if (!dataTable) return;\n",
              "\n",
              "          const docLinkHtml = 'Like what you see? Visit the ' +\n",
              "            '<a target=\"_blank\" href=https://colab.research.google.com/notebooks/data_table.ipynb>data table notebook</a>'\n",
              "            + ' to learn more about interactive tables.';\n",
              "          element.innerHTML = '';\n",
              "          dataTable['output_type'] = 'display_data';\n",
              "          await google.colab.output.renderOutput(dataTable, element);\n",
              "          const docLink = document.createElement('div');\n",
              "          docLink.innerHTML = docLinkHtml;\n",
              "          element.appendChild(docLink);\n",
              "        }\n",
              "      </script>\n",
              "    </div>\n",
              "  </div>\n",
              "  "
            ]
          },
          "metadata": {},
          "execution_count": 91
        }
      ],
      "source": [
        "train.head()"
      ]
    },
    {
      "cell_type": "code",
      "execution_count": null,
      "id": "b27b1b24",
      "metadata": {
        "colab": {
          "base_uri": "https://localhost:8080/"
        },
        "id": "b27b1b24",
        "outputId": "54dbf2a6-8101-4d53-f181-de7ed1c3f21f"
      },
      "outputs": [
        {
          "output_type": "stream",
          "name": "stdout",
          "text": [
            "(348, 32)\n",
            "[array(['amc', 'audi', 'bmw', 'buick', 'cadillac', 'capri', 'chevrolet',\n",
            "       'chevy', 'chrysler', 'datsun', 'dodge', 'fiat', 'ford', 'honda',\n",
            "       'mazda', 'mercedes', 'mercedes-benz', 'mercury', 'nissan',\n",
            "       'oldsmobile', 'opel', 'peugeot', 'plymouth', 'pontiac', 'renault',\n",
            "       'saab', 'subaru', 'toyota', 'triumph', 'volkswagen', 'volvo', 'vw'],\n",
            "      dtype=object)]\n"
          ]
        }
      ],
      "source": [
        "from sklearn.preprocessing import OneHotEncoder\n",
        "# 1-hot vektoriseerija, ignoreeri tundmatuid väärtusi\n",
        "onehotEnc = OneHotEncoder(handle_unknown = 'ignore')\n",
        "# Õpi\n",
        "onehotEnc.fit(train[['brand']])\n",
        "# Loo 1-hot vektorid\n",
        "onehot = onehotEnc.transform(train[['brand']])\n",
        "# Ennäe, need on õpitud treeningandmetel\n",
        "print(onehot.shape)\n",
        "\n",
        "# Kui on soovi, saab kättte ka tulpade nimed\n",
        "print(onehotEnc.categories_)"
      ]
    },
    {
      "cell_type": "markdown",
      "id": "a49fbee0",
      "metadata": {
        "id": "a49fbee0"
      },
      "source": [
        "Vahel juhtub, et testhulga andmed tulevad meile ükshaaval. Tüüpiliselt näiteks siis, kui mudel juba kliendi käes on ja see tahab ühe konkreetse auto kohta midagi teada. Sel juhul tuleb andmetüüpidega ettevaatlik olla."
      ]
    },
    {
      "cell_type": "code",
      "execution_count": null,
      "id": "44f2dc78",
      "metadata": {
        "colab": {
          "base_uri": "https://localhost:8080/"
        },
        "id": "44f2dc78",
        "outputId": "0ed88ee9-e4bf-46b4-c7b4-7e7813896ef7"
      },
      "outputs": [
        {
          "output_type": "stream",
          "name": "stdout",
          "text": [
            "<class 'pandas.core.frame.DataFrame'>\n",
            "<class 'pandas.core.series.Series'>\n",
            "<class 'pandas.core.series.Series'>\n"
          ]
        }
      ],
      "source": [
        "print(type(autod))\n",
        "print(type(autod.acceleration))\n",
        "print(type(autod.loc[0]))"
      ]
    },
    {
      "cell_type": "markdown",
      "id": "55de4144",
      "metadata": {
        "id": "55de4144"
      },
      "source": [
        "OneHotEncoder rakendatuna **ühele testhulga kirjele** (mitte DataFrame'ile)"
      ]
    },
    {
      "cell_type": "code",
      "execution_count": null,
      "id": "5e73e12e",
      "metadata": {
        "colab": {
          "base_uri": "https://localhost:8080/"
        },
        "id": "5e73e12e",
        "outputId": "3f696539-adeb-455d-de05-645a1f05301b"
      },
      "outputs": [
        {
          "output_type": "stream",
          "name": "stdout",
          "text": [
            "                       20\n",
            "mpg                  25.0\n",
            "cylinders             4.0\n",
            "horsepower           87.0\n",
            "weight               2672\n",
            "acceleration         17.5\n",
            "name          peugeot 504\n",
            "brand             peugeot\n",
            "\n",
            "Transponeeritult:\n",
            "      mpg cylinders horsepower weight acceleration         name    brand\n",
            "20  25.0       4.0       87.0   2672         17.5  peugeot 504  peugeot\n"
          ]
        }
      ],
      "source": [
        "# Teisendame ühe kirje DataFrame'iks - muidu oli ta Series\n",
        "sample = pd.DataFrame(test.loc[20])\n",
        "print(sample)\n",
        "print()\n",
        "# Transponeerime oma kirje, et algsed veerud oleksid ka temal veerud\n",
        "sample= sample.T\n",
        "print(\"Transponeeritult:\\n\",sample)"
      ]
    },
    {
      "cell_type": "code",
      "execution_count": null,
      "id": "c3d8eef3",
      "metadata": {
        "colab": {
          "base_uri": "https://localhost:8080/"
        },
        "id": "c3d8eef3",
        "outputId": "41f3141b-c2d4-4de9-ebbc-b5db10e798d2"
      },
      "outputs": [
        {
          "output_type": "stream",
          "name": "stdout",
          "text": [
            "Teisendatav väärtus 20    peugeot\n",
            "Name: brand, dtype: object\n",
            "\n"
          ]
        },
        {
          "output_type": "execute_result",
          "data": {
            "text/plain": [
              "<1x32 sparse matrix of type '<class 'numpy.float64'>'\n",
              "\twith 1 stored elements in Compressed Sparse Row format>"
            ]
          },
          "metadata": {},
          "execution_count": 95
        }
      ],
      "source": [
        "print(\"Teisendatav väärtus\",sample['brand'])\n",
        "print()\n",
        "# Laseme sellele oma eelnevalt treenitud kodeerija peale\n",
        "teisendus = onehotEnc.transform(sample[['brand']])\n",
        "teisendus\n"
      ]
    },
    {
      "cell_type": "code",
      "execution_count": null,
      "id": "835adefd",
      "metadata": {
        "colab": {
          "base_uri": "https://localhost:8080/"
        },
        "id": "835adefd",
        "outputId": "c24a375f-9044-48e4-8623-b38e59f25b49"
      },
      "outputs": [
        {
          "output_type": "stream",
          "name": "stdout",
          "text": [
            "  (0, 21)\t1.0\n",
            "Ja väärtus 1 on klassides [(21, 'peugeot')]\n"
          ]
        }
      ],
      "source": [
        "print(teisendus)\n",
        "print(\"Ja väärtus 1 on klassides\",[(idx, onehotEnc.categories_[0][idx]) for idx in teisendus.indices])"
      ]
    },
    {
      "cell_type": "code",
      "execution_count": null,
      "id": "e090853e",
      "metadata": {
        "colab": {
          "base_uri": "https://localhost:8080/",
          "height": 227
        },
        "id": "e090853e",
        "outputId": "ff27faf0-f856-4294-ca97-42a7cc423353"
      },
      "outputs": [
        {
          "output_type": "stream",
          "name": "stderr",
          "text": [
            "/usr/local/lib/python3.7/dist-packages/sklearn/utils/deprecation.py:87: FutureWarning: Function get_feature_names is deprecated; get_feature_names is deprecated in 1.0 and will be removed in 1.2. Please use get_feature_names_out instead.\n",
            "  warnings.warn(msg, category=FutureWarning)\n"
          ]
        },
        {
          "output_type": "execute_result",
          "data": {
            "text/plain": [
              "     mpg cylinders horsepower weight acceleration         name    brand  \\\n",
              "20  25.0       4.0       87.0   2672         17.5  peugeot 504  peugeot   \n",
              "\n",
              "    x0_amc  x0_audi  x0_bmw  ...  x0_plymouth  x0_pontiac  x0_renault  \\\n",
              "20     0.0      0.0     0.0  ...          0.0         0.0         0.0   \n",
              "\n",
              "    x0_saab  x0_subaru  x0_toyota  x0_triumph  x0_volkswagen  x0_volvo  x0_vw  \n",
              "20      0.0        0.0        0.0         0.0            0.0       0.0    0.0  \n",
              "\n",
              "[1 rows x 39 columns]"
            ],
            "text/html": [
              "\n",
              "  <div id=\"df-be2ab681-b85f-41b0-911e-474448b68632\">\n",
              "    <div class=\"colab-df-container\">\n",
              "      <div>\n",
              "<style scoped>\n",
              "    .dataframe tbody tr th:only-of-type {\n",
              "        vertical-align: middle;\n",
              "    }\n",
              "\n",
              "    .dataframe tbody tr th {\n",
              "        vertical-align: top;\n",
              "    }\n",
              "\n",
              "    .dataframe thead th {\n",
              "        text-align: right;\n",
              "    }\n",
              "</style>\n",
              "<table border=\"1\" class=\"dataframe\">\n",
              "  <thead>\n",
              "    <tr style=\"text-align: right;\">\n",
              "      <th></th>\n",
              "      <th>mpg</th>\n",
              "      <th>cylinders</th>\n",
              "      <th>horsepower</th>\n",
              "      <th>weight</th>\n",
              "      <th>acceleration</th>\n",
              "      <th>name</th>\n",
              "      <th>brand</th>\n",
              "      <th>x0_amc</th>\n",
              "      <th>x0_audi</th>\n",
              "      <th>x0_bmw</th>\n",
              "      <th>...</th>\n",
              "      <th>x0_plymouth</th>\n",
              "      <th>x0_pontiac</th>\n",
              "      <th>x0_renault</th>\n",
              "      <th>x0_saab</th>\n",
              "      <th>x0_subaru</th>\n",
              "      <th>x0_toyota</th>\n",
              "      <th>x0_triumph</th>\n",
              "      <th>x0_volkswagen</th>\n",
              "      <th>x0_volvo</th>\n",
              "      <th>x0_vw</th>\n",
              "    </tr>\n",
              "  </thead>\n",
              "  <tbody>\n",
              "    <tr>\n",
              "      <th>20</th>\n",
              "      <td>25.0</td>\n",
              "      <td>4.0</td>\n",
              "      <td>87.0</td>\n",
              "      <td>2672</td>\n",
              "      <td>17.5</td>\n",
              "      <td>peugeot 504</td>\n",
              "      <td>peugeot</td>\n",
              "      <td>0.0</td>\n",
              "      <td>0.0</td>\n",
              "      <td>0.0</td>\n",
              "      <td>...</td>\n",
              "      <td>0.0</td>\n",
              "      <td>0.0</td>\n",
              "      <td>0.0</td>\n",
              "      <td>0.0</td>\n",
              "      <td>0.0</td>\n",
              "      <td>0.0</td>\n",
              "      <td>0.0</td>\n",
              "      <td>0.0</td>\n",
              "      <td>0.0</td>\n",
              "      <td>0.0</td>\n",
              "    </tr>\n",
              "  </tbody>\n",
              "</table>\n",
              "<p>1 rows × 39 columns</p>\n",
              "</div>\n",
              "      <button class=\"colab-df-convert\" onclick=\"convertToInteractive('df-be2ab681-b85f-41b0-911e-474448b68632')\"\n",
              "              title=\"Convert this dataframe to an interactive table.\"\n",
              "              style=\"display:none;\">\n",
              "        \n",
              "  <svg xmlns=\"http://www.w3.org/2000/svg\" height=\"24px\"viewBox=\"0 0 24 24\"\n",
              "       width=\"24px\">\n",
              "    <path d=\"M0 0h24v24H0V0z\" fill=\"none\"/>\n",
              "    <path d=\"M18.56 5.44l.94 2.06.94-2.06 2.06-.94-2.06-.94-.94-2.06-.94 2.06-2.06.94zm-11 1L8.5 8.5l.94-2.06 2.06-.94-2.06-.94L8.5 2.5l-.94 2.06-2.06.94zm10 10l.94 2.06.94-2.06 2.06-.94-2.06-.94-.94-2.06-.94 2.06-2.06.94z\"/><path d=\"M17.41 7.96l-1.37-1.37c-.4-.4-.92-.59-1.43-.59-.52 0-1.04.2-1.43.59L10.3 9.45l-7.72 7.72c-.78.78-.78 2.05 0 2.83L4 21.41c.39.39.9.59 1.41.59.51 0 1.02-.2 1.41-.59l7.78-7.78 2.81-2.81c.8-.78.8-2.07 0-2.86zM5.41 20L4 18.59l7.72-7.72 1.47 1.35L5.41 20z\"/>\n",
              "  </svg>\n",
              "      </button>\n",
              "      \n",
              "  <style>\n",
              "    .colab-df-container {\n",
              "      display:flex;\n",
              "      flex-wrap:wrap;\n",
              "      gap: 12px;\n",
              "    }\n",
              "\n",
              "    .colab-df-convert {\n",
              "      background-color: #E8F0FE;\n",
              "      border: none;\n",
              "      border-radius: 50%;\n",
              "      cursor: pointer;\n",
              "      display: none;\n",
              "      fill: #1967D2;\n",
              "      height: 32px;\n",
              "      padding: 0 0 0 0;\n",
              "      width: 32px;\n",
              "    }\n",
              "\n",
              "    .colab-df-convert:hover {\n",
              "      background-color: #E2EBFA;\n",
              "      box-shadow: 0px 1px 2px rgba(60, 64, 67, 0.3), 0px 1px 3px 1px rgba(60, 64, 67, 0.15);\n",
              "      fill: #174EA6;\n",
              "    }\n",
              "\n",
              "    [theme=dark] .colab-df-convert {\n",
              "      background-color: #3B4455;\n",
              "      fill: #D2E3FC;\n",
              "    }\n",
              "\n",
              "    [theme=dark] .colab-df-convert:hover {\n",
              "      background-color: #434B5C;\n",
              "      box-shadow: 0px 1px 3px 1px rgba(0, 0, 0, 0.15);\n",
              "      filter: drop-shadow(0px 1px 2px rgba(0, 0, 0, 0.3));\n",
              "      fill: #FFFFFF;\n",
              "    }\n",
              "  </style>\n",
              "\n",
              "      <script>\n",
              "        const buttonEl =\n",
              "          document.querySelector('#df-be2ab681-b85f-41b0-911e-474448b68632 button.colab-df-convert');\n",
              "        buttonEl.style.display =\n",
              "          google.colab.kernel.accessAllowed ? 'block' : 'none';\n",
              "\n",
              "        async function convertToInteractive(key) {\n",
              "          const element = document.querySelector('#df-be2ab681-b85f-41b0-911e-474448b68632');\n",
              "          const dataTable =\n",
              "            await google.colab.kernel.invokeFunction('convertToInteractive',\n",
              "                                                     [key], {});\n",
              "          if (!dataTable) return;\n",
              "\n",
              "          const docLinkHtml = 'Like what you see? Visit the ' +\n",
              "            '<a target=\"_blank\" href=https://colab.research.google.com/notebooks/data_table.ipynb>data table notebook</a>'\n",
              "            + ' to learn more about interactive tables.';\n",
              "          element.innerHTML = '';\n",
              "          dataTable['output_type'] = 'display_data';\n",
              "          await google.colab.output.renderOutput(dataTable, element);\n",
              "          const docLink = document.createElement('div');\n",
              "          docLink.innerHTML = docLinkHtml;\n",
              "          element.appendChild(docLink);\n",
              "        }\n",
              "      </script>\n",
              "    </div>\n",
              "  </div>\n",
              "  "
            ]
          },
          "metadata": {},
          "execution_count": 97
        }
      ],
      "source": [
        "# Kuidas uued väärtused DataFrame'iks saada\n",
        "# Tulbanimed saab OneHotEncoderilt, reaineksid meie sample'ilt endalt.\n",
        "sample_onehot = pd.DataFrame.sparse.from_spmatrix(teisendus, columns=onehotEnc.get_feature_names(), index=sample.index)\n",
        "# Lisame uued tulbad vanadele juurde, pane reanumbri järgi kokku\n",
        "sample_uus = pd.concat([sample, sample_onehot], axis=1)\n",
        "sample_uus"
      ]
    },
    {
      "cell_type": "code",
      "execution_count": null,
      "id": "64dc0ee4",
      "metadata": {
        "colab": {
          "base_uri": "https://localhost:8080/"
        },
        "id": "64dc0ee4",
        "outputId": "5c05808a-7ea6-4843-b97d-924df2f038b9"
      },
      "outputs": [
        {
          "output_type": "execute_result",
          "data": {
            "text/plain": [
              "mpg                        25.0\n",
              "cylinders                   4.0\n",
              "horsepower                 87.0\n",
              "weight                     2672\n",
              "acceleration               17.5\n",
              "name                peugeot 504\n",
              "brand                   peugeot\n",
              "x0_amc                        0\n",
              "x0_audi                       0\n",
              "x0_bmw                        0\n",
              "x0_buick                      0\n",
              "x0_cadillac                   0\n",
              "x0_capri                      0\n",
              "x0_chevrolet                  0\n",
              "x0_chevy                      0\n",
              "x0_chrysler                   0\n",
              "x0_datsun                     0\n",
              "x0_dodge                      0\n",
              "x0_fiat                       0\n",
              "x0_ford                       0\n",
              "x0_honda                      0\n",
              "x0_mazda                      0\n",
              "x0_mercedes                   0\n",
              "x0_mercedes-benz              0\n",
              "x0_mercury                    0\n",
              "x0_nissan                     0\n",
              "x0_oldsmobile                 0\n",
              "x0_opel                       0\n",
              "x0_peugeot                  1.0\n",
              "x0_plymouth                   0\n",
              "x0_pontiac                    0\n",
              "x0_renault                    0\n",
              "x0_saab                       0\n",
              "x0_subaru                     0\n",
              "x0_toyota                     0\n",
              "x0_triumph                    0\n",
              "x0_volkswagen                 0\n",
              "x0_volvo                      0\n",
              "x0_vw                         0\n",
              "Name: 20, dtype: Sparse[object, 0]"
            ]
          },
          "metadata": {},
          "execution_count": 98
        }
      ],
      "source": [
        "# Natuke parema loetavuse huvides\n",
        "sample_uus.iloc[0]\n",
        "# iloc - lihtsalt loenda, ära reaindeksitest hooli\n",
        "# või siis\n",
        "# sample_uus.loc[20]"
      ]
    },
    {
      "cell_type": "code",
      "execution_count": null,
      "id": "b719484d",
      "metadata": {
        "colab": {
          "base_uri": "https://localhost:8080/"
        },
        "id": "b719484d",
        "outputId": "a916cfee-f8db-4d36-96a4-0c3d3dc384cc"
      },
      "outputs": [
        {
          "output_type": "stream",
          "name": "stdout",
          "text": [
            "coolcoolcool\n"
          ]
        }
      ],
      "source": [
        "print('coolcoolcool')"
      ]
    }
  ],
  "metadata": {
    "kernelspec": {
      "display_name": "Python 3 (ipykernel)",
      "language": "python",
      "name": "python3"
    },
    "language_info": {
      "codemirror_mode": {
        "name": "ipython",
        "version": 3
      },
      "file_extension": ".py",
      "mimetype": "text/x-python",
      "name": "python",
      "nbconvert_exporter": "python",
      "pygments_lexer": "ipython3",
      "version": "3.7.11"
    },
    "colab": {
      "provenance": [],
      "collapsed_sections": []
    }
  },
  "nbformat": 4,
  "nbformat_minor": 5
}